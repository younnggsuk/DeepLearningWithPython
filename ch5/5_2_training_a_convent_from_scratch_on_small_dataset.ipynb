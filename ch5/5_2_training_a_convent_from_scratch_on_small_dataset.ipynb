{
 "cells": [
  {
   "cell_type": "markdown",
   "metadata": {},
   "source": [
    "# 5.2 소규모 데이터셋에서 밑바닥부터 컨브넷 훈련하기\n",
    "\n",
    "소규모 데이터셋\n",
    "- 보통 수백개에서 수만개의 데이터 수를 소규모 데이터셋이라고 함\n",
    "- 컴퓨터 비전 작업에서는 소규모 데이터셋을 사용하는 경우가 흔함\n",
    "\n",
    "\n",
    "### 소규모 데이터 셋을 이용한 컴퓨터 비전 이미지 분류 문제 수행 방법 3가지\n",
    "1. 보유한 소규모 데이터셋을 사용해 처음부터 새로운 모델을 훈련하기(5.2절)\n",
    "    - 작은 convnet을 regularization을 사용하지 않고 훈련해 기본 성능 모델 만들기\n",
    "        - Overfitting이 주요 이슈\n",
    "    - **Data Augmentation**을 이용해 성능 높이기\n",
    "    \n",
    "\n",
    "2. **사전 훈련된 네트워크에서 특성 추출하기**(5.3절)\n",
    "3. **사전 훈련된 네트워크를 세밀하게 튜닝하기**(5.3절)"
   ]
  },
  {
   "cell_type": "markdown",
   "metadata": {},
   "source": [
    "## 5.2.1 작은 데이터셋 문제에서 딥러닝의 타당성\n",
    "\n",
    "### 데이터의 수\n",
    "\n",
    "- 많은 데이터가 의미하는 것은 상대적이며 특히 **훈련하려는 네트워크의 크기와 깊이에 상대적**임\n",
    "- 복잡한 문제를 푸는 컨브넷을 수십개의 샘플만 사용해서 훈련하는 것은 불가능\n",
    "- **모델이 작고 regularization이 잘 되어 있으며 간단한 작업이라면 수백개의 샘플로도 충분할 수 있음**\n",
    "\n",
    "\n",
    "### 딥러닝 모델의 재사용\n",
    "- **대규모 데이터셋에서 훈련시킨 모델을 조금만 변경해서 완전히 다른 문제에 재사용 할 수 있음**\n",
    "- 특히 컴퓨터 비전에서는 사전 훈련된 모델들이 많이 공개되어 있으므로 매우 적은 데이터에서 강력한 비전 모델을 만드는데 사용할 수 있음"
   ]
  },
  {
   "cell_type": "markdown",
   "metadata": {},
   "source": [
    "## 5.2.2 데이터 내려받기\n",
    "\n",
    "Kaggle의 Dogs vs. Cats dataset 사용\n",
    "- https://www.kaggle.com/c/dogs-vs-cats/data\n",
    "- 총 25000개의 데이터(강아지 12500개, 고양이 12500개)가 있음\n",
    "\n",
    "\n",
    "사용할 데이터 수\n",
    "- 총 2000개의 training set(class별 1000개)\n",
    "- 총 1000개의 validation set(class별 500개)\n",
    "- 총 1000개의 test set(class별 500개)"
   ]
  },
  {
   "cell_type": "code",
   "execution_count": 1,
   "metadata": {},
   "outputs": [],
   "source": [
    "# 데이터셋 디렉토리 만들기\n",
    "\n",
    "import os, shutil\n",
    "\n",
    "dataset_origin = './datasets/cats_and_dogs/origin'\n",
    "\n",
    "base_dir = './datasets/cats_and_dogs/small'\n",
    "train_dir = os.path.join(base_dir, 'train')\n",
    "val_dir = os.path.join(base_dir, 'val')\n",
    "test_dir = os.path.join(base_dir, 'test')\n",
    "\n",
    "train_cats_dir = os.path.join(train_dir, 'cats')\n",
    "train_dogs_dir = os.path.join(train_dir, 'dogs')\n",
    "val_cats_dir = os.path.join(val_dir, 'cats')\n",
    "val_dogs_dir = os.path.join(val_dir, 'dogs')\n",
    "test_cats_dir = os.path.join(test_dir, 'cats')\n",
    "test_dogs_dir = os.path.join(test_dir, 'dogs')\n",
    "\n",
    "save_dir = os.path.join(base_dir, 'saved_models')\n",
    "\n",
    "\n",
    "if not os.path.isdir(save_dir) :\n",
    "    os.mkdir(save_dir)\n",
    "\n",
    "if not os.path.isdir(base_dir) :\n",
    "    os.mkdir(base_dir)\n",
    "    \n",
    "if not os.path.isdir(train_dir) :\n",
    "    os.mkdir(train_dir)\n",
    "    \n",
    "if not os.path.isdir(val_dir) :\n",
    "    os.mkdir(val_dir)\n",
    "    \n",
    "if not os.path.isdir(test_dir) :\n",
    "    os.mkdir(test_dir)\n",
    "\n",
    "if not os.path.isdir(train_cats_dir) :\n",
    "    os.mkdir(train_cats_dir)\n",
    "    \n",
    "if not os.path.isdir(train_dogs_dir) :\n",
    "    os.mkdir(train_dogs_dir)\n",
    "    \n",
    "if not os.path.isdir(val_cats_dir) :\n",
    "    os.mkdir(val_cats_dir)\n",
    "    \n",
    "if not os.path.isdir(val_dogs_dir) :\n",
    "    os.mkdir(val_dogs_dir)\n",
    "    \n",
    "if not os.path.isdir(test_cats_dir) :\n",
    "    os.mkdir(test_cats_dir)\n",
    "    \n",
    "if not os.path.isdir(test_dogs_dir) :\n",
    "    os.mkdir(test_dogs_dir)"
   ]
  },
  {
   "cell_type": "code",
   "execution_count": 2,
   "metadata": {},
   "outputs": [
    {
     "name": "stdout",
     "output_type": "stream",
     "text": [
      "1000\n",
      "1000\n",
      "500\n",
      "500\n",
      "500\n",
      "500\n"
     ]
    }
   ],
   "source": [
    "# 데이터 복사 \n",
    "\n",
    "imgs = [\"cat.{0}.jpg\".format(i) for i in range(1000)]\n",
    "for img in imgs:\n",
    "    src = os.path.join(dataset_origin, img)\n",
    "    dst = os.path.join(train_cats_dir, img)\n",
    "    shutil.copy(src, dst)\n",
    "    \n",
    "imgs = [\"cat.{0}.jpg\".format(i) for i in range(1000, 1500)]\n",
    "for img in imgs:\n",
    "    src = os.path.join(dataset_origin, img)\n",
    "    dst = os.path.join(val_cats_dir, img)\n",
    "    shutil.copy(src, dst)\n",
    "    \n",
    "imgs = [\"cat.{0}.jpg\".format(i) for i in range(1500, 2000)]\n",
    "for img in imgs:\n",
    "    src = os.path.join(dataset_origin, img)\n",
    "    dst = os.path.join(test_cats_dir, img)\n",
    "    shutil.copy(src, dst)\n",
    "    \n",
    "\n",
    "imgs = [\"dog.{0}.jpg\".format(i) for i in range(1000)]\n",
    "for img in imgs:\n",
    "    src = os.path.join(dataset_origin, img)\n",
    "    dst = os.path.join(train_dogs_dir, img)\n",
    "    shutil.copy(src, dst)\n",
    "    \n",
    "imgs = [\"dog.{0}.jpg\".format(i) for i in range(1000, 1500)]\n",
    "for img in imgs:\n",
    "    src = os.path.join(dataset_origin, img)\n",
    "    dst = os.path.join(val_dogs_dir, img)\n",
    "    shutil.copy(src, dst)\n",
    "    \n",
    "imgs = [\"dog.{0}.jpg\".format(i) for i in range(1500, 2000)]\n",
    "for img in imgs:\n",
    "    src = os.path.join(dataset_origin, img)\n",
    "    dst = os.path.join(test_dogs_dir, img)\n",
    "    shutil.copy(src, dst)\n",
    "    \n",
    "print(len(os.listdir(train_cats_dir)))\n",
    "print(len(os.listdir(train_dogs_dir)))\n",
    "print(len(os.listdir(val_cats_dir)))\n",
    "print(len(os.listdir(val_dogs_dir)))\n",
    "print(len(os.listdir(test_cats_dir)))\n",
    "print(len(os.listdir(test_dogs_dir)))"
   ]
  },
  {
   "cell_type": "markdown",
   "metadata": {},
   "source": [
    "## 5.2.3 네트워크 구성하기\n",
    "\n",
    "일반적인 구조의 간단한 Convnet을 만듦\n",
    "- Conv2D, MaxPooling2D를 번갈아 쌓은 구조\n",
    "- relu activation 사용\n",
    "- feature map의 깊이는 점차 깊어짐\n",
    "- feature map의 크기는 점차 감소\n",
    "\n",
    "MNIST보다 이미지가 크고 복잡한 문제이므로 네트워크를 조금 더 크게 만듦\n",
    "- Conv2D, MaxPooling2D을 하나씩 더 추가\n",
    "    - Network의 용량은 증가\n",
    "    - Flatten 후의 feature map 크기 감소\n"
   ]
  },
  {
   "cell_type": "code",
   "execution_count": 3,
   "metadata": {},
   "outputs": [
    {
     "name": "stderr",
     "output_type": "stream",
     "text": [
      "Using TensorFlow backend.\n"
     ]
    },
    {
     "name": "stdout",
     "output_type": "stream",
     "text": [
      "Model: \"sequential_1\"\n",
      "_________________________________________________________________\n",
      "Layer (type)                 Output Shape              Param #   \n",
      "=================================================================\n",
      "conv2d_1 (Conv2D)            (None, 148, 148, 32)      896       \n",
      "_________________________________________________________________\n",
      "max_pooling2d_1 (MaxPooling2 (None, 74, 74, 32)        0         \n",
      "_________________________________________________________________\n",
      "conv2d_2 (Conv2D)            (None, 72, 72, 64)        18496     \n",
      "_________________________________________________________________\n",
      "max_pooling2d_2 (MaxPooling2 (None, 36, 36, 64)        0         \n",
      "_________________________________________________________________\n",
      "conv2d_3 (Conv2D)            (None, 34, 34, 128)       73856     \n",
      "_________________________________________________________________\n",
      "max_pooling2d_3 (MaxPooling2 (None, 17, 17, 128)       0         \n",
      "_________________________________________________________________\n",
      "conv2d_4 (Conv2D)            (None, 15, 15, 128)       147584    \n",
      "_________________________________________________________________\n",
      "max_pooling2d_4 (MaxPooling2 (None, 7, 7, 128)         0         \n",
      "_________________________________________________________________\n",
      "flatten_1 (Flatten)          (None, 6272)              0         \n",
      "_________________________________________________________________\n",
      "dense_1 (Dense)              (None, 512)               3211776   \n",
      "_________________________________________________________________\n",
      "dense_2 (Dense)              (None, 1)                 513       \n",
      "=================================================================\n",
      "Total params: 3,453,121\n",
      "Trainable params: 3,453,121\n",
      "Non-trainable params: 0\n",
      "_________________________________________________________________\n"
     ]
    }
   ],
   "source": [
    "# Convnet\n",
    "\n",
    "from keras import layers\n",
    "from keras import models\n",
    "\n",
    "model = models.Sequential()\n",
    "\n",
    "model.add(layers.Conv2D(32, (3, 3), activation='relu', input_shape=(150, 150, 3)))\n",
    "model.add(layers.MaxPooling2D((2, 2)))\n",
    "\n",
    "model.add(layers.Conv2D(64, (3, 3), activation='relu'))\n",
    "model.add(layers.MaxPooling2D((2, 2)))\n",
    "\n",
    "model.add(layers.Conv2D(128, (3, 3), activation='relu'))\n",
    "model.add(layers.MaxPooling2D((2, 2)))\n",
    "\n",
    "model.add(layers.Conv2D(128, (3, 3), activation='relu'))\n",
    "model.add(layers.MaxPooling2D((2, 2)))\n",
    "\n",
    "model.add(layers.Flatten())\n",
    "\n",
    "model.add(layers.Dense(512, activation='relu'))\n",
    "\n",
    "model.add(layers.Dense(1, activation='sigmoid'))\n",
    "\n",
    "model.summary()"
   ]
  },
  {
   "cell_type": "code",
   "execution_count": 4,
   "metadata": {},
   "outputs": [],
   "source": [
    "from keras import optimizers\n",
    "\n",
    "model.compile(loss='binary_crossentropy',\n",
    "              optimizer=optimizers.RMSprop(lr=1e-4),\n",
    "              metrics=['acc'])"
   ]
  },
  {
   "cell_type": "markdown",
   "metadata": {},
   "source": [
    "## 5.2.4 데이터 전처리\n",
    "\n",
    "데이터 전처리 과정\n",
    "1. 사진 파일 읽기\n",
    "2. jpeg 콘텐츠를 RGB 픽셀 값으로 디코딩\n",
    "3. float type의 텐서로 변환\n",
    "4. 픽셀 값(0\\~255)을 0\\~1 사이로 조정\n",
    "\n",
    "위 4가지 과정을 아래의 케라스의 도구들을 사용해 구현\n",
    "- `keras.preprocessing.image`\n",
    "    - 이미지 처리를 위한 helper 도구\n",
    "    \n",
    "    \n",
    "- `ImageDataGenerator` 클래스\n",
    "    - 디스크의 이미지 파일을 전처리된 배치 텐서로 바꾸어주는 파이썬 generator를 만들어 줌\n",
    "    - iterator와 generator는 전체 항목을 미리 만들지 않으므로 메모리에 효율적\n",
    "    \n",
    "- `fit_generator()`\n",
    "    - `fit()`과 동일하지만 generator를 사용할 수 있음\n",
    "    - `steps_per_epoch` 매개변수\n",
    "        - 하나의 epoch당 뽑을 batch 수\n",
    "        - 한 epoch마다 `steps_per_epoch`개의 batch만큼 뽑은 후 `steps_per_epoch` 횟수 만큼 경사하강법 단계를 실행\n",
    "    - `validation_data` 매개변수\n",
    "        - 검증 데이터를 generator로 전달\n",
    "        - `steps_per_epoch`마찬가지로 `validation_steps` 매개변수를 통해 하나의 epoch당 뽑을 검증 데이터의 batch 수 지정"
   ]
  },
  {
   "cell_type": "code",
   "execution_count": 5,
   "metadata": {},
   "outputs": [
    {
     "name": "stdout",
     "output_type": "stream",
     "text": [
      "Found 2000 images belonging to 2 classes.\n",
      "Found 1000 images belonging to 2 classes.\n"
     ]
    }
   ],
   "source": [
    "from keras.preprocessing.image import ImageDataGenerator\n",
    "\n",
    "train_datagen = ImageDataGenerator(rescale=1./255)\n",
    "val_datagen = ImageDataGenerator(rescale=1./255)\n",
    "\n",
    "# ImageDataGenerator.flow_from_directory()에 전달된 매개변수 설명\n",
    "# train_dir : target 디렉토리, 각 클래스 이름으로 된 디렉토리들이 있음\n",
    "# target_size=(150, 150) : 이미지를 150x150 크기로 바꿈\n",
    "# class_mode : 이진분류 - 'binary'\n",
    "#              다중분류(one-hot encoding) - 'categorical'\n",
    "#              다중분류(정수 레이블) - 'sparse'\n",
    "\n",
    "train_generator = train_datagen.flow_from_directory(\n",
    "        train_dir,\n",
    "        target_size=(150, 150),\n",
    "        batch_size=20,\n",
    "        class_mode='binary')\n",
    "\n",
    "    \n",
    "val_generator = val_datagen.flow_from_directory(\n",
    "        val_dir,\n",
    "        target_size=(150, 150),\n",
    "        batch_size=20,\n",
    "        class_mode='binary')"
   ]
  },
  {
   "cell_type": "code",
   "execution_count": 6,
   "metadata": {
    "scrolled": true
   },
   "outputs": [
    {
     "name": "stdout",
     "output_type": "stream",
     "text": [
      "Epoch 1/30\n",
      "100/100 [==============================] - 6s 56ms/step - loss: 0.6879 - acc: 0.5520 - val_loss: 0.6704 - val_acc: 0.5000\n",
      "Epoch 2/30\n",
      "100/100 [==============================] - 5s 45ms/step - loss: 0.6720 - acc: 0.5890 - val_loss: 0.6562 - val_acc: 0.6450\n",
      "Epoch 3/30\n",
      "100/100 [==============================] - 5s 45ms/step - loss: 0.6313 - acc: 0.6520 - val_loss: 0.5259 - val_acc: 0.6020\n",
      "Epoch 4/30\n",
      "100/100 [==============================] - 5s 45ms/step - loss: 0.5837 - acc: 0.6935 - val_loss: 0.6479 - val_acc: 0.6640\n",
      "Epoch 5/30\n",
      "100/100 [==============================] - 5s 46ms/step - loss: 0.5468 - acc: 0.7135 - val_loss: 0.6660 - val_acc: 0.6450\n",
      "Epoch 6/30\n",
      "100/100 [==============================] - 5s 46ms/step - loss: 0.5219 - acc: 0.7330 - val_loss: 0.5068 - val_acc: 0.7180\n",
      "Epoch 7/30\n",
      "100/100 [==============================] - 5s 47ms/step - loss: 0.4831 - acc: 0.7630 - val_loss: 0.5308 - val_acc: 0.7180\n",
      "Epoch 8/30\n",
      "100/100 [==============================] - 5s 46ms/step - loss: 0.4625 - acc: 0.7735 - val_loss: 0.5273 - val_acc: 0.7220\n",
      "Epoch 9/30\n",
      "100/100 [==============================] - 5s 47ms/step - loss: 0.4303 - acc: 0.8035 - val_loss: 0.6468 - val_acc: 0.7250\n",
      "Epoch 10/30\n",
      "100/100 [==============================] - 5s 47ms/step - loss: 0.4099 - acc: 0.8170 - val_loss: 0.6727 - val_acc: 0.7190\n",
      "Epoch 11/30\n",
      "100/100 [==============================] - 5s 47ms/step - loss: 0.3834 - acc: 0.8290 - val_loss: 0.3401 - val_acc: 0.7250\n",
      "Epoch 12/30\n",
      "100/100 [==============================] - 5s 47ms/step - loss: 0.3572 - acc: 0.8460 - val_loss: 1.0664 - val_acc: 0.6730\n",
      "Epoch 13/30\n",
      "100/100 [==============================] - 5s 47ms/step - loss: 0.3367 - acc: 0.8520 - val_loss: 0.3472 - val_acc: 0.7220\n",
      "Epoch 14/30\n",
      "100/100 [==============================] - 5s 48ms/step - loss: 0.3058 - acc: 0.8745 - val_loss: 0.5706 - val_acc: 0.7080\n",
      "Epoch 15/30\n",
      "100/100 [==============================] - 5s 47ms/step - loss: 0.2865 - acc: 0.8785 - val_loss: 0.6262 - val_acc: 0.7180\n",
      "Epoch 16/30\n",
      "100/100 [==============================] - 5s 46ms/step - loss: 0.2653 - acc: 0.8940 - val_loss: 0.7387 - val_acc: 0.7120\n",
      "Epoch 17/30\n",
      "100/100 [==============================] - 5s 47ms/step - loss: 0.2452 - acc: 0.9025 - val_loss: 0.6460 - val_acc: 0.7380\n",
      "Epoch 18/30\n",
      "100/100 [==============================] - 5s 49ms/step - loss: 0.2175 - acc: 0.9160 - val_loss: 0.8787 - val_acc: 0.7220\n",
      "Epoch 19/30\n",
      "100/100 [==============================] - 5s 48ms/step - loss: 0.2085 - acc: 0.9135 - val_loss: 0.4919 - val_acc: 0.7270\n",
      "Epoch 20/30\n",
      "100/100 [==============================] - 5s 47ms/step - loss: 0.1799 - acc: 0.9355 - val_loss: 1.7884 - val_acc: 0.7090\n",
      "Epoch 21/30\n",
      "100/100 [==============================] - 5s 48ms/step - loss: 0.1663 - acc: 0.9400 - val_loss: 0.6487 - val_acc: 0.7330\n",
      "Epoch 22/30\n",
      "100/100 [==============================] - 5s 48ms/step - loss: 0.1397 - acc: 0.9590 - val_loss: 0.5515 - val_acc: 0.7360\n",
      "Epoch 23/30\n",
      "100/100 [==============================] - 5s 48ms/step - loss: 0.1310 - acc: 0.9555 - val_loss: 0.9489 - val_acc: 0.7350\n",
      "Epoch 24/30\n",
      "100/100 [==============================] - 5s 48ms/step - loss: 0.1053 - acc: 0.9675 - val_loss: 0.4141 - val_acc: 0.7400\n",
      "Epoch 25/30\n",
      "100/100 [==============================] - 5s 47ms/step - loss: 0.0984 - acc: 0.9680 - val_loss: 0.9953 - val_acc: 0.7200\n",
      "Epoch 26/30\n",
      "100/100 [==============================] - 5s 48ms/step - loss: 0.0818 - acc: 0.9770 - val_loss: 0.3569 - val_acc: 0.7410\n",
      "Epoch 27/30\n",
      "100/100 [==============================] - 5s 49ms/step - loss: 0.0678 - acc: 0.9820 - val_loss: 0.7917 - val_acc: 0.7260\n",
      "Epoch 28/30\n",
      "100/100 [==============================] - 5s 49ms/step - loss: 0.0570 - acc: 0.9860 - val_loss: 0.9414 - val_acc: 0.7410\n",
      "Epoch 29/30\n",
      "100/100 [==============================] - 5s 48ms/step - loss: 0.0476 - acc: 0.9890 - val_loss: 1.1868 - val_acc: 0.7330\n",
      "Epoch 30/30\n",
      "100/100 [==============================] - 5s 47ms/step - loss: 0.0479 - acc: 0.9890 - val_loss: 1.4469 - val_acc: 0.7170\n"
     ]
    }
   ],
   "source": [
    "history = model.fit_generator(\n",
    "    train_generator,\n",
    "    steps_per_epoch=100, # 1epoch당 100번의 batch : 1epoch당 총 20*100 = 2000개\n",
    "    epochs=30,\n",
    "    validation_data=val_generator,\n",
    "    validation_steps=50 # 1epoch당 50번의 batch : 1epoch당 총 20*50 = 2000개\n",
    ")"
   ]
  },
  {
   "cell_type": "code",
   "execution_count": 7,
   "metadata": {},
   "outputs": [],
   "source": [
    "model.save(os.path.join(save_dir, 'cats_and_dogs_small_1.h5'))"
   ]
  },
  {
   "cell_type": "code",
   "execution_count": 8,
   "metadata": {},
   "outputs": [
    {
     "data": {
      "image/png": "[encoded data removed]",
      "text/plain": [
       "<Figure size 432x288 with 1 Axes>"
      ]
     },
     "metadata": {
      "needs_background": "light"
     },
     "output_type": "display_data"
    },
    {
     "data": {
      "image/png": "[encoded data removed]",
      "text/plain": [
       "<Figure size 432x288 with 1 Axes>"
      ]
     },
     "metadata": {
      "needs_background": "light"
     },
     "output_type": "display_data"
    }
   ],
   "source": [
    "import matplotlib.pyplot as plt\n",
    "\n",
    "acc = history.history['acc']\n",
    "val_acc = history.history['val_acc']\n",
    "loss = history.history['loss']\n",
    "val_loss = history.history['val_loss']\n",
    "\n",
    "epochs = range(1, len(acc) + 1)\n",
    "\n",
    "plt.plot(epochs, acc, 'k', label='Training Accuracy')\n",
    "plt.plot(epochs, val_acc, 'b', label='Validation Accuracy')\n",
    "plt.title('Accuracy')\n",
    "plt.legend()\n",
    "\n",
    "plt.figure()\n",
    "\n",
    "plt.plot(epochs, loss, 'k', label='Training loss')\n",
    "plt.plot(epochs, val_loss, 'b', label='Validation_loss')\n",
    "plt.title('Loss')\n",
    "plt.legend()\n",
    "\n",
    "plt.show()"
   ]
  },
  {
   "cell_type": "markdown",
   "metadata": {},
   "source": [
    "**결과 분석**\n",
    "- Overfitting이 일어남\n",
    "    - 훈련 샘플의 수가 적어서 Overfitting이 가장 중요한 문제\n"
   ]
  }
 ],
 "metadata": {
  "kernelspec": {
   "display_name": "Python 3",
   "language": "python",
   "name": "python3"
  },
  "language_info": {
   "codemirror_mode": {
    "name": "ipython",
    "version": 3
   },
   "file_extension": ".py",
   "mimetype": "text/x-python",
   "name": "python",
   "nbconvert_exporter": "python",
   "pygments_lexer": "ipython3",
   "version": "3.7.5"
  }
 },
 "nbformat": 4,
 "nbformat_minor": 2
}
