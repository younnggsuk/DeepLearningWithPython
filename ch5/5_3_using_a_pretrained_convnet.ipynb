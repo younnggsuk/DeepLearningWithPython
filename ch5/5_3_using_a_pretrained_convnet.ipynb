{
 "cells": [
  {
   "cell_type": "markdown",
   "metadata": {},
   "source": [
    "# 5.3 사전 훈련된 컨브넷 사용하기\n",
    "\n",
    "### 사전 훈련된 네트워크(pretrained network)\n",
    "- pretrained network는 일반적으로 대규모 이미지 분류 문제를 위해 대량의 데이터셋에서 미리 훈련된 네트워크를 뜻함\n",
    "- pretrained network를 사용하는 것은 작은 이미지 데이터셋에 딥러닝을 적용하는 일반적이고 효과적인 방법\n",
    "\n",
    "\n",
    "- **일반적이고 충분히 큰 데이터셋에 훈련된 네트워크의 특성 계층 구조는 실제 세상에 대한 일반적인 모델로 효율적인 역할을 할 수 있음**\n",
    "- 위와 같은 유연성은 얕은 학습과 비교해서 딥러닝의 핵심 장점이라고 할 수 있음\n",
    "- 이런 특성은 완전히 다른 클래스의 경우라도 많은 컴퓨터 비전 문제에서 유용함\n",
    "\n",
    "\n",
    "- 여기서는 ImageNet 데이터셋으로 학습된 VGG16 모델을 사용\n",
    "    - ImageNet Dataset은 1400만개의 이미지와 1000개의 class를 가짐\n",
    "    - VGG16 말고도 다른 많은 모델들에도 적용이 가능하지만 간단해서 사용\n",
    "    \n",
    "\n",
    "## Pretrained network 사용 방법 2가지\n",
    "1. **특성 추출(Feature Extraction)**\n",
    "2. **미세 조정(Fine Tuning)**"
   ]
  },
  {
   "cell_type": "markdown",
   "metadata": {},
   "source": [
    "## 5.3.1 특성 추출 (Feature Extraction)\n",
    "\n",
    "### 특성 추출\n",
    "- 특성 추출은 사전에 학습된 네트워크의 표현을 사용해 새로운 샘플의 특성을 뽑아내는 것\n",
    "\n",
    "\n",
    "### Convnet의 특성 추출\n",
    "- Convnet의 구성\n",
    "    - 합성곱 기반 층\n",
    "        - Convolutional layer\n",
    "        - Pooling layer\n",
    "    - 완전 연결 분류기\n",
    "        - Fully connected layer\n",
    "\n",
    "\n",
    "- 1번째 합성곱 기반 층은 동결시킨 후 재사용\n",
    "- 2번째 완전 연결 분류기는 새로 학습시킴\n",
    "- 따라서 **동결된 합성곱 기반 층의 출력을 이용해 2번째 완전 연결 분류기를 새로 학습시키는 방식**\n",
    "\n",
    "\n",
    "### 합성곱 층만 재사용 하는 이유\n",
    "- **합성곱 층에 의해 학습된 표현이 더 일반적이므로** 여러 컴퓨터비전 문제에서 유용하게 사용 가능함\n",
    "- convnet의 feature map은 사진에 대해 일반적인 컨셉의 존재 여부를 기록한 맵임\n",
    "- **완전 연결 층은 어떤 클래스가 존재할 확률에 관한 정보만 담고있으므로 클래스가 겹치지 않는 경우에는 재사용 하지 않음**\n",
    "- 참고) ImageNet에는 고양이와 강아지가 있어서 완전 연결 층도 재사용하는 것이 더 도움이 되지만 새로운 문제의 클래스가 원본 모델의 클래스와 겹치지 않는 일반적인 경우를 다루기 위해 사용하지 않았음\n",
    "\n",
    "\n",
    "### 합성곱 층의 추출 정도\n",
    "- **합성곱 층에서 추출한 표현의 일반성(재사용성)은 모델 층의 깊이에 달려있음**\n",
    "- 모델의 **하위 층은 지역적(엣지, 색깔, 질감 등)이고 일반적인 특성맵**으로 구성됨\n",
    "- 모델의 **상위 층은 고수준(강아지 눈이나 고양이 귀 등)의 추상적인 특성맵**으로 구성됨\n",
    "- **사용할 데이터 셋이 원본 모델에 사용된 데이터 셋과 많이 다르다면 전체 합성곱 층을 재사용 하는 것 보다는 하위 층 일부만 추출해 사용하는 것이 좋음**"
   ]
  },
  {
   "cell_type": "markdown",
   "metadata": {},
   "source": [
    "### VGG 모델 가져오기\n",
    "\n",
    "케라스의 `keras.applications`모듈을 이용해 구현\n",
    "\n",
    "- `keras.applications` 모듈\n",
    "    - 여러 이미지 분류 모델을 import해서 사용할 수 있음(이 절에서 VGG16 모델을 가져올 때 사용)\n",
    "    - 사용 가능한 여러 모델이 있음(모두 ImageNet에서 훈련된 모델)\n",
    "        - Xception\n",
    "        - Inception V3\n",
    "        - ResNet50\n",
    "        - VGG16\n",
    "        - VGG19\n",
    "        - MobileNet\n",
    "        \n",
    "- `VGG16()`의 매개변수들\n",
    "\n",
    "    - `weights`\n",
    "        - 초기화할 가중치 체크포인트\n",
    "        - None 지정 시 random initialization\n",
    "        - 'imagenet' 지정 시 imagenet에 pretrained된 가중치\n",
    "\n",
    "    - `include_top`\n",
    "        - 최상위 완전 연결 분류기의 포함 여부\n",
    "\n",
    "    - `input_shape`\n",
    "        - 네트워크에 주입할 이미지 텐서 크기\n",
    "        - 이 값을 지정하지 않으면 어떤 크기의 입력도 처리할 수 있음\n",
    "        - include_top이 True였다면 완전 연결 분류기가 추가되므로 원본 모델과 동일한 (224, 224, 3)이 되어야 함"
   ]
  },
  {
   "cell_type": "code",
   "execution_count": 1,
   "metadata": {
    "scrolled": true
   },
   "outputs": [
    {
     "name": "stderr",
     "output_type": "stream",
     "text": [
      "Using TensorFlow backend.\n"
     ]
    },
    {
     "name": "stdout",
     "output_type": "stream",
     "text": [
      "Model: \"vgg16\"\n",
      "_________________________________________________________________\n",
      "Layer (type)                 Output Shape              Param #   \n",
      "=================================================================\n",
      "input_1 (InputLayer)         (None, 150, 150, 3)       0         \n",
      "_________________________________________________________________\n",
      "block1_conv1 (Conv2D)        (None, 150, 150, 64)      1792      \n",
      "_________________________________________________________________\n",
      "block1_conv2 (Conv2D)        (None, 150, 150, 64)      36928     \n",
      "_________________________________________________________________\n",
      "block1_pool (MaxPooling2D)   (None, 75, 75, 64)        0         \n",
      "_________________________________________________________________\n",
      "block2_conv1 (Conv2D)        (None, 75, 75, 128)       73856     \n",
      "_________________________________________________________________\n",
      "block2_conv2 (Conv2D)        (None, 75, 75, 128)       147584    \n",
      "_________________________________________________________________\n",
      "block2_pool (MaxPooling2D)   (None, 37, 37, 128)       0         \n",
      "_________________________________________________________________\n",
      "block3_conv1 (Conv2D)        (None, 37, 37, 256)       295168    \n",
      "_________________________________________________________________\n",
      "block3_conv2 (Conv2D)        (None, 37, 37, 256)       590080    \n",
      "_________________________________________________________________\n",
      "block3_conv3 (Conv2D)        (None, 37, 37, 256)       590080    \n",
      "_________________________________________________________________\n",
      "block3_pool (MaxPooling2D)   (None, 18, 18, 256)       0         \n",
      "_________________________________________________________________\n",
      "block4_conv1 (Conv2D)        (None, 18, 18, 512)       1180160   \n",
      "_________________________________________________________________\n",
      "block4_conv2 (Conv2D)        (None, 18, 18, 512)       2359808   \n",
      "_________________________________________________________________\n",
      "block4_conv3 (Conv2D)        (None, 18, 18, 512)       2359808   \n",
      "_________________________________________________________________\n",
      "block4_pool (MaxPooling2D)   (None, 9, 9, 512)         0         \n",
      "_________________________________________________________________\n",
      "block5_conv1 (Conv2D)        (None, 9, 9, 512)         2359808   \n",
      "_________________________________________________________________\n",
      "block5_conv2 (Conv2D)        (None, 9, 9, 512)         2359808   \n",
      "_________________________________________________________________\n",
      "block5_conv3 (Conv2D)        (None, 9, 9, 512)         2359808   \n",
      "_________________________________________________________________\n",
      "block5_pool (MaxPooling2D)   (None, 4, 4, 512)         0         \n",
      "=================================================================\n",
      "Total params: 14,714,688\n",
      "Trainable params: 14,714,688\n",
      "Non-trainable params: 0\n",
      "_________________________________________________________________\n"
     ]
    }
   ],
   "source": [
    "# VGG16 합성곱 층 가져오기\n",
    "\n",
    "from keras.applications import VGG16\n",
    "\n",
    "vgg16_conv = VGG16(weights='imagenet', \n",
    "                   include_top=False, \n",
    "                   input_shape=(150, 150, 3))\n",
    "\n",
    "vgg16_conv.summary()"
   ]
  },
  {
   "cell_type": "markdown",
   "metadata": {},
   "source": [
    "### 완전 연결 층 추가 방법 2가지\n",
    "\n",
    "- Data Augmentation을 사용하지 않는 빠른 특성 추출\n",
    "    - 합성곱 기반 층에서의 출력을 numpy array로 저장\n",
    "    - 저장한 결과를 입력으로 완전 연결 층만 학습\n",
    "    - 합성곱 기반 층을 1번만 실행하므로 빠르지만 그로 인해 Data Augmentation 사용 불가능\n",
    "\n",
    "\n",
    "- Data Augmentation을 사용한 특성 추출\n",
    "    - 불러온 convnet 위에 바로 완전 연결 층을 쌓아 확장\n",
    "    - 바로 입력부터 출력까지 end-to-end로 전체 모델 실행하며 학습\n",
    "    - 합성곱 기반 층을 매번 실행하므로 느리지만 그로 인해 Data Augmentation 사용 가능"
   ]
  },
  {
   "cell_type": "markdown",
   "metadata": {},
   "source": [
    "### 1. Data Augmentation을 사용하지 않는 빠른 특성 추출"
   ]
  },
  {
   "cell_type": "code",
   "execution_count": 2,
   "metadata": {
    "scrolled": true
   },
   "outputs": [
    {
     "name": "stdout",
     "output_type": "stream",
     "text": [
      "Found 2000 images belonging to 2 classes.\n",
      "Found 1000 images belonging to 2 classes.\n",
      "Found 1000 images belonging to 2 classes.\n",
      "(2000, 4, 4, 512) (2000,)\n",
      "(1000, 4, 4, 512) (1000,)\n",
      "(1000, 4, 4, 512) (1000,)\n"
     ]
    }
   ],
   "source": [
    "# pretrained vgg16 network의 feature extraction\n",
    "\n",
    "import os\n",
    "import numpy as np\n",
    "from keras.preprocessing.image import ImageDataGenerator\n",
    "\n",
    "base_dir = \"./datasets/cats_and_dogs/small\"\n",
    "\n",
    "train_dir = os.path.join(base_dir, \"train\")\n",
    "val_dir = os.path.join(base_dir, \"val\")\n",
    "test_dir = os.path.join(base_dir, \"test\")\n",
    "\n",
    "datagen = ImageDataGenerator(rescale=1./255)\n",
    "batch_size = 20\n",
    "\n",
    "def extract_features(directory, samples):\n",
    "    features = np.zeros((samples, 4, 4, 512))\n",
    "    labels = np.zeros((samples,))\n",
    "    \n",
    "\n",
    "    generator = datagen.flow_from_directory(directory, \n",
    "                                            target_size=(150, 150), \n",
    "                                            batch_size=batch_size, \n",
    "                                            class_mode='binary')\n",
    "    \n",
    "    i = 0\n",
    "    \n",
    "    for input_batch, input_labels in generator:\n",
    "        features[i*batch_size : (i+1)*batch_size] = vgg16_conv.predict(input_batch)\n",
    "        labels[i*batch_size : (i+1)*batch_size] = input_labels\n",
    "        i += 1\n",
    "        \n",
    "        if (i*batch_size) >= samples:\n",
    "            break\n",
    "            \n",
    "    return features, labels\n",
    "\n",
    "\n",
    "train_features, train_labels = extract_features(train_dir, 2000)\n",
    "val_features, val_labels = extract_features(val_dir, 1000)\n",
    "test_features, test_labels = extract_features(test_dir, 1000)\n",
    "\n",
    "print(train_features.shape, train_labels.shape)\n",
    "print(val_features.shape, val_labels.shape)\n",
    "print(test_features.shape, test_labels.shape)"
   ]
  },
  {
   "cell_type": "code",
   "execution_count": 3,
   "metadata": {},
   "outputs": [
    {
     "name": "stdout",
     "output_type": "stream",
     "text": [
      "(2000, 8192) (2000,)\n",
      "(1000, 8192) (1000,)\n",
      "(1000, 8192) (1000,)\n"
     ]
    }
   ],
   "source": [
    "train_features = np.reshape(train_features, (2000, 4*4*512))\n",
    "val_features = np.reshape(val_features, (1000, 4*4*512))\n",
    "test_features = np.reshape(test_features, (1000, 4*4*512))\n",
    "\n",
    "print(train_features.shape, train_labels.shape)\n",
    "print(val_features.shape, val_labels.shape)\n",
    "print(test_features.shape, test_labels.shape)"
   ]
  },
  {
   "cell_type": "code",
   "execution_count": 4,
   "metadata": {
    "scrolled": true
   },
   "outputs": [
    {
     "name": "stdout",
     "output_type": "stream",
     "text": [
      "Model: \"sequential_1\"\n",
      "_________________________________________________________________\n",
      "Layer (type)                 Output Shape              Param #   \n",
      "=================================================================\n",
      "dense_1 (Dense)              (None, 256)               2097408   \n",
      "_________________________________________________________________\n",
      "dropout_1 (Dropout)          (None, 256)               0         \n",
      "_________________________________________________________________\n",
      "dense_2 (Dense)              (None, 1)                 257       \n",
      "=================================================================\n",
      "Total params: 2,097,665\n",
      "Trainable params: 2,097,665\n",
      "Non-trainable params: 0\n",
      "_________________________________________________________________\n"
     ]
    }
   ],
   "source": [
    "# 완전 연결 층 만들고 훈련\n",
    "# Dropout regularization 사용\n",
    "\n",
    "from keras import models\n",
    "from keras import layers\n",
    "from keras import optimizers\n",
    "\n",
    "model = models.Sequential()\n",
    "model.add(layers.Dense(256, activation='relu', input_dim=4*4*512))\n",
    "model.add(layers.Dropout(0.5))\n",
    "model.add(layers.Dense(1, activation='sigmoid'))\n",
    "\n",
    "model.summary()"
   ]
  },
  {
   "cell_type": "code",
   "execution_count": 5,
   "metadata": {
    "scrolled": true
   },
   "outputs": [
    {
     "name": "stdout",
     "output_type": "stream",
     "text": [
      "Train on 2000 samples, validate on 1000 samples\n",
      "Epoch 1/30\n",
      "2000/2000 [==============================] - 1s 306us/step - loss: 0.5807 - acc: 0.6770 - val_loss: 0.4467 - val_acc: 0.8220\n",
      "Epoch 2/30\n",
      "2000/2000 [==============================] - 0s 208us/step - loss: 0.4190 - acc: 0.8055 - val_loss: 0.3663 - val_acc: 0.8480\n",
      "Epoch 3/30\n",
      "2000/2000 [==============================] - 0s 212us/step - loss: 0.3433 - acc: 0.8565 - val_loss: 0.3312 - val_acc: 0.8650\n",
      "Epoch 4/30\n",
      "2000/2000 [==============================] - 0s 209us/step - loss: 0.3129 - acc: 0.8745 - val_loss: 0.3049 - val_acc: 0.8790\n",
      "Epoch 5/30\n",
      "2000/2000 [==============================] - 0s 211us/step - loss: 0.2847 - acc: 0.8835 - val_loss: 0.2890 - val_acc: 0.8880\n",
      "Epoch 6/30\n",
      "2000/2000 [==============================] - 0s 208us/step - loss: 0.2579 - acc: 0.8970 - val_loss: 0.2772 - val_acc: 0.8920\n",
      "Epoch 7/30\n",
      "2000/2000 [==============================] - 0s 208us/step - loss: 0.2457 - acc: 0.8975 - val_loss: 0.2693 - val_acc: 0.8970\n",
      "Epoch 8/30\n",
      "2000/2000 [==============================] - 0s 212us/step - loss: 0.2270 - acc: 0.9120 - val_loss: 0.2865 - val_acc: 0.8730\n",
      "Epoch 9/30\n",
      "2000/2000 [==============================] - 0s 200us/step - loss: 0.2088 - acc: 0.9245 - val_loss: 0.2569 - val_acc: 0.8960\n",
      "Epoch 10/30\n",
      "2000/2000 [==============================] - 0s 199us/step - loss: 0.2141 - acc: 0.9165 - val_loss: 0.2623 - val_acc: 0.8860\n",
      "Epoch 11/30\n",
      "2000/2000 [==============================] - 0s 203us/step - loss: 0.2021 - acc: 0.9150 - val_loss: 0.2537 - val_acc: 0.9010\n",
      "Epoch 12/30\n",
      "2000/2000 [==============================] - 0s 199us/step - loss: 0.1856 - acc: 0.9390 - val_loss: 0.2574 - val_acc: 0.8920\n",
      "Epoch 13/30\n",
      "2000/2000 [==============================] - 0s 197us/step - loss: 0.1763 - acc: 0.9310 - val_loss: 0.2474 - val_acc: 0.9020\n",
      "Epoch 14/30\n",
      "2000/2000 [==============================] - 0s 200us/step - loss: 0.1765 - acc: 0.9400 - val_loss: 0.2452 - val_acc: 0.9010\n",
      "Epoch 15/30\n",
      "2000/2000 [==============================] - 0s 212us/step - loss: 0.1574 - acc: 0.9460 - val_loss: 0.2545 - val_acc: 0.8960\n",
      "Epoch 16/30\n",
      "2000/2000 [==============================] - 0s 233us/step - loss: 0.1580 - acc: 0.9440 - val_loss: 0.2421 - val_acc: 0.9060\n",
      "Epoch 17/30\n",
      "2000/2000 [==============================] - 0s 214us/step - loss: 0.1509 - acc: 0.9465 - val_loss: 0.2414 - val_acc: 0.9000\n",
      "Epoch 18/30\n",
      "2000/2000 [==============================] - 0s 207us/step - loss: 0.1374 - acc: 0.9500 - val_loss: 0.2403 - val_acc: 0.9010\n",
      "Epoch 19/30\n",
      "2000/2000 [==============================] - 0s 198us/step - loss: 0.1386 - acc: 0.9525 - val_loss: 0.2438 - val_acc: 0.9010\n",
      "Epoch 20/30\n",
      "2000/2000 [==============================] - 0s 218us/step - loss: 0.1343 - acc: 0.9575 - val_loss: 0.2392 - val_acc: 0.9010\n",
      "Epoch 21/30\n",
      "2000/2000 [==============================] - 0s 224us/step - loss: 0.1245 - acc: 0.9535 - val_loss: 0.2420 - val_acc: 0.8980\n",
      "Epoch 22/30\n",
      "2000/2000 [==============================] - 0s 225us/step - loss: 0.1204 - acc: 0.9590 - val_loss: 0.2399 - val_acc: 0.9030\n",
      "Epoch 23/30\n",
      "2000/2000 [==============================] - 0s 201us/step - loss: 0.1113 - acc: 0.9645 - val_loss: 0.2412 - val_acc: 0.8990\n",
      "Epoch 24/30\n",
      "2000/2000 [==============================] - 0s 212us/step - loss: 0.1140 - acc: 0.9640 - val_loss: 0.2415 - val_acc: 0.8990\n",
      "Epoch 25/30\n",
      "2000/2000 [==============================] - 0s 216us/step - loss: 0.1092 - acc: 0.9650 - val_loss: 0.2415 - val_acc: 0.9000\n",
      "Epoch 26/30\n",
      "2000/2000 [==============================] - 0s 218us/step - loss: 0.1020 - acc: 0.9670 - val_loss: 0.2582 - val_acc: 0.8980\n",
      "Epoch 27/30\n",
      "2000/2000 [==============================] - 0s 209us/step - loss: 0.1004 - acc: 0.9680 - val_loss: 0.2470 - val_acc: 0.9010\n",
      "Epoch 28/30\n",
      "2000/2000 [==============================] - 0s 198us/step - loss: 0.0958 - acc: 0.9720 - val_loss: 0.2484 - val_acc: 0.8990\n",
      "Epoch 29/30\n",
      "2000/2000 [==============================] - 0s 194us/step - loss: 0.0915 - acc: 0.9755 - val_loss: 0.2480 - val_acc: 0.9010\n",
      "Epoch 30/30\n",
      "2000/2000 [==============================] - 0s 204us/step - loss: 0.0852 - acc: 0.9730 - val_loss: 0.2470 - val_acc: 0.9020\n"
     ]
    }
   ],
   "source": [
    "model.compile(loss='binary_crossentropy',\n",
    "              optimizer=optimizers.RMSprop(lr=2e-5),\n",
    "              metrics=['acc'])\n",
    "\n",
    "history = model.fit(train_features, train_labels,\n",
    "                    epochs=30,\n",
    "                    batch_size=20,\n",
    "                    validation_data=(val_features, val_labels))"
   ]
  },
  {
   "cell_type": "code",
   "execution_count": 6,
   "metadata": {
    "scrolled": true
   },
   "outputs": [
    {
     "data": {
      "image/png": "[encoded data removed]",
      "text/plain": [
       "<Figure size 432x288 with 1 Axes>"
      ]
     },
     "metadata": {
      "needs_background": "light"
     },
     "output_type": "display_data"
    },
    {
     "data": {
      "image/png": "[encoded data removed]",
      "text/plain": [
       "<Figure size 432x288 with 1 Axes>"
      ]
     },
     "metadata": {
      "needs_background": "light"
     },
     "output_type": "display_data"
    }
   ],
   "source": [
    "# 결과 그래프 그리기\n",
    "\n",
    "import matplotlib.pyplot as plt\n",
    "\n",
    "acc = history.history['acc']\n",
    "val_acc = history.history['val_acc']\n",
    "loss = history.history['loss']\n",
    "val_loss = history.history['val_loss']\n",
    "\n",
    "epochs = range(1, len(acc) + 1)\n",
    "\n",
    "plt.plot(epochs, acc, 'b', label='train_acc')\n",
    "plt.plot(epochs, val_acc, 'r', label='val_acc')\n",
    "plt.title(\"Accuracy\")\n",
    "plt.legend()\n",
    "plt.figure()\n",
    "\n",
    "plt.plot(epochs, loss, 'b', label='train_loss')\n",
    "plt.plot(epochs, val_loss, 'r', label='val_loss')\n",
    "plt.title(\"Loss\")\n",
    "plt.legend()\n",
    "plt.show()"
   ]
  },
  {
   "cell_type": "markdown",
   "metadata": {},
   "source": [
    "**결과 분석**\n",
    "- 약 90%의 검증 정확도\n",
    "- 처음부터 훈련시킨 모델에 비해 훨씬 성능이 좋음\n",
    "- **dropout을 높은 비율로 사용했지만 overfitting이 일어남**\n",
    "- **작은 이미지 데이터셋에서는 필수적인 Data Augmentation을 사용하지 않았기 때문**"
   ]
  },
  {
   "cell_type": "markdown",
   "metadata": {},
   "source": [
    "### 2. Data Augmentation을 사용한 특성 추출"
   ]
  },
  {
   "cell_type": "code",
   "execution_count": 7,
   "metadata": {},
   "outputs": [
    {
     "name": "stdout",
     "output_type": "stream",
     "text": [
      "Model: \"sequential_2\"\n",
      "_________________________________________________________________\n",
      "Layer (type)                 Output Shape              Param #   \n",
      "=================================================================\n",
      "vgg16 (Model)                (None, 4, 4, 512)         14714688  \n",
      "_________________________________________________________________\n",
      "flatten_1 (Flatten)          (None, 8192)              0         \n",
      "_________________________________________________________________\n",
      "dense_3 (Dense)              (None, 256)               2097408   \n",
      "_________________________________________________________________\n",
      "dense_4 (Dense)              (None, 1)                 257       \n",
      "=================================================================\n",
      "Total params: 16,812,353\n",
      "Trainable params: 16,812,353\n",
      "Non-trainable params: 0\n",
      "_________________________________________________________________\n"
     ]
    }
   ],
   "source": [
    "# pretrained vgg16 모델 위에 완전 연결 층 올리기\n",
    "\n",
    "from keras import models\n",
    "from keras import layers\n",
    "\n",
    "model_aug = models.Sequential()\n",
    "\n",
    "# add()에 그냥 모델 넣으면 됨\n",
    "model_aug.add(vgg16_conv)\n",
    "\n",
    "model_aug.add(layers.Flatten())\n",
    "\n",
    "model_aug.add(layers.Dense(256, activation='relu'))\n",
    "# model_aug.add(layers.Dropout(0.5))\n",
    "model_aug.add(layers.Dense(1, activation='sigmoid'))\n",
    "\n",
    "model_aug.summary()"
   ]
  },
  {
   "cell_type": "code",
   "execution_count": 8,
   "metadata": {},
   "outputs": [
    {
     "name": "stdout",
     "output_type": "stream",
     "text": [
      "vgg16 모델 가중치 업데이트 동결 전 업데이트 될 가중치 텐서 수 :  30\n",
      "vgg16 모델 가중치 업데이트 동결 후 업데이트 될 가중치 텐서 수 :  4\n"
     ]
    }
   ],
   "source": [
    "from keras import optimizers\n",
    "\n",
    "# vgg16 pretrained model 가중치 업데이트 동결시키기\n",
    "# 각 층마다 업데이트 될 가중치 텐서는 2개씩 있음(가중치 행렬, bias 벡터)\n",
    "\n",
    "print(\"vgg16 모델 가중치 업데이트 동결 전 업데이트 될 가중치 텐서 수 : \", len(model_aug.trainable_weights))\n",
    "\n",
    "vgg16_conv.trainable = False\n",
    "\n",
    "print(\"vgg16 모델 가중치 업데이트 동결 후 업데이트 될 가중치 텐서 수 : \", len(model_aug.trainable_weights))\n",
    "\n",
    "# trainable 속성 변경 후 compile()해줘야 변경 사항이 적용됨\n",
    "model_aug.compile(loss='binary_crossentropy',\n",
    "                  optimizer=optimizers.RMSprop(lr=2e-5),\n",
    "                  metrics=['acc'])"
   ]
  },
  {
   "cell_type": "code",
   "execution_count": 9,
   "metadata": {},
   "outputs": [
    {
     "name": "stdout",
     "output_type": "stream",
     "text": [
      "Found 2000 images belonging to 2 classes.\n",
      "Found 1000 images belonging to 2 classes.\n",
      "Epoch 1/30\n",
      "100/100 [==============================] - 15s 149ms/step - loss: 0.5724 - acc: 0.7140 - val_loss: 0.5040 - val_acc: 0.8210\n",
      "Epoch 2/30\n",
      "100/100 [==============================] - 14s 144ms/step - loss: 0.4743 - acc: 0.7885 - val_loss: 0.3935 - val_acc: 0.8370\n",
      "Epoch 3/30\n",
      "100/100 [==============================] - 14s 143ms/step - loss: 0.4235 - acc: 0.8130 - val_loss: 0.2694 - val_acc: 0.8690\n",
      "Epoch 4/30\n",
      "100/100 [==============================] - 14s 142ms/step - loss: 0.3899 - acc: 0.8255 - val_loss: 0.3486 - val_acc: 0.8780\n",
      "Epoch 5/30\n",
      "100/100 [==============================] - 14s 141ms/step - loss: 0.3761 - acc: 0.8330 - val_loss: 0.1801 - val_acc: 0.8710\n",
      "Epoch 6/30\n",
      "100/100 [==============================] - 14s 144ms/step - loss: 0.3534 - acc: 0.8525 - val_loss: 0.3750 - val_acc: 0.8860\n",
      "Epoch 7/30\n",
      "100/100 [==============================] - 14s 143ms/step - loss: 0.3489 - acc: 0.8465 - val_loss: 0.1571 - val_acc: 0.8900\n",
      "Epoch 8/30\n",
      "100/100 [==============================] - 14s 142ms/step - loss: 0.3404 - acc: 0.8495 - val_loss: 0.3465 - val_acc: 0.8870\n",
      "Epoch 9/30\n",
      "100/100 [==============================] - 15s 146ms/step - loss: 0.3342 - acc: 0.8485 - val_loss: 0.2695 - val_acc: 0.8870\n",
      "Epoch 10/30\n",
      "100/100 [==============================] - 14s 142ms/step - loss: 0.3206 - acc: 0.8645 - val_loss: 0.2800 - val_acc: 0.8820\n",
      "Epoch 11/30\n",
      "100/100 [==============================] - 14s 145ms/step - loss: 0.3303 - acc: 0.8485 - val_loss: 0.2465 - val_acc: 0.8920\n",
      "Epoch 12/30\n",
      "100/100 [==============================] - 14s 141ms/step - loss: 0.3203 - acc: 0.8565 - val_loss: 0.1430 - val_acc: 0.8970\n",
      "Epoch 13/30\n",
      "100/100 [==============================] - 14s 141ms/step - loss: 0.3359 - acc: 0.8495 - val_loss: 0.2981 - val_acc: 0.8980\n",
      "Epoch 14/30\n",
      "100/100 [==============================] - 14s 141ms/step - loss: 0.3113 - acc: 0.8680 - val_loss: 0.1719 - val_acc: 0.9000\n",
      "Epoch 15/30\n",
      "100/100 [==============================] - 14s 141ms/step - loss: 0.3036 - acc: 0.8735 - val_loss: 0.4812 - val_acc: 0.8930\n",
      "Epoch 16/30\n",
      "100/100 [==============================] - 14s 143ms/step - loss: 0.3127 - acc: 0.8650 - val_loss: 0.1636 - val_acc: 0.9010\n",
      "Epoch 17/30\n",
      "100/100 [==============================] - 14s 141ms/step - loss: 0.3204 - acc: 0.8640 - val_loss: 0.4226 - val_acc: 0.8970\n",
      "Epoch 18/30\n",
      "100/100 [==============================] - 14s 141ms/step - loss: 0.3039 - acc: 0.8695 - val_loss: 0.2037 - val_acc: 0.8930\n",
      "Epoch 19/30\n",
      "100/100 [==============================] - 14s 141ms/step - loss: 0.3181 - acc: 0.8545 - val_loss: 0.2207 - val_acc: 0.8990\n",
      "Epoch 20/30\n",
      "100/100 [==============================] - 14s 141ms/step - loss: 0.2998 - acc: 0.8705 - val_loss: 0.2736 - val_acc: 0.9010\n",
      "Epoch 21/30\n",
      "100/100 [==============================] - 14s 141ms/step - loss: 0.2861 - acc: 0.8755 - val_loss: 0.2050 - val_acc: 0.8880\n",
      "Epoch 22/30\n",
      "100/100 [==============================] - 14s 141ms/step - loss: 0.2890 - acc: 0.8830 - val_loss: 0.2553 - val_acc: 0.9020\n",
      "Epoch 23/30\n",
      "100/100 [==============================] - 14s 141ms/step - loss: 0.2801 - acc: 0.8815 - val_loss: 0.1458 - val_acc: 0.9050\n",
      "Epoch 24/30\n",
      "100/100 [==============================] - 14s 141ms/step - loss: 0.2865 - acc: 0.8740 - val_loss: 0.1850 - val_acc: 0.9030\n",
      "Epoch 25/30\n",
      "100/100 [==============================] - 14s 142ms/step - loss: 0.2868 - acc: 0.8765 - val_loss: 0.3825 - val_acc: 0.9000\n",
      "Epoch 26/30\n",
      "100/100 [==============================] - 14s 141ms/step - loss: 0.2801 - acc: 0.8775 - val_loss: 0.2424 - val_acc: 0.8980\n",
      "Epoch 27/30\n",
      "100/100 [==============================] - 14s 142ms/step - loss: 0.2773 - acc: 0.8795 - val_loss: 0.1248 - val_acc: 0.9000\n",
      "Epoch 28/30\n",
      "100/100 [==============================] - 14s 141ms/step - loss: 0.2725 - acc: 0.8865 - val_loss: 0.2182 - val_acc: 0.9000\n",
      "Epoch 29/30\n",
      "100/100 [==============================] - 14s 141ms/step - loss: 0.2718 - acc: 0.8875 - val_loss: 0.1888 - val_acc: 0.9060\n",
      "Epoch 30/30\n",
      "100/100 [==============================] - 14s 141ms/step - loss: 0.2788 - acc: 0.8795 - val_loss: 0.4262 - val_acc: 0.9000\n"
     ]
    }
   ],
   "source": [
    "# Augmentation 적용 후 전체 모델 학습\n",
    "\n",
    "from keras.preprocessing.image import ImageDataGenerator\n",
    "\n",
    "train_datagen = ImageDataGenerator(rescale=1./255,\n",
    "                                   rotation_range=40,\n",
    "                                   width_shift_range=0.2, \n",
    "                                   height_shift_range=0.2,\n",
    "                                   shear_range=0.2,\n",
    "                                   zoom_range=0.2,\n",
    "                                   horizontal_flip=True,\n",
    "                                   fill_mode='nearest')\n",
    "\n",
    "val_datagen = ImageDataGenerator(rescale=1./255)\n",
    "\n",
    "train_generator = train_datagen.flow_from_directory(train_dir,\n",
    "                                                    target_size=(150, 150),\n",
    "                                                    batch_size=20,\n",
    "                                                    class_mode='binary')\n",
    "\n",
    "val_generator = val_datagen.flow_from_directory(val_dir,\n",
    "                                                target_size=(150, 150),\n",
    "                                                batch_size=20,\n",
    "                                                class_mode='binary')\n",
    "\n",
    "history_aug = model_aug.fit_generator(train_generator,\n",
    "                                      steps_per_epoch=100,\n",
    "                                      epochs=30,\n",
    "                                      validation_data=val_generator,\n",
    "                                      validation_steps=50)"
   ]
  },
  {
   "cell_type": "code",
   "execution_count": 10,
   "metadata": {},
   "outputs": [
    {
     "data": {
      "image/png": "[encoded data removed]",
      "text/plain": [
       "<Figure size 432x288 with 1 Axes>"
      ]
     },
     "metadata": {
      "needs_background": "light"
     },
     "output_type": "display_data"
    },
    {
     "data": {
      "image/png": "[encoded data removed]",
      "text/plain": [
       "<Figure size 432x288 with 1 Axes>"
      ]
     },
     "metadata": {
      "needs_background": "light"
     },
     "output_type": "display_data"
    }
   ],
   "source": [
    "# 결과 그래프 그리기\n",
    "\n",
    "import matplotlib.pyplot as plt\n",
    "\n",
    "acc = history_aug.history['acc']\n",
    "val_acc = history_aug.history['val_acc']\n",
    "loss = history_aug.history['loss']\n",
    "val_loss = history_aug.history['val_loss']\n",
    "\n",
    "epochs = range(1, len(acc) + 1)\n",
    "\n",
    "plt.plot(epochs, acc, 'b', label='train_acc')\n",
    "plt.plot(epochs, val_acc, 'r', label='val_acc')\n",
    "plt.title(\"Accuracy\")\n",
    "plt.legend()\n",
    "plt.figure()\n",
    "\n",
    "plt.plot(epochs, loss, 'b', label='train_loss')\n",
    "plt.plot(epochs, val_loss, 'r', label='val_loss')\n",
    "plt.title(\"Loss\")\n",
    "plt.legend()\n",
    "plt.show()"
   ]
  },
  {
   "cell_type": "code",
   "execution_count": 12,
   "metadata": {},
   "outputs": [
    {
     "data": {
      "image/png": "[encoded data removed]",
      "text/plain": [
       "<Figure size 432x288 with 1 Axes>"
      ]
     },
     "metadata": {
      "needs_background": "light"
     },
     "output_type": "display_data"
    },
    {
     "data": {
      "image/png": "[encoded data removed]",
      "text/plain": [
       "<Figure size 432x288 with 1 Axes>"
      ]
     },
     "metadata": {
      "needs_background": "light"
     },
     "output_type": "display_data"
    }
   ],
   "source": [
    "# 그래프의 값 변동이 심하므로 지수이동평균 적용\n",
    "\n",
    "def smooth_curve(points, factor=0.9):\n",
    "    smoothed_curve = []\n",
    "    for point in points:\n",
    "        if smoothed_curve:\n",
    "            prev = smoothed_curve[-1]\n",
    "            smoothed_curve.append(prev*factor + point*(1-factor))\n",
    "        else:\n",
    "            smoothed_curve.append(point)\n",
    "            \n",
    "    return smoothed_curve\n",
    "\n",
    "\n",
    "plt.plot(epochs, smooth_curve(acc), 'b', label='smoothed train_acc')\n",
    "plt.plot(epochs, smooth_curve(val_acc), 'r', label='smoothed val_acc')\n",
    "plt.title(\"Accuracy\")\n",
    "plt.legend()\n",
    "plt.figure()\n",
    "\n",
    "plt.plot(epochs, smooth_curve(loss), 'b', label='smoothed train_loss')\n",
    "plt.plot(epochs, smooth_curve(val_loss), 'r', label='smoothed val_loss')\n",
    "plt.title(\"Loss\")\n",
    "plt.legend()\n",
    "plt.show()"
   ]
  },
  {
   "cell_type": "markdown",
   "metadata": {},
   "source": [
    "**결과 분석**\n",
    "- 처음과 정확도는 비슷하지만 **Overfitting이 줄었음**\n",
    "- **소규모 데이터셋에서는 항상 Augmentation을 적용하자!**"
   ]
  },
  {
   "cell_type": "markdown",
   "metadata": {},
   "source": [
    "## 5.3.2 미세 조정 (Fine Tuning)\n",
    "\n",
    "### 미세 조정\n",
    "- 미세 조정은\n",
    "\n"
   ]
  },
  {
   "cell_type": "code",
   "execution_count": null,
   "metadata": {},
   "outputs": [],
   "source": []
  }
 ],
 "metadata": {
  "kernelspec": {
   "display_name": "Python 3",
   "language": "python",
   "name": "python3"
  },
  "language_info": {
   "codemirror_mode": {
    "name": "ipython",
    "version": 3
   },
   "file_extension": ".py",
   "mimetype": "text/x-python",
   "name": "python",
   "nbconvert_exporter": "python",
   "pygments_lexer": "ipython3",
   "version": "3.7.5"
  }
 },
 "nbformat": 4,
 "nbformat_minor": 2
}
