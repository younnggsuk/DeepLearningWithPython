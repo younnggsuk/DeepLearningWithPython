{
 "cells": [
  {
   "cell_type": "markdown",
   "metadata": {},
   "source": [
    "# 5.3 사전 훈련된 컨브넷 사용하기\n",
    "\n",
    "### 사전 훈련된 네트워크(pretrained network)\n",
    "- pretrained network는 일반적으로 대규모 이미지 분류 문제를 위해 대량의 데이터셋에서 미리 훈련된 네트워크를 뜻함\n",
    "- pretrained network를 사용하는 것은 작은 이미지 데이터셋에 딥러닝을 적용하는 일반적이고 효과적인 방법\n",
    "\n",
    "\n",
    "- **일반적이고 충분히 큰 데이터셋에 훈련된 네트워크의 특성 계층 구조는 실제 세상에 대한 일반적인 모델로 효율적인 역할을 할 수 있음**\n",
    "- 위와 같은 유연성은 얕은 학습과 비교해서 딥러닝의 핵심 장점이라고 할 수 있음\n",
    "- 이런 특성은 완전히 다른 클래스의 경우라도 많은 컴퓨터 비전 문제에서 유용함\n",
    "\n",
    "\n",
    "- 여기서는 ImageNet 데이터셋으로 학습된 VGG16 모델을 사용\n",
    "    - ImageNet Dataset은 1400만개의 이미지와 1000개의 class를 가짐\n",
    "    - VGG16 말고도 다른 많은 모델들에도 적용이 가능하지만 간단해서 사용\n",
    "    \n",
    "\n",
    "## Pretrained network 사용 방법 2가지\n",
    "    1. 특성 추출(Feature Extraction)\n",
    "    2. 미세 조정(Fine Tuning)"
   ]
  },
  {
   "cell_type": "markdown",
   "metadata": {},
   "source": [
    "## 5.3.1 특성 추출 (Feature Extraction)\n",
    "\n",
    "### 특성 추출\n",
    "- 특성 추출은 사전에 학습된 네트워크의 표현을 사용해 새로운 샘플의 특성을 뽑아내는 것\n",
    "\n",
    "\n",
    "### Convnet의 특성 추출\n",
    "- Convnet의 구성\n",
    "    - 합성곱 기반 층\n",
    "        - Convolutional layer\n",
    "        - Pooling layer\n",
    "    - 완전 연결 분류기\n",
    "        - Fully connected layer\n",
    "\n",
    "\n",
    "- 1번째 합성곱 기반 층은 동결시킨 후 재사용\n",
    "- 2번째 완전 연결 분류기는 새로 학습시킴\n",
    "- 따라서 **동결된 합성곱 기반 층의 출력을 이용해 2번째 완전 연결 분류기를 새로 학습시키는 방식**\n",
    "\n",
    "\n",
    "### 합성곱 층만 재사용 하는 이유\n",
    "- **합성곱 층에 의해 학습된 표현이 더 일반적이므로** 여러 컴퓨터비전 문제에서 유용하게 사용 가능함\n",
    "- convnet의 feature map은 사진에 대해 일반적인 컨셉의 존재 여부를 기록한 맵임\n",
    "- **완전 연결 층은 어떤 클래스가 존재할 확률에 관한 정보만 담고있으므로 클래스가 겹치지 않는 경우에는 재사용 하지 않음**\n",
    "- 참고) ImageNet에는 고양이와 강아지가 있어서 완전 연결 층도 재사용하는 것이 더 도움이 되지만 새로운 문제의 클래스가 원본 모델의 클래스와 겹치지 않는 일반적인 경우를 다루기 위해 사용하지 않았음\n",
    "\n",
    "\n",
    "### 합성곱 층의 추출 정도\n",
    "- **합성곱 층에서 추출한 표현의 일반성(재사용성)은 모델 층의 깊이에 달려있음**\n",
    "- 모델의 **하위 층은 지역적(엣지, 색깔, 질감 등)이고 일반적인 특성맵**으로 구성됨\n",
    "- 모델의 **상위 층은 고수준(강아지 눈이나 고양이 귀 등)의 추상적인 특성맵**으로 구성됨\n",
    "- **사용할 데이터 셋이 원본 모델에 사용된 데이터 셋과 많이 다르다면 전체 합성곱 층을 재사용 하는 것 보다는 하위 층 일부만 추출해 사용하는 것이 좋음**"
   ]
  },
  {
   "cell_type": "markdown",
   "metadata": {},
   "source": [
    "### VGG 모델 가져오기\n",
    "\n",
    "케라스의 `keras.applications`모듈을 이용해 구현\n",
    "\n",
    "- `keras.applications` 모듈\n",
    "    - 여러 이미지 분류 모델을 import해서 사용할 수 있음(이 절에서 VGG16 모델을 가져올 때 사용)\n",
    "    - 사용 가능한 여러 모델이 있음(모두 ImageNet에서 훈련된 모델)\n",
    "        - Xception\n",
    "        - Inception V3\n",
    "        - ResNet50\n",
    "        - VGG16\n",
    "        - VGG19\n",
    "        - MobileNet\n",
    "        \n",
    "- `VGG16()`의 매개변수들\n",
    "\n",
    "    - `weights`\n",
    "        - 초기화할 가중치 체크포인트\n",
    "        - None 지정 시 random initialization\n",
    "        - 'imagenet' 지정 시 imagenet에 pretrained된 가중치\n",
    "\n",
    "    - `include_top`\n",
    "        - 최상위 완전 연결 분류기의 포함 여부\n",
    "\n",
    "    - `input_shape`\n",
    "        - 네트워크에 주입할 이미지 텐서 크기\n",
    "        - 이 값을 지정하지 않으면 어떤 크기의 입력도 처리할 수 있음\n",
    "        - include_top이 True였다면 완전 연결 분류기가 추가되므로 원본 모델과 동일한 (224, 224, 3)이 되어야 함"
   ]
  },
  {
   "cell_type": "code",
   "execution_count": 1,
   "metadata": {
    "scrolled": true
   },
   "outputs": [
    {
     "name": "stderr",
     "output_type": "stream",
     "text": [
      "Using TensorFlow backend.\n"
     ]
    },
    {
     "name": "stdout",
     "output_type": "stream",
     "text": [
      "Model: \"vgg16\"\n",
      "_________________________________________________________________\n",
      "Layer (type)                 Output Shape              Param #   \n",
      "=================================================================\n",
      "input_1 (InputLayer)         (None, 150, 150, 3)       0         \n",
      "_________________________________________________________________\n",
      "block1_conv1 (Conv2D)        (None, 150, 150, 64)      1792      \n",
      "_________________________________________________________________\n",
      "block1_conv2 (Conv2D)        (None, 150, 150, 64)      36928     \n",
      "_________________________________________________________________\n",
      "block1_pool (MaxPooling2D)   (None, 75, 75, 64)        0         \n",
      "_________________________________________________________________\n",
      "block2_conv1 (Conv2D)        (None, 75, 75, 128)       73856     \n",
      "_________________________________________________________________\n",
      "block2_conv2 (Conv2D)        (None, 75, 75, 128)       147584    \n",
      "_________________________________________________________________\n",
      "block2_pool (MaxPooling2D)   (None, 37, 37, 128)       0         \n",
      "_________________________________________________________________\n",
      "block3_conv1 (Conv2D)        (None, 37, 37, 256)       295168    \n",
      "_________________________________________________________________\n",
      "block3_conv2 (Conv2D)        (None, 37, 37, 256)       590080    \n",
      "_________________________________________________________________\n",
      "block3_conv3 (Conv2D)        (None, 37, 37, 256)       590080    \n",
      "_________________________________________________________________\n",
      "block3_pool (MaxPooling2D)   (None, 18, 18, 256)       0         \n",
      "_________________________________________________________________\n",
      "block4_conv1 (Conv2D)        (None, 18, 18, 512)       1180160   \n",
      "_________________________________________________________________\n",
      "block4_conv2 (Conv2D)        (None, 18, 18, 512)       2359808   \n",
      "_________________________________________________________________\n",
      "block4_conv3 (Conv2D)        (None, 18, 18, 512)       2359808   \n",
      "_________________________________________________________________\n",
      "block4_pool (MaxPooling2D)   (None, 9, 9, 512)         0         \n",
      "_________________________________________________________________\n",
      "block5_conv1 (Conv2D)        (None, 9, 9, 512)         2359808   \n",
      "_________________________________________________________________\n",
      "block5_conv2 (Conv2D)        (None, 9, 9, 512)         2359808   \n",
      "_________________________________________________________________\n",
      "block5_conv3 (Conv2D)        (None, 9, 9, 512)         2359808   \n",
      "_________________________________________________________________\n",
      "block5_pool (MaxPooling2D)   (None, 4, 4, 512)         0         \n",
      "=================================================================\n",
      "Total params: 14,714,688\n",
      "Trainable params: 14,714,688\n",
      "Non-trainable params: 0\n",
      "_________________________________________________________________\n"
     ]
    }
   ],
   "source": [
    "# VGG16 합성곱 층 가져오기\n",
    "\n",
    "from keras.applications import VGG16\n",
    "\n",
    "vgg16 = VGG16(weights='imagenet', \n",
    "                   include_top=False, \n",
    "                   input_shape=(150, 150, 3))\n",
    "\n",
    "vgg16.summary()"
   ]
  },
  {
   "cell_type": "markdown",
   "metadata": {},
   "source": [
    "### 완전 연결 층 추가 방법 2가지\n",
    "\n",
    "- Data Augmentation을 사용하지 않는 빠른 특성 추출\n",
    "    - 합성곱 기반 층에서의 출력을 numpy array로 저장\n",
    "    - 저장한 결과를 입력으로 완전 연결 층만 학습\n",
    "    - 합성곱 기반 층을 1번만 실행하므로 빠르지만 그로 인해 Data Augmentation 사용 불가능\n",
    "\n",
    "\n",
    "- Data Augmentation을 사용한 특성 추출\n",
    "    - 불러온 convnet 위에 바로 완전 연결 층을 쌓아 확장\n",
    "    - 바로 입력부터 출력까지 end-to-end로 전체 모델 실행하며 학습\n",
    "    - 합성곱 기반 층을 매번 실행하므로 느리지만 그로 인해 Data Augmentation 사용 가능"
   ]
  },
  {
   "cell_type": "markdown",
   "metadata": {},
   "source": [
    "### 1. Data Augmentation을 사용하지 않는 빠른 특성 추출"
   ]
  },
  {
   "cell_type": "code",
   "execution_count": 2,
   "metadata": {
    "scrolled": true
   },
   "outputs": [],
   "source": [
    "# pretrained vgg16 network의 feature extraction\n",
    "\n",
    "import os\n",
    "import numpy as np\n",
    "\n",
    "base_dir = \"./datasets/cats_and_dogs/small\"\n",
    "\n",
    "train_dir = os.path.join(base_dir, \"train\")\n",
    "val_dir = os.path.join(base_dir, \"val\")\n",
    "test_dir = os.path.join(base_dir, \"test\")"
   ]
  },
  {
   "cell_type": "code",
   "execution_count": 3,
   "metadata": {},
   "outputs": [
    {
     "name": "stdout",
     "output_type": "stream",
     "text": [
      "Found 2000 images belonging to 2 classes.\n",
      "Found 1000 images belonging to 2 classes.\n",
      "Found 1000 images belonging to 2 classes.\n",
      "(2000, 4, 4, 512) (2000,)\n",
      "(1000, 4, 4, 512) (1000,)\n",
      "(1000, 4, 4, 512) (1000,)\n"
     ]
    }
   ],
   "source": [
    "from keras.preprocessing.image import ImageDataGenerator\n",
    "\n",
    "datagen = ImageDataGenerator(rescale=1./255)\n",
    "batch_size = 20\n",
    "\n",
    "def extract_features(directory, samples):\n",
    "    features = np.zeros((samples, 4, 4, 512))\n",
    "    labels = np.zeros((samples,))\n",
    "    \n",
    "\n",
    "    generator = datagen.flow_from_directory(directory, \n",
    "                                            target_size=(150, 150), \n",
    "                                            batch_size=batch_size, \n",
    "                                            class_mode='binary')\n",
    "    \n",
    "    i = 0\n",
    "    \n",
    "    for input_batch, input_labels in generator:\n",
    "        features[i*batch_size : (i+1)*batch_size] = vgg16.predict(input_batch)\n",
    "        labels[i*batch_size : (i+1)*batch_size] = input_labels\n",
    "        i += 1\n",
    "        \n",
    "        if (i*batch_size) >= samples:\n",
    "            break\n",
    "            \n",
    "    return features, labels\n",
    "\n",
    "\n",
    "train_features, train_labels = extract_features(train_dir, 2000)\n",
    "val_features, val_labels = extract_features(val_dir, 1000)\n",
    "test_features, test_labels = extract_features(test_dir, 1000)\n",
    "\n",
    "print(train_features.shape, train_labels.shape)\n",
    "print(val_features.shape, val_labels.shape)\n",
    "print(test_features.shape, test_labels.shape)"
   ]
  },
  {
   "cell_type": "code",
   "execution_count": 4,
   "metadata": {},
   "outputs": [
    {
     "name": "stdout",
     "output_type": "stream",
     "text": [
      "(2000, 8192) (2000,)\n",
      "(1000, 8192) (1000,)\n",
      "(1000, 8192) (1000,)\n"
     ]
    }
   ],
   "source": [
    "train_features = np.reshape(train_features, (2000, 4*4*512))\n",
    "val_features = np.reshape(val_features, (1000, 4*4*512))\n",
    "test_features = np.reshape(test_features, (1000, 4*4*512))\n",
    "\n",
    "print(train_features.shape, train_labels.shape)\n",
    "print(val_features.shape, val_labels.shape)\n",
    "print(test_features.shape, test_labels.shape)"
   ]
  },
  {
   "cell_type": "code",
   "execution_count": 5,
   "metadata": {
    "scrolled": true
   },
   "outputs": [
    {
     "name": "stdout",
     "output_type": "stream",
     "text": [
      "Model: \"sequential_1\"\n",
      "_________________________________________________________________\n",
      "Layer (type)                 Output Shape              Param #   \n",
      "=================================================================\n",
      "dense_1 (Dense)              (None, 256)               2097408   \n",
      "_________________________________________________________________\n",
      "dropout_1 (Dropout)          (None, 256)               0         \n",
      "_________________________________________________________________\n",
      "dense_2 (Dense)              (None, 1)                 257       \n",
      "=================================================================\n",
      "Total params: 2,097,665\n",
      "Trainable params: 2,097,665\n",
      "Non-trainable params: 0\n",
      "_________________________________________________________________\n"
     ]
    }
   ],
   "source": [
    "# 완전 연결 층 만들고 훈련\n",
    "# Dropout regularization 사용\n",
    "\n",
    "from keras import models\n",
    "from keras import layers\n",
    "\n",
    "model = models.Sequential()\n",
    "model.add(layers.Dense(256, activation='relu', input_dim=4*4*512))\n",
    "model.add(layers.Dropout(0.5))\n",
    "model.add(layers.Dense(1, activation='sigmoid'))\n",
    "\n",
    "model.summary()"
   ]
  },
  {
   "cell_type": "code",
   "execution_count": 6,
   "metadata": {
    "scrolled": true
   },
   "outputs": [
    {
     "name": "stdout",
     "output_type": "stream",
     "text": [
      "Train on 2000 samples, validate on 1000 samples\n",
      "Epoch 1/30\n",
      "2000/2000 [==============================] - 1s 323us/step - loss: 0.5928 - acc: 0.6835 - val_loss: 0.4435 - val_acc: 0.8330\n",
      "Epoch 2/30\n",
      "2000/2000 [==============================] - 0s 209us/step - loss: 0.4236 - acc: 0.8200 - val_loss: 0.3779 - val_acc: 0.8370\n",
      "Epoch 3/30\n",
      "2000/2000 [==============================] - 0s 215us/step - loss: 0.3627 - acc: 0.8460 - val_loss: 0.3314 - val_acc: 0.8580\n",
      "Epoch 4/30\n",
      "2000/2000 [==============================] - 0s 210us/step - loss: 0.3166 - acc: 0.8735 - val_loss: 0.3018 - val_acc: 0.8860\n",
      "Epoch 5/30\n",
      "2000/2000 [==============================] - 0s 212us/step - loss: 0.2798 - acc: 0.8940 - val_loss: 0.2825 - val_acc: 0.8890\n",
      "Epoch 6/30\n",
      "2000/2000 [==============================] - 0s 211us/step - loss: 0.2591 - acc: 0.9000 - val_loss: 0.2717 - val_acc: 0.8900\n",
      "Epoch 7/30\n",
      "2000/2000 [==============================] - 0s 212us/step - loss: 0.2392 - acc: 0.9130 - val_loss: 0.2646 - val_acc: 0.8970\n",
      "Epoch 8/30\n",
      "2000/2000 [==============================] - 0s 200us/step - loss: 0.2324 - acc: 0.9090 - val_loss: 0.2587 - val_acc: 0.8930\n",
      "Epoch 9/30\n",
      "2000/2000 [==============================] - 0s 202us/step - loss: 0.2227 - acc: 0.9115 - val_loss: 0.2603 - val_acc: 0.8980\n",
      "Epoch 10/30\n",
      "2000/2000 [==============================] - 0s 210us/step - loss: 0.2046 - acc: 0.9230 - val_loss: 0.2502 - val_acc: 0.8960\n",
      "Epoch 11/30\n",
      "2000/2000 [==============================] - 0s 208us/step - loss: 0.1926 - acc: 0.9305 - val_loss: 0.2457 - val_acc: 0.9040\n",
      "Epoch 12/30\n",
      "2000/2000 [==============================] - 0s 204us/step - loss: 0.1826 - acc: 0.9335 - val_loss: 0.2494 - val_acc: 0.8990\n",
      "Epoch 13/30\n",
      "2000/2000 [==============================] - 0s 207us/step - loss: 0.1746 - acc: 0.9365 - val_loss: 0.2427 - val_acc: 0.9020\n",
      "Epoch 14/30\n",
      "2000/2000 [==============================] - 0s 214us/step - loss: 0.1658 - acc: 0.9430 - val_loss: 0.2607 - val_acc: 0.8910\n",
      "Epoch 15/30\n",
      "2000/2000 [==============================] - 0s 208us/step - loss: 0.1587 - acc: 0.9440 - val_loss: 0.2403 - val_acc: 0.9010\n",
      "Epoch 16/30\n",
      "2000/2000 [==============================] - 0s 200us/step - loss: 0.1509 - acc: 0.9510 - val_loss: 0.2374 - val_acc: 0.9000\n",
      "Epoch 17/30\n",
      "2000/2000 [==============================] - 0s 199us/step - loss: 0.1566 - acc: 0.9465 - val_loss: 0.2372 - val_acc: 0.8990\n",
      "Epoch 18/30\n",
      "2000/2000 [==============================] - 0s 208us/step - loss: 0.1451 - acc: 0.9510 - val_loss: 0.2397 - val_acc: 0.9010\n",
      "Epoch 19/30\n",
      "2000/2000 [==============================] - 0s 204us/step - loss: 0.1332 - acc: 0.9540 - val_loss: 0.2371 - val_acc: 0.9020\n",
      "Epoch 20/30\n",
      "2000/2000 [==============================] - 0s 205us/step - loss: 0.1299 - acc: 0.9550 - val_loss: 0.2383 - val_acc: 0.9030\n",
      "Epoch 21/30\n",
      "2000/2000 [==============================] - 0s 204us/step - loss: 0.1265 - acc: 0.9580 - val_loss: 0.2379 - val_acc: 0.9030\n",
      "Epoch 22/30\n",
      "2000/2000 [==============================] - 0s 198us/step - loss: 0.1213 - acc: 0.9585 - val_loss: 0.2389 - val_acc: 0.9030\n",
      "Epoch 23/30\n",
      "2000/2000 [==============================] - 0s 198us/step - loss: 0.1153 - acc: 0.9585 - val_loss: 0.2463 - val_acc: 0.9000\n",
      "Epoch 24/30\n",
      "2000/2000 [==============================] - 0s 197us/step - loss: 0.1096 - acc: 0.9655 - val_loss: 0.2366 - val_acc: 0.9020\n",
      "Epoch 25/30\n",
      "2000/2000 [==============================] - 0s 205us/step - loss: 0.1040 - acc: 0.9680 - val_loss: 0.2365 - val_acc: 0.9010\n",
      "Epoch 26/30\n",
      "2000/2000 [==============================] - 0s 202us/step - loss: 0.0968 - acc: 0.9700 - val_loss: 0.2374 - val_acc: 0.9020\n",
      "Epoch 27/30\n",
      "2000/2000 [==============================] - 0s 204us/step - loss: 0.0960 - acc: 0.9710 - val_loss: 0.2395 - val_acc: 0.9010\n",
      "Epoch 28/30\n",
      "2000/2000 [==============================] - 0s 212us/step - loss: 0.0952 - acc: 0.9690 - val_loss: 0.2404 - val_acc: 0.9020\n",
      "Epoch 29/30\n",
      "2000/2000 [==============================] - 0s 215us/step - loss: 0.0915 - acc: 0.9715 - val_loss: 0.2482 - val_acc: 0.9030\n",
      "Epoch 30/30\n",
      "2000/2000 [==============================] - 0s 199us/step - loss: 0.0895 - acc: 0.9710 - val_loss: 0.2424 - val_acc: 0.9020\n"
     ]
    }
   ],
   "source": [
    "from keras import optimizers\n",
    "\n",
    "model.compile(loss='binary_crossentropy',\n",
    "              optimizer=optimizers.RMSprop(lr=2e-5),\n",
    "              metrics=['acc'])\n",
    "\n",
    "history = model.fit(train_features, train_labels,\n",
    "                    epochs=30,\n",
    "                    batch_size=20,\n",
    "                    validation_data=(val_features, val_labels))"
   ]
  },
  {
   "cell_type": "code",
   "execution_count": 7,
   "metadata": {
    "scrolled": true
   },
   "outputs": [
    {
     "data": {
      "image/png": "[encoded data removed]",
      "text/plain": [
       "<Figure size 432x288 with 1 Axes>"
      ]
     },
     "metadata": {
      "needs_background": "light"
     },
     "output_type": "display_data"
    },
    {
     "data": {
      "image/png": "[encoded data removed]",
      "text/plain": [
       "<Figure size 432x288 with 1 Axes>"
      ]
     },
     "metadata": {
      "needs_background": "light"
     },
     "output_type": "display_data"
    }
   ],
   "source": [
    "# 결과 그래프 그리기\n",
    "\n",
    "import matplotlib.pyplot as plt\n",
    "\n",
    "acc = history.history['acc']\n",
    "val_acc = history.history['val_acc']\n",
    "loss = history.history['loss']\n",
    "val_loss = history.history['val_loss']\n",
    "\n",
    "epochs = range(1, len(acc) + 1)\n",
    "\n",
    "plt.plot(epochs, acc, 'b', label='train_acc')\n",
    "plt.plot(epochs, val_acc, 'r', label='val_acc')\n",
    "plt.title(\"Accuracy\")\n",
    "plt.legend()\n",
    "plt.figure()\n",
    "\n",
    "plt.plot(epochs, loss, 'b', label='train_loss')\n",
    "plt.plot(epochs, val_loss, 'r', label='val_loss')\n",
    "plt.title(\"Loss\")\n",
    "plt.legend()\n",
    "plt.show()"
   ]
  },
  {
   "cell_type": "code",
   "execution_count": 8,
   "metadata": {},
   "outputs": [
    {
     "name": "stdout",
     "output_type": "stream",
     "text": [
      "1000/1000 [==============================] - 0s 52us/step\n",
      "test_acc :  0.8880000114440918\n"
     ]
    }
   ],
   "source": [
    "# test data로 모델 평가\n",
    "\n",
    "test_loss, test_acc = model.evaluate(x=test_features, y=test_labels)\n",
    "print('test_acc : ', test_acc)"
   ]
  },
  {
   "cell_type": "markdown",
   "metadata": {},
   "source": [
    "**결과 분석**\n",
    "- 약 90%의 검증 정확도\n",
    "- 88.8%의 테스트 정확도\n",
    "- 처음부터 훈련시킨 모델에 비해 훨씬 성능이 좋음\n",
    "- **dropout을 높은 비율로 사용했지만 overfitting이 일어남**\n",
    "- **작은 이미지 데이터셋에서는 필수적인 Data Augmentation을 사용하지 않았기 때문**"
   ]
  },
  {
   "cell_type": "markdown",
   "metadata": {},
   "source": [
    "### 2. Data Augmentation을 사용한 특성 추출"
   ]
  },
  {
   "cell_type": "code",
   "execution_count": 17,
   "metadata": {
    "scrolled": true
   },
   "outputs": [
    {
     "name": "stdout",
     "output_type": "stream",
     "text": [
      "Model: \"sequential_5\"\n",
      "_________________________________________________________________\n",
      "Layer (type)                 Output Shape              Param #   \n",
      "=================================================================\n",
      "vgg16 (Model)                (None, 4, 4, 512)         14714688  \n",
      "_________________________________________________________________\n",
      "flatten_4 (Flatten)          (None, 8192)              0         \n",
      "_________________________________________________________________\n",
      "dense_9 (Dense)              (None, 256)               2097408   \n",
      "_________________________________________________________________\n",
      "dense_10 (Dense)             (None, 1)                 257       \n",
      "=================================================================\n",
      "Total params: 16,812,353\n",
      "Trainable params: 16,812,353\n",
      "Non-trainable params: 0\n",
      "_________________________________________________________________\n"
     ]
    }
   ],
   "source": [
    "# pretrained vgg16 모델 위에 완전 연결 층 올리기\n",
    "\n",
    "from keras import models\n",
    "from keras import layers\n",
    "\n",
    "model = models.Sequential()\n",
    "\n",
    "# add()에 그냥 모델 넣으면 됨\n",
    "model.add(vgg16)\n",
    "\n",
    "model.add(layers.Flatten())\n",
    "\n",
    "model.add(layers.Dense(256, activation='relu'))\n",
    "# model.add(layers.Dropout(0.5))\n",
    "model.add(layers.Dense(1, activation='sigmoid'))\n",
    "\n",
    "model.summary()"
   ]
  },
  {
   "cell_type": "code",
   "execution_count": 18,
   "metadata": {},
   "outputs": [
    {
     "name": "stdout",
     "output_type": "stream",
     "text": [
      "vgg16 모델 동결 전 업데이트 될 가중치 텐서 수 :  30\n",
      "vgg16 모델 동결 후 업데이트 될 가중치 텐서 수 :  4\n"
     ]
    }
   ],
   "source": [
    "from keras import optimizers\n",
    "\n",
    "# vgg16 pretrained model 가중치 업데이트 동결시키기\n",
    "# 각 층마다 업데이트 될 가중치 텐서는 2개씩 있음(가중치 행렬, bias 벡터)\n",
    "\n",
    "print(\"vgg16 모델 동결 전 업데이트 될 가중치 텐서 수 : \", len(model.trainable_weights))\n",
    "\n",
    "vgg16.trainable = False\n",
    "\n",
    "print(\"vgg16 모델 동결 후 업데이트 될 가중치 텐서 수 : \", len(model.trainable_weights))\n",
    "\n",
    "# trainable 속성 변경 후 compile()해줘야 변경 사항이 적용됨\n",
    "model.compile(loss='binary_crossentropy',\n",
    "              optimizer=optimizers.RMSprop(lr=2e-5),\n",
    "              metrics=['acc'])"
   ]
  },
  {
   "cell_type": "code",
   "execution_count": 19,
   "metadata": {
    "scrolled": true
   },
   "outputs": [
    {
     "name": "stdout",
     "output_type": "stream",
     "text": [
      "Found 2000 images belonging to 2 classes.\n",
      "Found 1000 images belonging to 2 classes.\n",
      "Epoch 1/30\n",
      "100/100 [==============================] - 15s 146ms/step - loss: 0.6080 - acc: 0.6735 - val_loss: 0.5429 - val_acc: 0.7880\n",
      "Epoch 2/30\n",
      "100/100 [==============================] - 14s 143ms/step - loss: 0.4924 - acc: 0.7680 - val_loss: 0.3691 - val_acc: 0.8580\n",
      "Epoch 3/30\n",
      "100/100 [==============================] - 14s 140ms/step - loss: 0.4329 - acc: 0.8135 - val_loss: 0.3804 - val_acc: 0.8500\n",
      "Epoch 4/30\n",
      "100/100 [==============================] - 14s 142ms/step - loss: 0.4087 - acc: 0.8225 - val_loss: 0.2034 - val_acc: 0.8820\n",
      "Epoch 5/30\n",
      "100/100 [==============================] - 14s 140ms/step - loss: 0.3820 - acc: 0.8340 - val_loss: 0.2172 - val_acc: 0.8830\n",
      "Epoch 6/30\n",
      "100/100 [==============================] - 14s 141ms/step - loss: 0.3801 - acc: 0.8320 - val_loss: 0.5604 - val_acc: 0.8830\n",
      "Epoch 7/30\n",
      "100/100 [==============================] - 14s 140ms/step - loss: 0.3583 - acc: 0.8405 - val_loss: 0.3445 - val_acc: 0.8860\n",
      "Epoch 8/30\n",
      "100/100 [==============================] - 14s 142ms/step - loss: 0.3486 - acc: 0.8520 - val_loss: 0.2587 - val_acc: 0.8890\n",
      "Epoch 9/30\n",
      "100/100 [==============================] - 14s 140ms/step - loss: 0.3503 - acc: 0.8505 - val_loss: 0.2545 - val_acc: 0.8980\n",
      "Epoch 10/30\n",
      "100/100 [==============================] - 14s 140ms/step - loss: 0.3397 - acc: 0.8445 - val_loss: 0.1756 - val_acc: 0.8920\n",
      "Epoch 11/30\n",
      "100/100 [==============================] - 14s 140ms/step - loss: 0.3384 - acc: 0.8510 - val_loss: 0.3510 - val_acc: 0.8880\n",
      "Epoch 12/30\n",
      "100/100 [==============================] - 14s 141ms/step - loss: 0.3239 - acc: 0.8655 - val_loss: 0.1584 - val_acc: 0.8940\n",
      "Epoch 13/30\n",
      "100/100 [==============================] - 14s 139ms/step - loss: 0.3169 - acc: 0.8610 - val_loss: 0.3020 - val_acc: 0.8950\n",
      "Epoch 14/30\n",
      "100/100 [==============================] - 14s 139ms/step - loss: 0.3221 - acc: 0.8585 - val_loss: 0.1600 - val_acc: 0.8990\n",
      "Epoch 15/30\n",
      "100/100 [==============================] - 14s 139ms/step - loss: 0.3196 - acc: 0.8625 - val_loss: 0.2592 - val_acc: 0.8920\n",
      "Epoch 16/30\n",
      "100/100 [==============================] - 14s 139ms/step - loss: 0.3151 - acc: 0.8655 - val_loss: 0.2092 - val_acc: 0.8950\n",
      "Epoch 17/30\n",
      "100/100 [==============================] - 14s 139ms/step - loss: 0.3127 - acc: 0.8630 - val_loss: 0.1900 - val_acc: 0.8930\n",
      "Epoch 18/30\n",
      "100/100 [==============================] - 14s 141ms/step - loss: 0.3128 - acc: 0.8625 - val_loss: 0.4295 - val_acc: 0.8900\n",
      "Epoch 19/30\n",
      "100/100 [==============================] - 14s 139ms/step - loss: 0.3083 - acc: 0.8640 - val_loss: 0.3482 - val_acc: 0.8970\n",
      "Epoch 20/30\n",
      "100/100 [==============================] - 14s 140ms/step - loss: 0.3026 - acc: 0.8645 - val_loss: 0.4058 - val_acc: 0.8970\n",
      "Epoch 21/30\n",
      "100/100 [==============================] - 14s 139ms/step - loss: 0.2914 - acc: 0.8745 - val_loss: 0.3001 - val_acc: 0.8930\n",
      "Epoch 22/30\n",
      "100/100 [==============================] - 14s 139ms/step - loss: 0.2900 - acc: 0.8660 - val_loss: 0.4684 - val_acc: 0.8960\n",
      "Epoch 23/30\n",
      "100/100 [==============================] - 14s 139ms/step - loss: 0.2970 - acc: 0.8770 - val_loss: 0.1623 - val_acc: 0.8970\n",
      "Epoch 24/30\n",
      "100/100 [==============================] - 14s 140ms/step - loss: 0.2893 - acc: 0.8770 - val_loss: 0.2508 - val_acc: 0.8980\n",
      "Epoch 25/30\n",
      "100/100 [==============================] - 14s 140ms/step - loss: 0.3014 - acc: 0.8650 - val_loss: 0.5918 - val_acc: 0.8930\n",
      "Epoch 26/30\n",
      "100/100 [==============================] - 14s 139ms/step - loss: 0.3061 - acc: 0.8665 - val_loss: 0.2622 - val_acc: 0.8970\n",
      "Epoch 27/30\n",
      "100/100 [==============================] - 14s 139ms/step - loss: 0.2723 - acc: 0.8860 - val_loss: 0.0761 - val_acc: 0.8920\n",
      "Epoch 28/30\n",
      "100/100 [==============================] - 14s 140ms/step - loss: 0.2876 - acc: 0.8745 - val_loss: 0.2430 - val_acc: 0.8920\n",
      "Epoch 29/30\n",
      "100/100 [==============================] - 14s 139ms/step - loss: 0.3046 - acc: 0.8750 - val_loss: 0.2904 - val_acc: 0.8980\n",
      "Epoch 30/30\n",
      "100/100 [==============================] - 14s 139ms/step - loss: 0.2909 - acc: 0.8745 - val_loss: 0.4220 - val_acc: 0.8960\n"
     ]
    }
   ],
   "source": [
    "# Augmentation 적용 후 전체 모델 학습\n",
    "\n",
    "from keras.preprocessing.image import ImageDataGenerator\n",
    "\n",
    "train_datagen = ImageDataGenerator(rescale=1./255,\n",
    "                                   rotation_range=40,\n",
    "                                   width_shift_range=0.2, \n",
    "                                   height_shift_range=0.2,\n",
    "                                   shear_range=0.2,\n",
    "                                   zoom_range=0.2,\n",
    "                                   horizontal_flip=True,\n",
    "                                   fill_mode='nearest')\n",
    "\n",
    "val_datagen = ImageDataGenerator(rescale=1./255)\n",
    "\n",
    "train_generator = train_datagen.flow_from_directory(train_dir,\n",
    "                                                    target_size=(150, 150),\n",
    "                                                    batch_size=20,\n",
    "                                                    class_mode='binary')\n",
    "\n",
    "val_generator = val_datagen.flow_from_directory(val_dir,\n",
    "                                                target_size=(150, 150),\n",
    "                                                batch_size=20,\n",
    "                                                class_mode='binary')\n",
    "\n",
    "history = model.fit_generator(train_generator,\n",
    "                              steps_per_epoch=100,\n",
    "                              epochs=30,\n",
    "                              validation_data=val_generator,\n",
    "                              validation_steps=50)"
   ]
  },
  {
   "cell_type": "code",
   "execution_count": 20,
   "metadata": {},
   "outputs": [
    {
     "data": {
      "image/png": "[encoded data removed]",
      "text/plain": [
       "<Figure size 432x288 with 1 Axes>"
      ]
     },
     "metadata": {
      "needs_background": "light"
     },
     "output_type": "display_data"
    },
    {
     "data": {
      "image/png": "[encoded data removed]",
      "text/plain": [
       "<Figure size 432x288 with 1 Axes>"
      ]
     },
     "metadata": {
      "needs_background": "light"
     },
     "output_type": "display_data"
    }
   ],
   "source": [
    "# 결과 그래프 그리기\n",
    "\n",
    "import matplotlib.pyplot as plt\n",
    "\n",
    "acc = history.history['acc']\n",
    "val_acc = history.history['val_acc']\n",
    "loss = history.history['loss']\n",
    "val_loss = history.history['val_loss']\n",
    "\n",
    "epochs = range(1, len(acc) + 1)\n",
    "\n",
    "plt.plot(epochs, acc, 'b', label='train_acc')\n",
    "plt.plot(epochs, val_acc, 'r', label='val_acc')\n",
    "plt.title(\"Accuracy\")\n",
    "plt.legend()\n",
    "plt.figure()\n",
    "\n",
    "plt.plot(epochs, loss, 'b', label='train_loss')\n",
    "plt.plot(epochs, val_loss, 'r', label='val_loss')\n",
    "plt.title(\"Loss\")\n",
    "plt.legend()\n",
    "plt.show()"
   ]
  },
  {
   "cell_type": "code",
   "execution_count": 21,
   "metadata": {},
   "outputs": [
    {
     "data": {
      "image/png": "[encoded data removed]",
      "text/plain": [
       "<Figure size 432x288 with 1 Axes>"
      ]
     },
     "metadata": {
      "needs_background": "light"
     },
     "output_type": "display_data"
    },
    {
     "data": {
      "image/png": "[encoded data removed]",
      "text/plain": [
       "<Figure size 432x288 with 1 Axes>"
      ]
     },
     "metadata": {
      "needs_background": "light"
     },
     "output_type": "display_data"
    }
   ],
   "source": [
    "# 그래프의 값 변동이 심하므로 지수이동평균 적용\n",
    "\n",
    "def smooth_curve(points, factor=0.9):\n",
    "    smoothed_curve = []\n",
    "    for point in points:\n",
    "        if smoothed_curve:\n",
    "            prev = smoothed_curve[-1]\n",
    "            smoothed_curve.append(prev*factor + point*(1-factor))\n",
    "        else:\n",
    "            smoothed_curve.append(point)\n",
    "            \n",
    "    return smoothed_curve\n",
    "\n",
    "\n",
    "plt.plot(epochs, smooth_curve(acc), 'b', label='smoothed train_acc')\n",
    "plt.plot(epochs, smooth_curve(val_acc), 'r', label='smoothed val_acc')\n",
    "plt.title(\"Accuracy\")\n",
    "plt.legend()\n",
    "plt.figure()\n",
    "\n",
    "plt.plot(epochs, smooth_curve(loss), 'b', label='smoothed train_loss')\n",
    "plt.plot(epochs, smooth_curve(val_loss), 'r', label='smoothed val_loss')\n",
    "plt.title(\"Loss\")\n",
    "plt.legend()\n",
    "plt.show()"
   ]
  },
  {
   "cell_type": "code",
   "execution_count": 22,
   "metadata": {},
   "outputs": [
    {
     "name": "stdout",
     "output_type": "stream",
     "text": [
      "Found 1000 images belonging to 2 classes.\n",
      "50/50 [==============================] - 5s 94ms/step\n",
      "test_acc :  0.8960000276565552\n"
     ]
    }
   ],
   "source": [
    "# test data로 모델 평가\n",
    "\n",
    "# 검증셋과 테스트셋이 이미지 수가 같아서 val_datagen을 그냥 사용함\n",
    "\n",
    "test_generator = val_datagen.flow_from_directory(test_dir,\n",
    "                                                 target_size=(150, 150),\n",
    "                                                 batch_size=20,\n",
    "                                                 class_mode='binary')\n",
    "\n",
    "test_loss, test_acc = model.evaluate(test_generator, steps=50)\n",
    "print('test_acc : ', test_acc)"
   ]
  },
  {
   "cell_type": "markdown",
   "metadata": {},
   "source": [
    "**결과 분석**\n",
    "- 처음과 검증 정확도는 비슷(약 90%의 검증 정확도)하지만 **Overfitting이 줄었음**\n",
    "- 89.6%의 테스트 정확도(약간 상승함)\n",
    "- **소규모 데이터셋에서는 항상 Augmentation을 적용하자!**"
   ]
  },
  {
   "cell_type": "markdown",
   "metadata": {},
   "source": [
    "## 5.3.2 미세 조정 (Fine Tuning)\n",
    "\n",
    "### 미세조정\n",
    "- 미세 조정(fine-tuning)은 특성 추출(feature extraction)에서 동결 시켰던 **합성곱 기반층의 상위 층 몇개도 완전 연결 층과 함께 동결 해제해 학습시키는 방법**\n",
    "\n",
    "- pretrained network를 조금 더 조정하기 때문에 미세조정이라고 함\n",
    "\n",
    "\n",
    "### 미세 조정하는 단계\n",
    "1. pretrained network 위에 우리가 원하는 새로운 네트워크(완전 연결 층)를 추가\n",
    "2. pretrained network를 동결시킴\n",
    "3. 우리가 추가한 새로운 네트워크(완전 연결 층)만 학습\n",
    "4. 동결시킨 pretrained network의 학습시킬 상위 층 몇개만 동결 해제\n",
    "5. 동결 해제 한 층과 새로운 네트워크(완전 연결 층)을 함께 학습\n",
    "\n",
    "\n",
    "***반드시 완전 연결 층을 먼저 학습시킨 후(1~3단계) 동결 해제한 몇개 층을 학습시켜야 함***\n",
    "\n",
    "### 미세 조정 시 완전 연결 층을 먼저 학습시키는 이유\n",
    "- 완전 연결 층(분류기)이 먼저 학습되지 않으면 미세 조정될 층에 너무 큰 오차 신호가 전파되며 이는 **미세 조정될 층이 사전에 학습한 표현들을 망가뜨리게 됨**\n",
    "\n"
   ]
  },
  {
   "cell_type": "code",
   "execution_count": 31,
   "metadata": {},
   "outputs": [
    {
     "name": "stdout",
     "output_type": "stream",
     "text": [
      "미세조정 층 동결 전 업데이트 될 가중치 텐서 수 :  4\n",
      "<keras.engine.input_layer.InputLayer object at 0x7f4eccddbd90> False\n",
      "<keras.layers.convolutional.Conv2D object at 0x7f4ec3a919d0> False\n",
      "<keras.layers.convolutional.Conv2D object at 0x7f4ec3a91b50> False\n",
      "<keras.layers.pooling.MaxPooling2D object at 0x7f4ec3940910> False\n",
      "<keras.layers.convolutional.Conv2D object at 0x7f4ec39723d0> False\n",
      "<keras.layers.convolutional.Conv2D object at 0x7f4ec3900950> False\n",
      "<keras.layers.pooling.MaxPooling2D object at 0x7f4ec3900c50> False\n",
      "<keras.layers.convolutional.Conv2D object at 0x7f4ec3915a50> False\n",
      "<keras.layers.convolutional.Conv2D object at 0x7f4ec3927ad0> False\n",
      "<keras.layers.convolutional.Conv2D object at 0x7f4ec393ac50> False\n",
      "<keras.layers.pooling.MaxPooling2D object at 0x7f4ec38ce5d0> False\n",
      "<keras.layers.convolutional.Conv2D object at 0x7f4ec38e0890> False\n",
      "<keras.layers.convolutional.Conv2D object at 0x7f4ec38efd10> False\n",
      "<keras.layers.convolutional.Conv2D object at 0x7f4ec38fc890> False\n",
      "<keras.layers.pooling.MaxPooling2D object at 0x7f4ec38fccd0> False\n",
      "<keras.layers.convolutional.Conv2D object at 0x7f4ec388ecd0> True\n",
      "<keras.layers.convolutional.Conv2D object at 0x7f4ec389fe10> True\n",
      "<keras.layers.convolutional.Conv2D object at 0x7f4ec38b2c50> True\n",
      "<keras.layers.pooling.MaxPooling2D object at 0x7f4ec38465d0> True\n",
      "미세조정 층 동결 후 업데이트 될 가중치 텐서 수 :  10\n"
     ]
    }
   ],
   "source": [
    "# 앞에서 feature extraction 후 Data Augmentation 적용해 학습시킨 모델 사용\n",
    "# 여기서는 최상위 층 3개만 동결 해제해 학습시킴\n",
    "\n",
    "print(\"미세조정 층 동결 전 업데이트 될 가중치 텐서 수 : \", len(model.trainable_weights))\n",
    "\n",
    "# 중요!!!!!!\n",
    "# 반드시 아까 False한거 다시 True로 만든 다음에 4개 레이어 빼고 False로하기!!!\n",
    "# 아까 False한거 그대로 하고 안에 4개 레이어만 True로 하면 \n",
    "# vgg16.trainable값이 False로 이미 되어있어서 미세 조정 층 학습안됨\n",
    "#\n",
    "# 반드시 len(model.trainable_weights) 출력 해서 총 가중치 텐서 수 확인하기!!!\n",
    "#\n",
    "\n",
    "vgg16.trainable = True\n",
    "\n",
    "for layer in vgg16.layers[:-4]:\n",
    "    layer.trainable = False\n",
    "\n",
    "\n",
    "for layer in vgg16.layers:\n",
    "    print(layer, layer.trainable)\n",
    "    \n",
    "\n",
    "print(\"미세조정 층 동결 후 업데이트 될 가중치 텐서 수 : \", len(model.trainable_weights))"
   ]
  },
  {
   "cell_type": "markdown",
   "metadata": {},
   "source": [
    "### 미세 조정 하는 층의 수가 적은 이유\n",
    "- 합성곱 기반 층의 하위 층으로 갈수록 더 일반적이고 재사용 가능한 특성들을 인코딩함\n",
    "- 합성곱 기반 층의 상위 층으로 갈수록 더 고수준에 특화된 특성을 인코딩함\n",
    "\n",
    "\n",
    "- **새로운 문제에 재사용 하도록 수정이 필요한 것은 고수준의 구체적인 특성인 경우가 많으므로** 일반적인 경우 최상위 몇개 층만 미세조정함\n",
    "- **많은 층을 미세조정 시 훈련해야 할 파라미터가 많아지며 훈련해야 할 파라미터가 많을 수록 Overfitting 될 위험이 커지기 때문**에 작은 데이터셋으로 훈련하는 경우 일반적으로 많은 층을 미세조정하지 않음"
   ]
  },
  {
   "cell_type": "code",
   "execution_count": 32,
   "metadata": {},
   "outputs": [],
   "source": [
    "# 학습률을 낮춘 RMSprop을 사용\n",
    "\n",
    "model.compile(loss='binary_crossentropy',\n",
    "              optimizer=optimizers.RMSprop(lr=1e-5),\n",
    "              metrics=['acc'])"
   ]
  },
  {
   "cell_type": "markdown",
   "metadata": {},
   "source": [
    "### 미세 조정 시 학습률을 작게 사용하는 이유\n",
    "- 미세 조정할 층에 이미 학습된 표현들을 조금씩 수정하기 위해서"
   ]
  },
  {
   "cell_type": "code",
   "execution_count": 33,
   "metadata": {
    "scrolled": true
   },
   "outputs": [
    {
     "name": "stdout",
     "output_type": "stream",
     "text": [
      "Epoch 1/100\n",
      "100/100 [==============================] - 17s 167ms/step - loss: 0.2901 - acc: 0.8755 - val_loss: 0.2286 - val_acc: 0.9130\n",
      "Epoch 2/100\n",
      "100/100 [==============================] - 17s 166ms/step - loss: 0.2514 - acc: 0.8925 - val_loss: 0.2296 - val_acc: 0.9150\n",
      "Epoch 3/100\n",
      "100/100 [==============================] - 16s 165ms/step - loss: 0.2347 - acc: 0.9030 - val_loss: 0.0367 - val_acc: 0.9150\n",
      "Epoch 4/100\n",
      "100/100 [==============================] - 16s 162ms/step - loss: 0.2331 - acc: 0.9050 - val_loss: 0.2232 - val_acc: 0.9240\n",
      "Epoch 5/100\n",
      "100/100 [==============================] - 16s 164ms/step - loss: 0.2139 - acc: 0.9125 - val_loss: 0.1234 - val_acc: 0.9180\n",
      "Epoch 6/100\n",
      "100/100 [==============================] - 16s 165ms/step - loss: 0.1948 - acc: 0.9185 - val_loss: 0.0037 - val_acc: 0.9300\n",
      "Epoch 7/100\n",
      "100/100 [==============================] - 16s 164ms/step - loss: 0.1731 - acc: 0.9285 - val_loss: 0.5403 - val_acc: 0.9350\n",
      "Epoch 8/100\n",
      "100/100 [==============================] - 16s 161ms/step - loss: 0.1741 - acc: 0.9270 - val_loss: 0.3846 - val_acc: 0.9200\n",
      "Epoch 9/100\n",
      "100/100 [==============================] - 17s 167ms/step - loss: 0.1644 - acc: 0.9395 - val_loss: 0.2597 - val_acc: 0.9340\n",
      "Epoch 10/100\n",
      "100/100 [==============================] - 17s 165ms/step - loss: 0.1574 - acc: 0.9330 - val_loss: 0.1537 - val_acc: 0.9300\n",
      "Epoch 11/100\n",
      "100/100 [==============================] - 17s 165ms/step - loss: 0.1440 - acc: 0.9385 - val_loss: 0.3164 - val_acc: 0.9340\n",
      "Epoch 12/100\n",
      "100/100 [==============================] - 17s 165ms/step - loss: 0.1478 - acc: 0.9430 - val_loss: 0.4053 - val_acc: 0.9370\n",
      "Epoch 13/100\n",
      "100/100 [==============================] - 16s 161ms/step - loss: 0.1289 - acc: 0.9525 - val_loss: 0.0278 - val_acc: 0.9280\n",
      "Epoch 14/100\n",
      "100/100 [==============================] - 16s 161ms/step - loss: 0.1308 - acc: 0.9420 - val_loss: 0.1604 - val_acc: 0.9310\n",
      "Epoch 15/100\n",
      "100/100 [==============================] - 16s 160ms/step - loss: 0.1133 - acc: 0.9550 - val_loss: 0.0020 - val_acc: 0.9350\n",
      "Epoch 16/100\n",
      "100/100 [==============================] - 16s 163ms/step - loss: 0.1212 - acc: 0.9515 - val_loss: 0.3007 - val_acc: 0.9320\n",
      "Epoch 17/100\n",
      "100/100 [==============================] - 17s 165ms/step - loss: 0.1090 - acc: 0.9555 - val_loss: 0.1000 - val_acc: 0.9330\n",
      "Epoch 18/100\n",
      "100/100 [==============================] - 16s 164ms/step - loss: 0.1065 - acc: 0.9605 - val_loss: 0.1017 - val_acc: 0.9320\n",
      "Epoch 19/100\n",
      "100/100 [==============================] - 16s 164ms/step - loss: 0.0938 - acc: 0.9590 - val_loss: 0.1556 - val_acc: 0.9250\n",
      "Epoch 20/100\n",
      "100/100 [==============================] - 16s 164ms/step - loss: 0.1116 - acc: 0.9595 - val_loss: 0.3370 - val_acc: 0.9370\n",
      "Epoch 21/100\n",
      "100/100 [==============================] - 16s 164ms/step - loss: 0.0929 - acc: 0.9680 - val_loss: 0.0688 - val_acc: 0.9340\n",
      "Epoch 22/100\n",
      "100/100 [==============================] - 16s 163ms/step - loss: 0.0906 - acc: 0.9685 - val_loss: 0.1075 - val_acc: 0.9350\n",
      "Epoch 23/100\n",
      "100/100 [==============================] - 16s 164ms/step - loss: 0.0904 - acc: 0.9645 - val_loss: 0.0817 - val_acc: 0.9300\n",
      "Epoch 24/100\n",
      "100/100 [==============================] - 16s 164ms/step - loss: 0.0832 - acc: 0.9700 - val_loss: 0.0704 - val_acc: 0.9320\n",
      "Epoch 25/100\n",
      "100/100 [==============================] - 16s 165ms/step - loss: 0.0739 - acc: 0.9750 - val_loss: 0.4560 - val_acc: 0.9280\n",
      "Epoch 26/100\n",
      "100/100 [==============================] - 16s 164ms/step - loss: 0.0788 - acc: 0.9680 - val_loss: 0.0843 - val_acc: 0.9390\n",
      "Epoch 27/100\n",
      "100/100 [==============================] - 16s 162ms/step - loss: 0.0808 - acc: 0.9720 - val_loss: 0.0353 - val_acc: 0.9360\n",
      "Epoch 28/100\n",
      "100/100 [==============================] - 16s 162ms/step - loss: 0.0687 - acc: 0.9735 - val_loss: 0.0934 - val_acc: 0.9410\n",
      "Epoch 29/100\n",
      "100/100 [==============================] - 16s 162ms/step - loss: 0.0733 - acc: 0.9730 - val_loss: 0.0154 - val_acc: 0.9260\n",
      "Epoch 30/100\n",
      "100/100 [==============================] - 16s 162ms/step - loss: 0.0714 - acc: 0.9725 - val_loss: 0.2274 - val_acc: 0.9360\n",
      "Epoch 31/100\n",
      "100/100 [==============================] - 16s 162ms/step - loss: 0.0716 - acc: 0.9740 - val_loss: 0.0516 - val_acc: 0.9360\n",
      "Epoch 32/100\n",
      "100/100 [==============================] - 16s 162ms/step - loss: 0.0575 - acc: 0.9805 - val_loss: 0.3009 - val_acc: 0.9370\n",
      "Epoch 33/100\n",
      "100/100 [==============================] - 16s 162ms/step - loss: 0.0698 - acc: 0.9765 - val_loss: 0.4546 - val_acc: 0.9290\n",
      "Epoch 34/100\n",
      "100/100 [==============================] - 16s 162ms/step - loss: 0.0600 - acc: 0.9775 - val_loss: 0.0108 - val_acc: 0.9380\n",
      "Epoch 35/100\n",
      "100/100 [==============================] - 17s 168ms/step - loss: 0.0601 - acc: 0.9785 - val_loss: 0.2918 - val_acc: 0.9370\n",
      "Epoch 36/100\n",
      "100/100 [==============================] - 17s 172ms/step - loss: 0.0631 - acc: 0.9730 - val_loss: 0.1022 - val_acc: 0.9370\n",
      "Epoch 37/100\n",
      "100/100 [==============================] - 17s 167ms/step - loss: 0.0606 - acc: 0.9790 - val_loss: 0.3791 - val_acc: 0.9300\n",
      "Epoch 38/100\n",
      "100/100 [==============================] - 17s 167ms/step - loss: 0.0596 - acc: 0.9800 - val_loss: 0.0548 - val_acc: 0.9320\n",
      "Epoch 39/100\n",
      "100/100 [==============================] - 17s 165ms/step - loss: 0.0547 - acc: 0.9800 - val_loss: 0.0913 - val_acc: 0.9320\n",
      "Epoch 40/100\n",
      "100/100 [==============================] - 16s 162ms/step - loss: 0.0553 - acc: 0.9815 - val_loss: 0.1864 - val_acc: 0.9390\n",
      "Epoch 41/100\n",
      "100/100 [==============================] - 16s 161ms/step - loss: 0.0464 - acc: 0.9805 - val_loss: 0.0719 - val_acc: 0.9340\n",
      "Epoch 42/100\n",
      "100/100 [==============================] - 17s 167ms/step - loss: 0.0502 - acc: 0.9800 - val_loss: 0.4475 - val_acc: 0.9360\n",
      "Epoch 43/100\n",
      "100/100 [==============================] - 17s 169ms/step - loss: 0.0433 - acc: 0.9880 - val_loss: 0.3447 - val_acc: 0.9320\n",
      "Epoch 44/100\n",
      "100/100 [==============================] - 16s 165ms/step - loss: 0.0377 - acc: 0.9870 - val_loss: 0.3172 - val_acc: 0.9290\n",
      "Epoch 45/100\n",
      "100/100 [==============================] - 16s 162ms/step - loss: 0.0462 - acc: 0.9820 - val_loss: 0.5928 - val_acc: 0.9420\n",
      "Epoch 46/100\n",
      "100/100 [==============================] - 16s 162ms/step - loss: 0.0505 - acc: 0.9800 - val_loss: 0.9357 - val_acc: 0.9310\n",
      "Epoch 47/100\n",
      "100/100 [==============================] - 17s 165ms/step - loss: 0.0336 - acc: 0.9860 - val_loss: 0.3805 - val_acc: 0.9070\n",
      "Epoch 48/100\n",
      "100/100 [==============================] - 16s 162ms/step - loss: 0.0550 - acc: 0.9790 - val_loss: 0.2783 - val_acc: 0.9320\n",
      "Epoch 49/100\n",
      "100/100 [==============================] - 16s 162ms/step - loss: 0.0466 - acc: 0.9840 - val_loss: 0.0158 - val_acc: 0.9360\n",
      "Epoch 50/100\n",
      "100/100 [==============================] - 16s 162ms/step - loss: 0.0397 - acc: 0.9850 - val_loss: 0.3190 - val_acc: 0.9300\n",
      "Epoch 51/100\n",
      "100/100 [==============================] - 16s 162ms/step - loss: 0.0370 - acc: 0.9850 - val_loss: 0.0326 - val_acc: 0.9340\n",
      "Epoch 52/100\n",
      "100/100 [==============================] - 16s 162ms/step - loss: 0.0343 - acc: 0.9870 - val_loss: 0.4412 - val_acc: 0.9360\n",
      "Epoch 53/100\n",
      "100/100 [==============================] - 16s 162ms/step - loss: 0.0360 - acc: 0.9875 - val_loss: 0.0101 - val_acc: 0.9370\n",
      "Epoch 54/100\n",
      "100/100 [==============================] - 16s 162ms/step - loss: 0.0317 - acc: 0.9895 - val_loss: 0.0011 - val_acc: 0.9180\n",
      "Epoch 55/100\n",
      "100/100 [==============================] - 16s 162ms/step - loss: 0.0245 - acc: 0.9905 - val_loss: 0.1547 - val_acc: 0.9290\n",
      "Epoch 56/100\n",
      "100/100 [==============================] - 16s 162ms/step - loss: 0.0370 - acc: 0.9855 - val_loss: 0.0900 - val_acc: 0.9200\n",
      "Epoch 57/100\n",
      "100/100 [==============================] - 16s 162ms/step - loss: 0.0311 - acc: 0.9865 - val_loss: 0.5066 - val_acc: 0.9230\n",
      "Epoch 58/100\n",
      "100/100 [==============================] - 16s 162ms/step - loss: 0.0340 - acc: 0.9890 - val_loss: 0.1218 - val_acc: 0.9310\n",
      "Epoch 59/100\n",
      "100/100 [==============================] - 16s 162ms/step - loss: 0.0323 - acc: 0.9870 - val_loss: 0.0587 - val_acc: 0.9360\n",
      "Epoch 60/100\n",
      "100/100 [==============================] - 16s 164ms/step - loss: 0.0433 - acc: 0.9845 - val_loss: 0.2760 - val_acc: 0.9370\n"
     ]
    },
    {
     "name": "stdout",
     "output_type": "stream",
     "text": [
      "Epoch 61/100\n",
      "100/100 [==============================] - 16s 162ms/step - loss: 0.0319 - acc: 0.9905 - val_loss: 0.1874 - val_acc: 0.9290\n",
      "Epoch 62/100\n",
      "100/100 [==============================] - 16s 162ms/step - loss: 0.0308 - acc: 0.9905 - val_loss: 0.6482 - val_acc: 0.9380\n",
      "Epoch 63/100\n",
      "100/100 [==============================] - 16s 162ms/step - loss: 0.0316 - acc: 0.9870 - val_loss: 0.2550 - val_acc: 0.9390\n",
      "Epoch 64/100\n",
      "100/100 [==============================] - 16s 162ms/step - loss: 0.0269 - acc: 0.9910 - val_loss: 0.0264 - val_acc: 0.9380\n",
      "Epoch 65/100\n",
      "100/100 [==============================] - 16s 162ms/step - loss: 0.0273 - acc: 0.9910 - val_loss: 0.6453 - val_acc: 0.9390\n",
      "Epoch 66/100\n",
      "100/100 [==============================] - 16s 162ms/step - loss: 0.0360 - acc: 0.9895 - val_loss: 0.1569 - val_acc: 0.9300\n",
      "Epoch 67/100\n",
      "100/100 [==============================] - 16s 162ms/step - loss: 0.0376 - acc: 0.9840 - val_loss: 0.1749 - val_acc: 0.9220\n",
      "Epoch 68/100\n",
      "100/100 [==============================] - 16s 162ms/step - loss: 0.0240 - acc: 0.9930 - val_loss: 0.1839 - val_acc: 0.9350\n",
      "Epoch 69/100\n",
      "100/100 [==============================] - 16s 162ms/step - loss: 0.0206 - acc: 0.9935 - val_loss: 0.0183 - val_acc: 0.9340\n",
      "Epoch 70/100\n",
      "100/100 [==============================] - 16s 162ms/step - loss: 0.0266 - acc: 0.9905 - val_loss: 1.7385e-05 - val_acc: 0.9270\n",
      "Epoch 71/100\n",
      "100/100 [==============================] - 16s 162ms/step - loss: 0.0249 - acc: 0.9900 - val_loss: 0.4437 - val_acc: 0.9310\n",
      "Epoch 72/100\n",
      "100/100 [==============================] - 16s 162ms/step - loss: 0.0253 - acc: 0.9900 - val_loss: 0.4468 - val_acc: 0.9320\n",
      "Epoch 73/100\n",
      "100/100 [==============================] - 16s 162ms/step - loss: 0.0324 - acc: 0.9900 - val_loss: 1.0336 - val_acc: 0.9330\n",
      "Epoch 74/100\n",
      "100/100 [==============================] - 16s 162ms/step - loss: 0.0175 - acc: 0.9945 - val_loss: 0.7665 - val_acc: 0.9320\n",
      "Epoch 75/100\n",
      "100/100 [==============================] - 16s 162ms/step - loss: 0.0203 - acc: 0.9925 - val_loss: 0.1461 - val_acc: 0.9410\n",
      "Epoch 76/100\n",
      "100/100 [==============================] - 16s 162ms/step - loss: 0.0199 - acc: 0.9920 - val_loss: 0.0110 - val_acc: 0.9270\n",
      "Epoch 77/100\n",
      "100/100 [==============================] - 16s 162ms/step - loss: 0.0166 - acc: 0.9920 - val_loss: 0.4115 - val_acc: 0.9350\n",
      "Epoch 78/100\n",
      "100/100 [==============================] - 16s 162ms/step - loss: 0.0170 - acc: 0.9935 - val_loss: 0.0149 - val_acc: 0.9430\n",
      "Epoch 79/100\n",
      "100/100 [==============================] - 16s 162ms/step - loss: 0.0314 - acc: 0.9885 - val_loss: 3.0611e-05 - val_acc: 0.9310\n",
      "Epoch 80/100\n",
      "100/100 [==============================] - 16s 162ms/step - loss: 0.0290 - acc: 0.9895 - val_loss: 0.0540 - val_acc: 0.9270\n",
      "Epoch 81/100\n",
      "100/100 [==============================] - 16s 162ms/step - loss: 0.0159 - acc: 0.9965 - val_loss: 0.2418 - val_acc: 0.9400\n",
      "Epoch 82/100\n",
      "100/100 [==============================] - 16s 162ms/step - loss: 0.0188 - acc: 0.9935 - val_loss: 0.3526 - val_acc: 0.9380\n",
      "Epoch 83/100\n",
      "100/100 [==============================] - 16s 162ms/step - loss: 0.0214 - acc: 0.9915 - val_loss: 0.1219 - val_acc: 0.9330\n",
      "Epoch 84/100\n",
      "100/100 [==============================] - 17s 166ms/step - loss: 0.0194 - acc: 0.9930 - val_loss: 1.6695 - val_acc: 0.9340\n",
      "Epoch 85/100\n",
      "100/100 [==============================] - 17s 172ms/step - loss: 0.0186 - acc: 0.9920 - val_loss: 0.2048 - val_acc: 0.9330\n",
      "Epoch 86/100\n",
      "100/100 [==============================] - 17s 168ms/step - loss: 0.0171 - acc: 0.9950 - val_loss: 0.0021 - val_acc: 0.9260\n",
      "Epoch 87/100\n",
      "100/100 [==============================] - 16s 164ms/step - loss: 0.0174 - acc: 0.9925 - val_loss: 0.0835 - val_acc: 0.9320\n",
      "Epoch 88/100\n",
      "100/100 [==============================] - 17s 171ms/step - loss: 0.0164 - acc: 0.9935 - val_loss: 0.2082 - val_acc: 0.9260\n",
      "Epoch 89/100\n",
      "100/100 [==============================] - 17s 171ms/step - loss: 0.0181 - acc: 0.9940 - val_loss: 0.2567 - val_acc: 0.9240\n",
      "Epoch 90/100\n",
      "100/100 [==============================] - 17s 171ms/step - loss: 0.0248 - acc: 0.9895 - val_loss: 0.0010 - val_acc: 0.9370\n",
      "Epoch 91/100\n",
      "100/100 [==============================] - 17s 172ms/step - loss: 0.0195 - acc: 0.9945 - val_loss: 0.1931 - val_acc: 0.9260\n",
      "Epoch 92/100\n",
      "100/100 [==============================] - 17s 171ms/step - loss: 0.0256 - acc: 0.9920 - val_loss: 0.4888 - val_acc: 0.9310\n",
      "Epoch 93/100\n",
      "100/100 [==============================] - 17s 173ms/step - loss: 0.0210 - acc: 0.9930 - val_loss: 0.4416 - val_acc: 0.9440\n",
      "Epoch 94/100\n",
      "100/100 [==============================] - 17s 174ms/step - loss: 0.0116 - acc: 0.9960 - val_loss: 0.5355 - val_acc: 0.9370\n",
      "Epoch 95/100\n",
      "100/100 [==============================] - 17s 171ms/step - loss: 0.0319 - acc: 0.9900 - val_loss: 0.1919 - val_acc: 0.9370\n",
      "Epoch 96/100\n",
      "100/100 [==============================] - 17s 173ms/step - loss: 0.0197 - acc: 0.9920 - val_loss: 0.2255 - val_acc: 0.9340\n",
      "Epoch 97/100\n",
      "100/100 [==============================] - 17s 170ms/step - loss: 0.0183 - acc: 0.9920 - val_loss: 0.2651 - val_acc: 0.9340\n",
      "Epoch 98/100\n",
      "100/100 [==============================] - 16s 164ms/step - loss: 0.0197 - acc: 0.9925 - val_loss: 0.3311 - val_acc: 0.9410\n",
      "Epoch 99/100\n",
      "100/100 [==============================] - 16s 165ms/step - loss: 0.0186 - acc: 0.9925 - val_loss: 0.2535 - val_acc: 0.9430\n",
      "Epoch 100/100\n",
      "100/100 [==============================] - 16s 164ms/step - loss: 0.0215 - acc: 0.9940 - val_loss: 0.2241 - val_acc: 0.9340\n"
     ]
    }
   ],
   "source": [
    "history = model.fit_generator(train_generator,\n",
    "                              steps_per_epoch=100,\n",
    "                              epochs=100,\n",
    "                              validation_data=val_generator,\n",
    "                              validation_steps=50)"
   ]
  },
  {
   "cell_type": "code",
   "execution_count": 34,
   "metadata": {},
   "outputs": [
    {
     "data": {
      "image/png": "[encoded data removed]",
      "text/plain": [
       "<Figure size 432x288 with 1 Axes>"
      ]
     },
     "metadata": {
      "needs_background": "light"
     },
     "output_type": "display_data"
    },
    {
     "data": {
      "image/png": "[encoded data removed]",
      "text/plain": [
       "<Figure size 432x288 with 1 Axes>"
      ]
     },
     "metadata": {
      "needs_background": "light"
     },
     "output_type": "display_data"
    }
   ],
   "source": [
    "# 결과 그래프 그리기\n",
    "\n",
    "import matplotlib.pyplot as plt\n",
    "\n",
    "acc = history.history['acc']\n",
    "val_acc = history.history['val_acc']\n",
    "loss = history.history['loss']\n",
    "val_loss = history.history['val_loss']\n",
    "\n",
    "epochs = range(1, len(acc) + 1)\n",
    "\n",
    "plt.plot(epochs, acc, 'b', label='train_acc')\n",
    "plt.plot(epochs, val_acc, 'r', label='val_acc')\n",
    "plt.title(\"Accuracy\")\n",
    "plt.legend()\n",
    "plt.figure()\n",
    "\n",
    "plt.plot(epochs, loss, 'b', label='train_loss')\n",
    "plt.plot(epochs, val_loss, 'r', label='val_loss')\n",
    "plt.title(\"Loss\")\n",
    "plt.legend()\n",
    "plt.show()"
   ]
  },
  {
   "cell_type": "code",
   "execution_count": 35,
   "metadata": {},
   "outputs": [
    {
     "data": {
      "image/png": "[encoded data removed]",
      "text/plain": [
       "<Figure size 432x288 with 1 Axes>"
      ]
     },
     "metadata": {
      "needs_background": "light"
     },
     "output_type": "display_data"
    },
    {
     "data": {
      "image/png": "[encoded data removed]",
      "text/plain": [
       "<Figure size 432x288 with 1 Axes>"
      ]
     },
     "metadata": {
      "needs_background": "light"
     },
     "output_type": "display_data"
    }
   ],
   "source": [
    "# 그래프의 값 변동이 심하므로 지수이동평균 적용\n",
    "\n",
    "def smooth_curve(points, factor=0.9):\n",
    "    smoothed_curve = []\n",
    "    for point in points:\n",
    "        if smoothed_curve:\n",
    "            prev = smoothed_curve[-1]\n",
    "            smoothed_curve.append(prev*factor + point*(1-factor))\n",
    "        else:\n",
    "            smoothed_curve.append(point)\n",
    "            \n",
    "    return smoothed_curve\n",
    "\n",
    "\n",
    "plt.plot(epochs, smooth_curve(acc), 'b', label='smoothed train_acc')\n",
    "plt.plot(epochs, smooth_curve(val_acc), 'r', label='smoothed val_acc')\n",
    "plt.title(\"Accuracy\")\n",
    "plt.legend()\n",
    "plt.figure()\n",
    "\n",
    "plt.plot(epochs, smooth_curve(loss), 'b', label='smoothed train_loss')\n",
    "plt.plot(epochs, smooth_curve(val_loss), 'r', label='smoothed val_loss')\n",
    "plt.title(\"Loss\")\n",
    "plt.legend()\n",
    "plt.show()"
   ]
  },
  {
   "cell_type": "code",
   "execution_count": 36,
   "metadata": {},
   "outputs": [
    {
     "name": "stdout",
     "output_type": "stream",
     "text": [
      "Found 1000 images belonging to 2 classes.\n",
      "50/50 [==============================] - 5s 96ms/step\n",
      "test_acc :  0.9430000185966492\n"
     ]
    }
   ],
   "source": [
    "# test data로 모델 평가\n",
    "\n",
    "# 검증셋과 테스트셋이 이미지 수가 같아서 val_datagen을 그냥 사용함\n",
    "\n",
    "test_generator = val_datagen.flow_from_directory(test_dir,\n",
    "                                                 target_size=(150, 150),\n",
    "                                                 batch_size=20,\n",
    "                                                 class_mode='binary')\n",
    "\n",
    "test_loss, test_acc = model.evaluate(test_generator, steps=50)\n",
    "print('test_acc : ', test_acc)"
   ]
  },
  {
   "cell_type": "markdown",
   "metadata": {},
   "source": [
    "**결과 분석**\n",
    "- 검증 정확도가 더 상승하였음(94%에 가까워짐)\n",
    "- 94%의 테스트 정확도(훨씬 성능이 좋아짐)\n",
    "- 손실은 향상을 얻지못함(더 악화됨)\n",
    "\n",
    "\n",
    "### 손실이 감소되지 않았는데(오히려 증가) 정확도가 좋아진 이유\n",
    "- 그래프는 개별 손실 값들의 평균을 나타낸 것\n",
    "- 정확도에 영향을 미치는 것은 손실 값의 분포이지 평균이 아님\n",
    "- **모델이 더 향상되더라도 평균 손실에 반영되지 않을 수 있음**\n",
    "    - 4.5절의 내용처럼 **정확도를 직접 최적화는 불가능하고 손실함수를 최적화하기 때문**"
   ]
  },
  {
   "cell_type": "markdown",
   "metadata": {},
   "source": [
    "### 정리\n",
    "\n",
    "- Convnet은 컴퓨터 비전에서 가장 뛰어난 모델\n",
    "- **작은 데이터셋**에서는 Overfitting이 가장 큰 문제\n",
    "    - **Data Augmetation이 Overfitting 막기 위한 가장 좋은 방법**\n",
    "    - **Feature Extraction** 방식으로 pretrained network를 재사용 할 수 있음\n",
    "    - **Fine Tuning**을 통해 Feature Extraction보다 더 성능을 끌어올릴 수 있음"
   ]
  }
 ],
 "metadata": {
  "kernelspec": {
   "display_name": "Python 3",
   "language": "python",
   "name": "python3"
  },
  "language_info": {
   "codemirror_mode": {
    "name": "ipython",
    "version": 3
   },
   "file_extension": ".py",
   "mimetype": "text/x-python",
   "name": "python",
   "nbconvert_exporter": "python",
   "pygments_lexer": "ipython3",
   "version": "3.7.5"
  }
 },
 "nbformat": 4,
 "nbformat_minor": 2
}
