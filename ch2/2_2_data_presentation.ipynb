{
 "cells": [
  {
   "cell_type": "markdown",
   "metadata": {},
   "source": [
    "# 2.2 데이터의 표현"
   ]
  },
  {
   "cell_type": "markdown",
   "metadata": {},
   "source": [
    "## 2.2.1 스칼라(0차원 텐서, 랭크 0 텐서, 축 개수가 0인 텐서)"
   ]
  },
  {
   "cell_type": "code",
   "execution_count": 1,
   "metadata": {
    "scrolled": true
   },
   "outputs": [
    {
     "name": "stdout",
     "output_type": "stream",
     "text": [
      "()\n",
      "0\n"
     ]
    }
   ],
   "source": [
    "import numpy as np\n",
    "\n",
    "x = np.array(12)\n",
    "\n",
    "# shape 속성을 통해 배열의 크기 출력\n",
    "print(x.shape)\n",
    "\n",
    "# ndim 속성을 통해 차원 출력\n",
    "print(x.ndim)"
   ]
  },
  {
   "cell_type": "markdown",
   "metadata": {},
   "source": [
    "## 2.2.2 벡터(1차원 텐서, 랭크 1 텐서, 축 개수가 1인 텐서)"
   ]
  },
  {
   "cell_type": "code",
   "execution_count": 2,
   "metadata": {},
   "outputs": [
    {
     "name": "stdout",
     "output_type": "stream",
     "text": [
      "(5,)\n",
      "1\n"
     ]
    }
   ],
   "source": [
    "x = np.array([12, 3, 6, 14, 7])\n",
    "\n",
    "print(x.shape)\n",
    "print(x.ndim)"
   ]
  },
  {
   "cell_type": "markdown",
   "metadata": {},
   "source": [
    "## 2.2.3 행렬 (2차원 텐서, 랭크 2 텐서, 축 개수가 2인 텐서)"
   ]
  },
  {
   "cell_type": "code",
   "execution_count": 3,
   "metadata": {},
   "outputs": [
    {
     "name": "stdout",
     "output_type": "stream",
     "text": [
      "(3, 2)\n",
      "2\n"
     ]
    }
   ],
   "source": [
    "x = np.array([[1, 2],\n",
    "              [3, 4],\n",
    "              [5, 6]])\n",
    "\n",
    "print(x.shape)\n",
    "print(x.ndim)"
   ]
  },
  {
   "cell_type": "markdown",
   "metadata": {},
   "source": [
    "## 2.2.4 고차원(3차원 이상 텐서, 랭크 3 이상 텐서, 축 개수가 3 이상인 텐서)"
   ]
  },
  {
   "cell_type": "code",
   "execution_count": 4,
   "metadata": {},
   "outputs": [
    {
     "name": "stdout",
     "output_type": "stream",
     "text": [
      "(3, 3, 3)\n",
      "3\n"
     ]
    }
   ],
   "source": [
    "# 고차원(3차원 이상) 텐서\n",
    "\n",
    "x = np.array([[[1, 2, 3],\n",
    "               [4, 5, 6],\n",
    "               [7, 8, 9]],\n",
    "              [[1, 2, 3],\n",
    "               [4, 5, 6],\n",
    "               [7, 8, 9]],\n",
    "              [[1, 2, 3],\n",
    "               [4, 5, 6],\n",
    "               [7, 8, 9]]])\n",
    "\n",
    "print(x.shape)\n",
    "print(x.ndim)"
   ]
  },
  {
   "cell_type": "markdown",
   "metadata": {},
   "source": [
    "## 2.2.5 텐서의 3가지 핵심 속성(차원, 크기, 데이터타입)"
   ]
  },
  {
   "cell_type": "code",
   "execution_count": 5,
   "metadata": {},
   "outputs": [
    {
     "name": "stderr",
     "output_type": "stream",
     "text": [
      "Using TensorFlow backend.\n"
     ]
    },
    {
     "name": "stdout",
     "output_type": "stream",
     "text": [
      "차원 : 3\n",
      "크기 : (60000, 28, 28)\n",
      "데이터 타입 : uint8\n"
     ]
    }
   ],
   "source": [
    "# mnist에서 사용한 데이터셋에 대해 확인\n",
    "\n",
    "from keras.datasets import mnist\n",
    "\n",
    "(train_images, train_labels), (test_images, test_labels) = mnist.load_data()\n",
    "\n",
    "print(\"차원 :\", train_images.ndim)\n",
    "print(\"크기 :\", train_images.shape)\n",
    "print(\"데이터 타입 :\", train_images.dtype)"
   ]
  },
  {
   "cell_type": "markdown",
   "metadata": {},
   "source": [
    "## 2.2.6 넘파이로 텐서 조작하기"
   ]
  },
  {
   "cell_type": "code",
   "execution_count": 6,
   "metadata": {
    "scrolled": true
   },
   "outputs": [
    {
     "name": "stdout",
     "output_type": "stream",
     "text": [
      "(90, 28, 28)\n",
      "(90, 28, 28)\n",
      "(90, 28, 28)\n"
     ]
    }
   ],
   "source": [
    "# 슬라이싱(slicing)\n",
    "my_slice1 = train_images[10:100]\n",
    "my_slice2 = train_images[10:100, :, :]\n",
    "my_slice3 = train_images[10:100, 0:28, 0:28]\n",
    "\n",
    "print(my_slice1.shape)\n",
    "print(my_slice2.shape)\n",
    "print(my_slice3.shape)"
   ]
  },
  {
   "cell_type": "code",
   "execution_count": 7,
   "metadata": {},
   "outputs": [
    {
     "data": {
      "image/png": "[encoded data removed]",
      "text/plain": [
       "<Figure size 432x288 with 1 Axes>"
      ]
     },
     "metadata": {
      "needs_background": "light"
     },
     "output_type": "display_data"
    }
   ],
   "source": [
    "# mnist에서 사용한 이미지 확인\n",
    "digit = train_images[4]\n",
    "\n",
    "import matplotlib.pyplot as plt\n",
    "\n",
    "# cmap 속성으로 흑백 출력 가능\n",
    "plt.imshow(digit, cmap=plt.cm.binary)\n",
    "plt.show()"
   ]
  },
  {
   "cell_type": "code",
   "execution_count": 8,
   "metadata": {},
   "outputs": [
    {
     "name": "stdout",
     "output_type": "stream",
     "text": [
      "(14, 14)\n"
     ]
    },
    {
     "data": {
      "image/png": "[encoded data removed]",
      "text/plain": [
       "<Figure size 432x288 with 1 Axes>"
      ]
     },
     "metadata": {
      "needs_background": "light"
     },
     "output_type": "display_data"
    }
   ],
   "source": [
    "# 오른쪽 아래 14*14 이미지 slicing\n",
    "bottom_right_14_14 = train_images[4, -14:, -14:]\n",
    "print(bottom_right_14_14.shape)\n",
    "\n",
    "plt.imshow(bottom_right_14_14, cmap=plt.cm.binary)\n",
    "plt.show()"
   ]
  },
  {
   "cell_type": "code",
   "execution_count": 9,
   "metadata": {},
   "outputs": [
    {
     "name": "stdout",
     "output_type": "stream",
     "text": [
      "(10, 10)\n"
     ]
    },
    {
     "data": {
      "image/png": "[encoded data removed]",
      "text/plain": [
       "<Figure size 432x288 with 1 Axes>"
      ]
     },
     "metadata": {
      "needs_background": "light"
     },
     "output_type": "display_data"
    }
   ],
   "source": [
    "# 정중앙 10*10 이미지 slicing\n",
    "center_10_10 = train_images[4, 9:-9, 9:-9]\n",
    "print(center_10_10.shape)\n",
    "\n",
    "plt.imshow(center_10_10, cmap=plt.cm.binary)\n",
    "plt.show()"
   ]
  },
  {
   "cell_type": "markdown",
   "metadata": {},
   "source": [
    "## 2.2.7 배치(batch) 데이터\n",
    "\n",
    "- batch\n",
    "   - 전체 데이터 셋을 작게 나눈 것\n",
    "   - 샘플의 단위로 자름\n",
    "- 샘플 축(sample axis)\n",
    "   - 텐서의 첫번째 축을 뜻함, mnist에서는 숫자 이미지가 샘플\n",
    "- 따라서, 이미지에서 batch size = 10이면 10장 이미지 단위로 batch가 들어간다는 의미"
   ]
  },
  {
   "cell_type": "code",
   "execution_count": 12,
   "metadata": {},
   "outputs": [
    {
     "name": "stdout",
     "output_type": "stream",
     "text": [
      "total datas : 60000\n",
      "total batch : 600\n",
      "batch size  : 100\n"
     ]
    }
   ],
   "source": [
    "batch_num = 0\n",
    "batch_size = 100\n",
    "\n",
    "for n in range(len(train_images) // batch_size): # /연산자는 float반환해서 //썼음\n",
    "    batch = train_images[n*128:(n+1)*128]\n",
    "    batch_num += 1\n",
    "\n",
    "print(\"total datas :\", len(train_images))\n",
    "print(\"total batch :\", batch_num)\n",
    "print(\"batch size  :\", batch_size)"
   ]
  },
  {
   "cell_type": "code",
   "execution_count": null,
   "metadata": {},
   "outputs": [],
   "source": []
  }
 ],
 "metadata": {
  "kernelspec": {
   "display_name": "Python 3",
   "language": "python",
   "name": "python3"
  },
  "language_info": {
   "codemirror_mode": {
    "name": "ipython",
    "version": 3
   },
   "file_extension": ".py",
   "mimetype": "text/x-python",
   "name": "python",
   "nbconvert_exporter": "python",
   "pygments_lexer": "ipython3",
   "version": "3.7.5"
  }
 },
 "nbformat": 4,
 "nbformat_minor": 2
}
