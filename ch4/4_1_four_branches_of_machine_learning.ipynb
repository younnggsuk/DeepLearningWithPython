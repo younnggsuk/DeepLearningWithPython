{
 "cells": [
  {
   "cell_type": "markdown",
   "metadata": {},
   "source": [
    "# 4.1 머신러닝의 4가지 분류"
   ]
  },
  {
   "cell_type": "markdown",
   "metadata": {},
   "source": [
    "### 4.1 지도 학습 (Supervised Learning)\n",
    "\n",
    "- 샘플 데이터가 주어지면 **타깃에 입력 데이터를 매핑하는 방법**을 학습\n",
    "- 대부분 **분류와 회귀**로 구성되지만 다음과 같은 특이한 경우도 있음\n",
    "    - 시퀀스 생성(sequence generation)\n",
    "        - 사진이 주어지면 이를 설명하는 캡션을 생성\n",
    "        - 시퀀스에 있는 단어나 토큰을 반복적으로 예측하는 것과 같이 분류 문제로 재구성 할 수 있음\n",
    "    - 구문 트리(syntax tree)예측\n",
    "        - 문장이 주어지면 분해된 구문 트리를 예측\n",
    "    - 물체 감지(object detection)\n",
    "        - 사진이 주어지면 사진 안의 특정 물체 주위에 bounding box를 그림\n",
    "        - bounding box의 좌표를 벡터 회귀로 예측하는 회귀와 분류가 결합된 문제로 표현\n",
    "            - 벡터 회귀 : 여러 개의 값(bounding box의 좌표)에 대한 회귀\n",
    "    - 이미지 분할(image segmentation)\n",
    "        - 사진이 주어졌을 때 픽셀 단위로 특정 물체에 마스킹(masking)"
   ]
  },
  {
   "cell_type": "markdown",
   "metadata": {},
   "source": [
    "### 4.2 비지도 학습 (Unsupervised Learning)\n",
    "\n",
    "- **타깃 없이** 입력 데이터에 대한 흥미로운 변환을 찾는 것\n",
    "- 차원 축소(dimensionality reduction), 군집(clustering) 등\n",
    "- 데이터 시각화, 데이터 압축, 데이터 노이즈 제거 등 데이터 분석에서 주로 사용됨\n",
    "- 종종 지도 학습에서 데이터셋을 잘 이해하기 위해 필수적으로 거치는 단계"
   ]
  },
  {
   "cell_type": "markdown",
   "metadata": {},
   "source": [
    "### 4.3 자기 지도 학습 (Self-Supervised Learning)\n",
    "\n",
    "- **입력 데이터로부터** 경험적인 알고리즘(heuristic algorithm)을 사용해 **레이블을 생성해서 사용**\n",
    "- 지도학습이지만 사람이 만든 레이블을 사용하지 않음(**사람이 학습과정에 개입하지 않는 지도학습**)\n",
    "- 오토인코더(autoencoder)가 잘 알려진 예"
   ]
  },
  {
   "cell_type": "markdown",
   "metadata": {},
   "source": [
    "### 4.4 강화 학습 (Reinforcement Learning)\n",
    "\n",
    "- **에이전트(agent)**는 **환경에 대한 정보를 받아 보상을 최대화** 하려는 행동을 선택하도록 학습"
   ]
  }
 ],
 "metadata": {
  "kernelspec": {
   "display_name": "Python 3",
   "language": "python",
   "name": "python3"
  },
  "language_info": {
   "codemirror_mode": {
    "name": "ipython",
    "version": 3
   },
   "file_extension": ".py",
   "mimetype": "text/x-python",
   "name": "python",
   "nbconvert_exporter": "python",
   "pygments_lexer": "ipython3",
   "version": "3.7.5"
  }
 },
 "nbformat": 4,
 "nbformat_minor": 2
}
