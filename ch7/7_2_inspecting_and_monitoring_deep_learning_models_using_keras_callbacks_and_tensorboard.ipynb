{
 "cells": [
  {
   "cell_type": "markdown",
   "metadata": {},
   "source": [
    "# 7.2 케라스 콜백과 텐서보드를 사용한 딥러닝 모델 검사와 모니터링"
   ]
  },
  {
   "cell_type": "markdown",
   "metadata": {},
   "source": [
    "## 7.2.1 콜백을 사용하여 모델의 훈련 과정 제어하기\n",
    "\n",
    "### keras의 callback\n",
    "- callback은 모델의 `fit()`이 호출될 때 전달되는 객체를 뜻함\n",
    "- 모델의 상태와 성능에 대한 모든 정보에 접근하고 훈련 중지, 모델 저장, 가중치 적재 또는 모델 상태 변경 등을 처리할 수 있음\n",
    "\n",
    "\n",
    "- callback을 사용하는 몇가지 사례\n",
    "    - 모델 체크포인트 저장 : 훈련 중에 모델의 가중치를 저장\n",
    "    - 조기 종료(early stopping) : 특정 모니터링 지표가 더이상 향상되지 않을 때 훈련을 중지(가장 좋은 결과를 얻은 모델을 저장)\n",
    "    - 훈련 중 하이퍼파라미터 값을 동적으로 조정 : 훈련 중 optimizer의 learning rate를 조정\n",
    "    - 훈련과 검증 지표를 log에 기록하거나 모델의 가중치가 업데이트 될 때마다 시각화 : 케라스의 진행 표시줄(progress bar)이 하나의 콜백\n",
    "  \n",
    "    \n",
    "- 여러 내장 콜백들은 `keras.callbacks` 모듈에 있음\n",
    "\n",
    "\n",
    "- 참고) 자동으로 추가되는 콜백들\n",
    "    - `fit()`메서드가 반환하는 history 객체를 위한 `History` callback\n",
    "    - 측정 지표의 평균을 계산하는 `BaseLogger` callback\n",
    "    - `fit()` 메서드에 `verbose=0`을 지정하지 않았다면 진행 표시줄을 위한 `ProgbarLogger` callback\n",
    "    \n",
    "\n",
    "### ModelCheckpoint와 EarlyStopping 콜백\n",
    "\n",
    "- `EarlyStopping` callback을 사용하면 epoch 동안 모니터링 지표가 향상되지 않을 때 훈련을 중지할 수 있음\n",
    "- 일반적으로 훈련 중 모델을 저장하는 `ModelCheckpoint` callback과 같이 사용됨"
   ]
  },
  {
   "cell_type": "code",
   "execution_count": null,
   "metadata": {
    "scrolled": true
   },
   "outputs": [],
   "source": [
    "# ModelCheckpoint와 EarlyStopping의 사용 예\n",
    "\n",
    "from tensorflow.keras.callbacks import ModelCheckpoint, EarlyStopping\n",
    "from tensorflow.keras.optimizers import RMSprop\n",
    "\n",
    "# 여러 callback들을 리스트로 전달할 수 있음\n",
    "callbacks_list = [\n",
    "    # 검증 정확도(val_acc)가 10 epoch보다 더 긴시간동안 향상되지 않으면 훈련을 중지\n",
    "    EarlyStopping(\n",
    "        monitor='val_acc', # 기본값은 monitor='val_loss'\n",
    "        patience=10\n",
    "    ),\n",
    "    \n",
    "    # 훈련 중 검증 손실(val_loss)이 가장 좋을 때마다 계속해서 저장\n",
    "    # (최종적으로 가장 좋은 모델만 저장됨)\n",
    "    ModelCheckpoint(\n",
    "        filepath='my_model.h5',\n",
    "        monitor='val_loss',\n",
    "        save_best_only=True\n",
    "    )\n",
    "]\n",
    "\n",
    "model.compile(optimizer=RMSprop(),\n",
    "              loss='binary_crossentropy',\n",
    "              # 정확도를 모니터링 하므로 반드시 모델 지표에 포함되어야 함\n",
    "              metrics=['acc'])\n",
    "\n",
    "\n",
    "model.fit(x_train, y_train,\n",
    "          epochs=100,\n",
    "          batch_size=32,\n",
    "          callbacks=callbacks_list,\n",
    "          # 검증 정확도와 검증 손실을 모니터링하므로 검증 데이터가 반드시 전달되어야 함\n",
    "          validation_data=(x_val, y_val))"
   ]
  },
  {
   "cell_type": "markdown",
   "metadata": {},
   "source": [
    "### ReduceLROnPlateau 콜백\n",
    "\n",
    "- ReduceLROnPlateau 콜백을 사용하면 검증 손실이 향상되지 않을 때 학습률을 조절할 수 있음\n",
    "    - 훈련 중 local minimum에서 벗어나는데 도움이 됨"
   ]
  },
  {
   "cell_type": "code",
   "execution_count": null,
   "metadata": {},
   "outputs": [],
   "source": [
    "# ReduceLROnPlateau 콜백 사용 예\n",
    "\n",
    "from tensorflow.keras.callbacks import ReduceLROnPlateau\n",
    "\n",
    "callbacks_list = [\n",
    "    ReduceLROnPlateau(\n",
    "        # 검증 손실이 10 epoch동안 좋아지지 않으면 학습률에 0.1을 곱함(학습률을 1/10으로)\n",
    "        monitor='val_loss',\n",
    "        factor=0.1,\n",
    "        patience=10\n",
    "    )\n",
    "]\n",
    "\n",
    "model.fit(x_train, y_train,\n",
    "          epochs=100,\n",
    "          batch_size=32,\n",
    "          callbacks=callbacks_list,\n",
    "          # 검증 손실을 모니터링하므로 검증 데이터가 반드시 전달되어야 함\n",
    "          validation_data=(x_val, y_val))"
   ]
  },
  {
   "cell_type": "markdown",
   "metadata": {},
   "source": [
    "### 자신만의 콜백 만들기\n",
    "\n",
    "- 내장 콜백에서 제공하지 않는 다른 기능이 필요하면 직접 정의해서 사용할 수 있음\n",
    "\n",
    "\n",
    "- `keras.callbacks.Callback` 클래스를 상속받아 아래의 약속된 메서드를 구현\n",
    "    - `on_epoch_begin` : epoch 시작 전 호출\n",
    "    - `on_epoch_end`   : epoch 끝난 후 호출\n",
    "    \n",
    "    - `on_batch_begin` : batch 처리 시작 전 호출\n",
    "    - `on_batch_end`   : batch 처리 끝난 후 호출\n",
    "    \n",
    "    - `on_train_begin` : 훈련 시작 시 호출\n",
    "    - `on_train_end`   : 훈련 끝날 때 호출\n",
    "    \n",
    "\n",
    "- 위 메서드들은 모두 `logs` 매개변수와 함께 호출됨\n",
    "    - `logs` 매개변수에는 이전 batch, epoch에 대한 훈련 및 검증 측정값이 담겨있는 딕셔너리가 전달됨\n",
    "\n",
    "\n",
    "- 콜백은 아래의 속성을 참조할 수 있음\n",
    "    - `self.model` : 콜백을 호출하는 모델 객체\n",
    "    - `self.validation_data` : `fit()` 메서드에 전달된 검증 데이터"
   ]
  },
  {
   "cell_type": "code",
   "execution_count": null,
   "metadata": {},
   "outputs": [],
   "source": [
    "# 사용자 정의 콜백 예\n",
    "\n",
    "# 매 epoch의 끝에서 검증 세트의 첫번째 샘플을 입력으로\n",
    "# 모든 층의 활성화 출력을 계산 후 넘파이 배열로 저장하는 콜백의 예\n",
    "\n",
    "from tensorflow.keras.models import Model\n",
    "from tensorflow.keras.callbacks import Callback\n",
    "\n",
    "import numpy as np\n",
    "\n",
    "class ActivationLogger(Callback):\n",
    "    \n",
    "    # set_model()은 호출하는 모델의 정보를 전달하기 위해 훈련 전에 호출됨\n",
    "    def set_model(self, model):\n",
    "        self.model = model\n",
    "        layer_outputs = [layer.output for layer in model.layers]\n",
    "        # \n",
    "        self.activations_model = Model(model.input, layer_outputs)\n",
    "        \n",
    "    \n",
    "    def on_epoch_end(self, epoch, logs=None):\n",
    "        if self.activation_data is None:\n",
    "            raise RuntimeError('Requires validation data')\n",
    "            \n",
    "        # 검증 데이터의 첫번째 샘플을 가져옴\n",
    "        # [0:1]은 데이터, 레이블 둘 모두 가져온다는 의미\n",
    "        # 첫번째 원소 : 입력 데이터, 두번째 원소 : 레이블\n",
    "        validation_sample = self.validation_data[0][0:1]\n",
    "        activations = self.activations_model.predict(validation_sample)\n",
    "#         f = open('activations_at_epoch_' + str(epoch) + '.npz', 'wb')\n",
    "#         np.savez(f, activations)\n",
    "#         f.close()\n",
    "        with open('activations_at_epoch_' + str(epoch) + '.npz', 'wb') as f:\n",
    "            np.savez(f, activations)"
   ]
  },
  {
   "cell_type": "markdown",
   "metadata": {},
   "source": [
    "## 7.2.2 텐서보드 소개 : 텐서플로의 시각화 프레임워크\n",
    "\n",
    "### 모델을 발전시켜나가는 과정\n",
    "\n",
    "1. 모델의 실험 과정에서 많은 피드백(정보)을 받음\n",
    "    - 텐서 보드의 역할\n",
    "\n",
    "\n",
    "2. 피드백을 토대로 새로운 아이디어를 얻어서 검증할 실험을 계획\n",
    "    - 케라스의 역할\n",
    "\n",
    "\n",
    "3. 계획한 실험을 통해 결과를 얻음\n",
    "    - 고속의 GPU(하드웨어)의 역할\n",
    "    \n",
    "<img src=\"./images/progress.png\" alt=\"progress\" align=\"left\"/>"
   ]
  },
  {
   "cell_type": "markdown",
   "metadata": {},
   "source": [
    "### 텐서보드\n",
    "\n",
    "- 텐서보드는 텐서플로와 함께 제공되는 브라우저 기반 시각화 도구이며 훈련 모델의 내부에서 일어나는 모든 것을 시각적으로 모니터링할 수 있도록 도와줌\n",
    "\n",
    "\n",
    "- 텐서보드의 여러가지 기능\n",
    "    - 훈련 중 측정 지표의 모니터링\n",
    "    - 모델 구조의 시각화\n",
    "    - 활성화 출력과 gradient의 histogram\n",
    "    - 3D로 Embedding을 표현"
   ]
  },
  {
   "cell_type": "markdown",
   "metadata": {},
   "source": [
    "### 텐서보드의 사용 예제 : IMDB 감성분석 문제"
   ]
  },
  {
   "cell_type": "code",
   "execution_count": 1,
   "metadata": {},
   "outputs": [
    {
     "name": "stdout",
     "output_type": "stream",
     "text": [
      "Model: \"sequential\"\n",
      "_________________________________________________________________\n",
      "Layer (type)                 Output Shape              Param #   \n",
      "=================================================================\n",
      "embed (Embedding)            (None, 500, 128)          256000    \n",
      "_________________________________________________________________\n",
      "conv1d (Conv1D)              (None, 494, 32)           28704     \n",
      "_________________________________________________________________\n",
      "max_pooling1d (MaxPooling1D) (None, 98, 32)            0         \n",
      "_________________________________________________________________\n",
      "conv1d_1 (Conv1D)            (None, 92, 32)            7200      \n",
      "_________________________________________________________________\n",
      "global_max_pooling1d (Global (None, 32)                0         \n",
      "_________________________________________________________________\n",
      "dense (Dense)                (None, 1)                 33        \n",
      "=================================================================\n",
      "Total params: 291,937\n",
      "Trainable params: 291,937\n",
      "Non-trainable params: 0\n",
      "_________________________________________________________________\n"
     ]
    }
   ],
   "source": [
    "# IMDB 데이터 로드\n",
    "\n",
    "import tensorflow as tf\n",
    "from tensorflow.keras.datasets import imdb\n",
    "from tensorflow.keras.preprocessing import sequence\n",
    "\n",
    "from tensorflow.keras import layers\n",
    "from tensorflow.keras import optimizers\n",
    "\n",
    "# 빈도수 높은 2000개 단어만 사용\n",
    "max_features = 2000\n",
    "# 각 문장은 500단어로 제한\n",
    "max_len = 500\n",
    "\n",
    "(x_train, y_train), (x_test, y_test) = imdb.load_data(num_words=max_features)\n",
    "\n",
    "x_train = sequence.pad_sequences(x_train, maxlen=max_len)\n",
    "x_test = sequence.pad_sequences(x_test, maxlen=max_len)\n",
    "\n",
    "model = tf.keras.Sequential()\n",
    "\n",
    "model.add(layers.Embedding(max_features, 128,\n",
    "                           input_length=max_len,\n",
    "                           name='embed'))\n",
    "model.add(layers.Conv1D(32, 7, activation='relu'))\n",
    "model.add(layers.MaxPooling1D(5))\n",
    "model.add(layers.Conv1D(32, 7, activation='relu'))\n",
    "model.add(layers.GlobalMaxPooling1D())\n",
    "model.add(layers.Dense(1))\n",
    "\n",
    "model.summary()\n",
    "\n",
    "model.compile(optimizers=optimizers.RMSprop(lr=0.1),\n",
    "              loss='binary_crossentropy',\n",
    "              metrics=['acc'])"
   ]
  },
  {
   "cell_type": "code",
   "execution_count": 2,
   "metadata": {},
   "outputs": [],
   "source": [
    "# 로그파일 저장할 디렉토리 생성\n",
    "\n",
    "import os\n",
    "\n",
    "log_dir = os.path.join(os.getcwd(), 'my_log_dir')\n",
    "\n",
    "if not os.path.isdir(log_dir) :\n",
    "    os.mkdir(log_dir)"
   ]
  },
  {
   "cell_type": "code",
   "execution_count": 3,
   "metadata": {},
   "outputs": [
    {
     "name": "stdout",
     "output_type": "stream",
     "text": [
      "Train on 20000 samples, validate on 5000 samples\n",
      "Epoch 1/20\n",
      "20000/20000 [==============================] - 6s 323us/sample - loss: 0.6080 - acc: 0.6775 - val_loss: 0.4391 - val_acc: 0.8382\n",
      "Epoch 2/20\n",
      "20000/20000 [==============================] - 5s 233us/sample - loss: 0.4480 - acc: 0.8544 - val_loss: 0.4628 - val_acc: 0.8612\n",
      "Epoch 3/20\n",
      "20000/20000 [==============================] - 5s 253us/sample - loss: 0.3726 - acc: 0.8862 - val_loss: 0.5374 - val_acc: 0.8494\n",
      "Epoch 4/20\n",
      "20000/20000 [==============================] - 5s 239us/sample - loss: 0.3647 - acc: 0.9015 - val_loss: 0.5576 - val_acc: 0.8656\n",
      "Epoch 5/20\n",
      "20000/20000 [==============================] - 5s 249us/sample - loss: 0.3046 - acc: 0.9250 - val_loss: 0.5399 - val_acc: 0.8690\n",
      "Epoch 6/20\n",
      "20000/20000 [==============================] - 5s 259us/sample - loss: 0.2613 - acc: 0.9398 - val_loss: 0.9808 - val_acc: 0.8236\n",
      "Epoch 7/20\n",
      "20000/20000 [==============================] - 5s 249us/sample - loss: 0.2346 - acc: 0.9532 - val_loss: 0.8246 - val_acc: 0.8572\n",
      "Epoch 8/20\n",
      "20000/20000 [==============================] - 5s 251us/sample - loss: 0.1904 - acc: 0.9691 - val_loss: 1.2376 - val_acc: 0.8222\n",
      "Epoch 9/20\n",
      "20000/20000 [==============================] - 5s 255us/sample - loss: 0.1556 - acc: 0.9827 - val_loss: 0.8340 - val_acc: 0.8666\n",
      "Epoch 10/20\n",
      "20000/20000 [==============================] - 5s 237us/sample - loss: 0.1483 - acc: 0.9828 - val_loss: 0.9838 - val_acc: 0.8604\n",
      "Epoch 11/20\n",
      "20000/20000 [==============================] - 5s 234us/sample - loss: 0.1335 - acc: 0.9865 - val_loss: 1.2129 - val_acc: 0.8520\n",
      "Epoch 12/20\n",
      "20000/20000 [==============================] - 5s 243us/sample - loss: 0.1253 - acc: 0.9873 - val_loss: 1.4334 - val_acc: 0.8300\n",
      "Epoch 13/20\n",
      "20000/20000 [==============================] - 5s 232us/sample - loss: 0.1130 - acc: 0.9911 - val_loss: 1.3353 - val_acc: 0.8452\n",
      "Epoch 14/20\n",
      "20000/20000 [==============================] - 5s 232us/sample - loss: 0.1210 - acc: 0.9894 - val_loss: 1.0951 - val_acc: 0.8662\n",
      "Epoch 15/20\n",
      "20000/20000 [==============================] - 5s 235us/sample - loss: 0.1165 - acc: 0.9901 - val_loss: 1.1093 - val_acc: 0.8662\n",
      "Epoch 16/20\n",
      "20000/20000 [==============================] - 5s 243us/sample - loss: 0.1103 - acc: 0.9910 - val_loss: 1.1314 - val_acc: 0.8630\n",
      "Epoch 17/20\n",
      "20000/20000 [==============================] - 5s 241us/sample - loss: 0.1182 - acc: 0.9890 - val_loss: 1.1780 - val_acc: 0.8660\n",
      "Epoch 18/20\n",
      "20000/20000 [==============================] - 5s 232us/sample - loss: 0.1106 - acc: 0.9902 - val_loss: 1.1649 - val_acc: 0.8664\n",
      "Epoch 19/20\n",
      "20000/20000 [==============================] - 5s 238us/sample - loss: 0.1171 - acc: 0.9888 - val_loss: 1.4289 - val_acc: 0.8520\n",
      "Epoch 20/20\n",
      "20000/20000 [==============================] - 5s 241us/sample - loss: 0.1064 - acc: 0.9906 - val_loss: 1.2108 - val_acc: 0.8644\n"
     ]
    }
   ],
   "source": [
    "from tensorflow.keras import callbacks\n",
    "\n",
    "callbacks_list = [\n",
    "    callbacks.TensorBoard(\n",
    "        log_dir=log_dir,\n",
    "        histogram_freq=1, # 1 epoch마다 활성화 출력의 히스토그램 기록\n",
    "        embeddings_freq=1 # 1 epoch마다 임베딩 데이터 기록\n",
    "    )\n",
    "]\n",
    "\n",
    "history = model.fit(x_train, y_train,\n",
    "                    epochs=20,\n",
    "                    batch_size=128,\n",
    "                    validation_split=0.2,\n",
    "                    callbacks=callbacks_list)"
   ]
  },
  {
   "cell_type": "markdown",
   "metadata": {},
   "source": [
    "### 텐서 보드 결과 확인\n",
    "\n",
    "#### 텐서 보드 서버 실행 및 브라우저를 통한 접속\n",
    "- 텐서보드 서버 실행\n",
    "    - `$ tensorboard --logdir=<log dir path>`\n",
    "\n",
    "- 브라우저 접속\n",
    "    - http://localhost:6006/\n",
    "    \n",
    "    \n",
    "#### 측정 지표 모니터링\n",
    "- SCALARS 탭에서 볼 수 있음\n",
    "\n",
    "\n",
    "![scalars](./images/tensorboard_scalars.png)"
   ]
  },
  {
   "cell_type": "markdown",
   "metadata": {},
   "source": [
    "#### 활성화 출력 히스토그램\n",
    "- HISTOGRAMS 탭에서 볼 수 있음\n",
    "\n",
    "\n",
    "![histograms](./images/tensorboard_histograms.png)"
   ]
  },
  {
   "cell_type": "markdown",
   "metadata": {},
   "source": [
    "#### 3D 단어 임베딩 시각화\n",
    "- PROJECTOR 탭에서 볼 수 있음\n",
    "\n",
    "![projector](./images/tensorboard_projector.png)"
   ]
  },
  {
   "cell_type": "markdown",
   "metadata": {},
   "source": [
    "#### 그래프 구조 시각화\n",
    "- GRAPHS 탭에서 볼 수 있음\n",
    "\n",
    "![graphs](./images/tensorboard_graphs.png)"
   ]
  },
  {
   "cell_type": "markdown",
   "metadata": {},
   "source": [
    "### 케라스의 `keras.utils.plot_model` 유틸리티\n",
    "\n",
    "- 그래프 구조를 텐서보드보다 간단하고 깔끔하게 그려주는 기능을 제공\n",
    "- 파이썬의 pydot, pydot-ng, graphviz 라이브러리가 필요"
   ]
  },
  {
   "cell_type": "code",
   "execution_count": 11,
   "metadata": {},
   "outputs": [
    {
     "data": {
      "image/png": "[encoded data removed]",
      "text/plain": [
       "<IPython.core.display.Image object>"
      ]
     },
     "execution_count": 11,
     "metadata": {},
     "output_type": "execute_result"
    }
   ],
   "source": [
    "from tensorflow.keras.utils import plot_model\n",
    "\n",
    "plot_model(model, show_shapes=True, to_file=\"./images/model.png\")"
   ]
  }
 ],
 "metadata": {
  "kernelspec": {
   "display_name": "Python 3",
   "language": "python",
   "name": "python3"
  },
  "language_info": {
   "codemirror_mode": {
    "name": "ipython",
    "version": 3
   },
   "file_extension": ".py",
   "mimetype": "text/x-python",
   "name": "python",
   "nbconvert_exporter": "python",
   "pygments_lexer": "ipython3",
   "version": "3.7.5"
  }
 },
 "nbformat": 4,
 "nbformat_minor": 2
}
