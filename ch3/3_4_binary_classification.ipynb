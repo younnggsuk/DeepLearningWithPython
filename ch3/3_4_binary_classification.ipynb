{
 "cells": [
  {
   "cell_type": "markdown",
   "metadata": {},
   "source": [
    "# 3.4 영화 리뷰 분류 : 이진 분류 예제"
   ]
  },
  {
   "cell_type": "markdown",
   "metadata": {},
   "source": [
    "### 3.4.1 IMDB 데이터셋\n",
    "\n",
    "- 인터넷 영화 데이터 베이스(Internet Movie Database)\n",
    "- 5만개의 리뷰 데이터 셋\n",
    "- training data : 25000\n",
    "- test data : 25000\n",
    "- 긍정 50%, 부정 50%"
   ]
  },
  {
   "cell_type": "code",
   "execution_count": 1,
   "metadata": {
    "scrolled": false
   },
   "outputs": [
    {
     "name": "stderr",
     "output_type": "stream",
     "text": [
      "Using TensorFlow backend.\n"
     ]
    },
    {
     "name": "stdout",
     "output_type": "stream",
     "text": [
      "(25000,) (25000,)\n",
      "(25000,) (25000,)\n"
     ]
    }
   ],
   "source": [
    "from keras.datasets import imdb\n",
    "\n",
    "# IMDB 데이터셋 로드\n",
    "# num_words=10000은 자주 사용하는 단어 1만개만 사용한다는 의미\n",
    "(train_data, train_labels), (test_data, test_labels) = imdb.load_data(num_words = 10000) \n",
    "\n",
    "print(train_data.shape, train_labels.shape)\n",
    "print(test_data.shape, test_labels.shape)"
   ]
  },
  {
   "cell_type": "code",
   "execution_count": 2,
   "metadata": {},
   "outputs": [
    {
     "name": "stdout",
     "output_type": "stream",
     "text": [
      " ? this film was just brilliant casting location scenery story direction everyone's really suited the part they played and you could just imagine being there robert ? is an amazing actor and now the same being director ? father came from the same scottish island as myself so i loved the fact there was a real connection with this film the witty remarks throughout the film were great it was just brilliant so much that i bought the film as soon as it was released for ? and would recommend it to everyone to watch and the fly fishing was amazing really cried at the end it was so sad and you know what they say if you cry at a film it must have been good and this definitely was also ? to the two little boy's that played the ? of norman and paul they were just brilliant children are often left out of the ? list i think because the stars that play them all grown up are such a big profile for the whole film but these children are amazing and should be praised for what they have done don't you think the whole story was so lovely because it was true and was someone's life after all that was shared with us all \n"
     ]
    }
   ],
   "source": [
    "# 어떤 데이터 있는지 까보기\n",
    "word_index = imdb.get_word_index()\n",
    "\n",
    "# word가 key, index가 value로 돼있어서 그거 뒤집는 코드\n",
    "index_word = [(index, word) for (word, index) in word_index.items()]\n",
    "index_word = dict(index_word)\n",
    "\n",
    "# 출력해보기\n",
    "decoded_data = ' '\n",
    "for i in train_data[0]:\n",
    "    decoded_data += (index_word.get(i-3, '?')+' ')\n",
    "    \n",
    "print(decoded_data)"
   ]
  },
  {
   "cell_type": "markdown",
   "metadata": {},
   "source": [
    "## 3.4.2 데이터 준비\n",
    "\n",
    "신경망에 숫자 리스트를 주입할 수는 없으므로 리스트를 텐서로 바꾸어주어야 함\n",
    "- list를 tensor로 바꾸는 두가지 방법\n",
    "    1. Embedding layer\n",
    "        - list에 padding을 추가해 같은 길이가 되도록하고, (samples, sequence_length)크기의 정수 텐서로 변환\n",
    "        - 이 텐서를 다룰 수 있는 층(Embedding layer)를 첫번째 층으로 사용\n",
    "        \n",
    "    2. Dense layer\n",
    "        - list를 one-hot encoding\n",
    "        - 이 텐서를 다룰 수 있는 층(Dense layer)를 첫번째 레이어로 사용\n",
    "\n",
    "여기서는 2의 방법을 사용해봄        "
   ]
  },
  {
   "cell_type": "code",
   "execution_count": 3,
   "metadata": {},
   "outputs": [
    {
     "name": "stdout",
     "output_type": "stream",
     "text": [
      "(25000, 10000) (25000, 10000)\n"
     ]
    }
   ],
   "source": [
    "# 정수 sequence를 one-hot encoding\n",
    "\n",
    "import numpy as np\n",
    "\n",
    "def vectorize_sequences(sequences, dim=10000):\n",
    "    result = np.zeros((len(sequences), dim))\n",
    "    \n",
    "    for i, sequence in enumerate(sequences):\n",
    "        result[i, sequence] = 1.\n",
    "        \n",
    "    return result\n",
    "\n",
    "\n",
    "x_train = vectorize_sequences(train_data)\n",
    "x_test = vectorize_sequences(test_data)\n",
    "\n",
    "print(x_train.shape, x_test.shape)"
   ]
  },
  {
   "cell_type": "code",
   "execution_count": 4,
   "metadata": {},
   "outputs": [
    {
     "name": "stdout",
     "output_type": "stream",
     "text": [
      "(25000,) (25000,)\n"
     ]
    }
   ],
   "source": [
    "y_train = np.array(train_labels, dtype=np.float32)\n",
    "y_test = np.array(test_labels, dtype=np.float32)\n",
    "\n",
    "print(y_train.shape, y_test.shape)"
   ]
  },
  {
   "cell_type": "markdown",
   "metadata": {},
   "source": [
    "## 3.4.3 신경망 모델 만들기"
   ]
  },
  {
   "cell_type": "markdown",
   "metadata": {},
   "source": [
    "- input data는 벡터, label은 스칼라(1 또는 0)와 같은 문제에는 relu 활성화 함수를 사용한 Fully connected layer를 쌓은 network가 잘 동작함\n",
    "- Dense() : Fully Connected Layer\n",
    "    - Dense(16)의 경우,\n",
    "    - Dense layer에 전달한 매개변수(16)는 은닉 유닛(hidden unit)의 개수(출력의 수)\n",
    "    - 16개의 은닉 유닛이 있다는 것은 가중치 행렬 Weight의 크기가 (input_dimension, 16)라는 뜻\n",
    "    - 입력 데이터와 W를 점곱하면 입력 데이터가 16차원으로 표현된 공간으로 투영됨\n",
    "    - 표현 공간의 차원이란 신경망이 내재된 표현을 학습할 때 가질 수 있는 자유도를 뜻함\n",
    "    - 따라서, 은닉 유닛을 늘리면 신경망이 더 복잡한 표현을 학습할 수 있지만 계산비용이 커지고 원하지 않는 패턴까지 학습할 수 있음(훈련데이터에 더 학습되는 overfitting)\n",
    "\n",
    "(Dense layer의 동작은 아래 코드 참고)"
   ]
  },
  {
   "cell_type": "code",
   "execution_count": 5,
   "metadata": {},
   "outputs": [
    {
     "name": "stdout",
     "output_type": "stream",
     "text": [
      "1. network.add(layers.Dense(512, activation='relu', input_shape=(28*28,))\n",
      "input  of 1st layer = (100, 784)\n",
      "Weight of 1st layer = (784, 512)\n",
      "bias   of 1st layer = (512,)\n",
      "output of 1st layer = (100, 784) dot (784, 512) + (512) = (100, 512)\n",
      "parameter = W(784*512) + b(512) = 401920\n",
      "\n",
      "2. network.add(layers.Dense(10, activation='softmax'))\n",
      "input  of 2nd layer = (100, 512)\n",
      "Weight of 2nd layer = (512, 10)\n",
      "bias   of 1st layer = (10,)\n",
      "output of 2nd layer = (100, 512) dot (512, 10) + (10) = (100, 10)\n",
      "parameter = W(512*10) + b(10) = 5130\n",
      "\n",
      "---------------------------- summary()와의 비교 ----------------------------\n",
      "\n",
      "Model: \"sequential_1\"\n",
      "_________________________________________________________________\n",
      "Layer (type)                 Output Shape              Param #   \n",
      "=================================================================\n",
      "dense_1 (Dense)              (None, 512)               401920    \n",
      "_________________________________________________________________\n",
      "dense_2 (Dense)              (None, 10)                5130      \n",
      "=================================================================\n",
      "Total params: 407,050\n",
      "Trainable params: 407,050\n",
      "Non-trainable params: 0\n",
      "_________________________________________________________________\n"
     ]
    }
   ],
   "source": [
    "# 아래 네트워크의 경우 Dense Layer에서 일어나는 과정들\n",
    "# network = models.Sequential()\n",
    "# network.add(layers.Dense(512, activation='relu', input_shape=(28*28,)))\n",
    "# network.add(layers.Dense(10, activation='softmax'))\n",
    "\n",
    "# batch_size는 100이라고 가정\n",
    "batch_size = 100\n",
    "\n",
    "# 1. network.add(layers.Dense(512, activation='relu', input_shape=(28*28,))\n",
    "print(\"1. network.add(layers.Dense(512, activation='relu', input_shape=(28*28,))\")\n",
    "\n",
    "# 1-1. input array(batch)\n",
    "input_array = np.random.rand(batch_size, 28*28)\n",
    "print(\"input  of 1st layer =\", input_array.shape) # (batch_size, 784)\n",
    "\n",
    "# 1-2. Weight의 shape는 output_layer_1.shape[1]의 값인 784와\n",
    "#      Dense()에 매개변수로 전달된 output의 크기(512)에 맞춰서 생성됨\n",
    "#      W.shape = (784, 512)\n",
    "W_1 = np.random.rand(input_array.shape[1], 512)\n",
    "print(\"Weight of 1st layer =\", W_1.shape)\n",
    "\n",
    "# 1-3. input_array와 W_1간의 dot product 및 bias addition\n",
    "#      bias는 Dense()에 매개변수로 전달된 output의 크기(512)에 맞춰서 생성됨\n",
    "b_1 = np.random.rand(512)\n",
    "print(\"bias   of 1st layer =\", b_1.shape)\n",
    "output_layer_1 = np.dot(input_array, W_1) + b_1\n",
    "print(\"output of 1st layer = (100, 784) dot (784, 512) + (512) =\", output_layer_1.shape)\n",
    "print(\"parameter = W(784*512) + b(512) = 401920\")\n",
    "print(\"\")\n",
    "\n",
    "# 2. network.add(layers.Dense(10, activation='softmax'))\n",
    "print(\"2. network.add(layers.Dense(10, activation='softmax'))\")\n",
    "\n",
    "# 2-1. input array(output_layer_1)\n",
    "print(\"input  of 2nd layer =\", output_layer_1.shape) # (batch_size, 784)\n",
    "\n",
    "# 2-2. Weight의 shape는 output_layer_1.shape[1]의 값인 512와\n",
    "#      Dense()에 매개변수로 전달된 output의 크기(10)에 맞춰서 생성됨\n",
    "#      W.shape = (512, 10)\n",
    "W_2 = np.random.rand(output_layer_1.shape[1], 10)\n",
    "print(\"Weight of 2nd layer =\", W_2.shape)\n",
    "\n",
    "# 2-3. input_array와 W_2간의 dot product 및 bias addition\n",
    "#      bias는 Dense()에 매개변수로 전달된 output의 크기(10)에 맞춰서 생성됨\n",
    "b_2 = np.random.rand(10)\n",
    "print(\"bias   of 1st layer =\", b_2.shape)\n",
    "output_layer_2 = np.dot(output_layer_1, W_2)\n",
    "print(\"output of 2nd layer = (100, 512) dot (512, 10) + (10) =\", output_layer_2.shape)\n",
    "print(\"parameter = W(512*10) + b(10) = 5130\")\n",
    "\n",
    "print(\"\")\n",
    "print(\"---------------------------- summary()와의 비교 ----------------------------\")\n",
    "print(\"\")\n",
    "\n",
    "\n",
    "from keras import models\n",
    "from keras import layers\n",
    "\n",
    "network = models.Sequential()\n",
    "network.add(layers.Dense(512, activation='relu', input_shape=(28*28,)))\n",
    "network.add(layers.Dense(10, activation='softmax'))\n",
    "network.summary()"
   ]
  },
  {
   "cell_type": "code",
   "execution_count": 6,
   "metadata": {},
   "outputs": [],
   "source": [
    "# 모델 정의하기\n",
    "\n",
    "from keras import models\n",
    "from keras import layers\n",
    "\n",
    "model = models.Sequential()\n",
    "model.add(layers.Dense(16, activation='relu', input_shape=(10000,)))\n",
    "model.add(layers.Dense(16, activation='relu'))\n",
    "model.add(layers.Dense(1, activation='sigmoid'))"
   ]
  },
  {
   "cell_type": "markdown",
   "metadata": {},
   "source": [
    "활성화 함수(activation function)?\n",
    "- 활성화 함수가 없다면 layer에서 선형 연산밖에 학습할 수 없음\n",
    "- 따라서, layer의 가설 공간은 선형에만 국한되므로 층을 여러개로 쌓음에 따른 가설공간의 확장이 일어나지 않음(선형을 계속 쌓아도 선형임)\n",
    "- 정리하자면, **활성화 함수의 사용을 통해 선형적인 연산을 비선형적으로 만들어 가설공간의 확장을 통해 비선형 연산을 학습할 수 있게됨**"
   ]
  },
  {
   "cell_type": "markdown",
   "metadata": {},
   "source": [
    "## 3.4.4 훈련 검증"
   ]
  },
  {
   "cell_type": "code",
   "execution_count": 7,
   "metadata": {},
   "outputs": [
    {
     "name": "stdout",
     "output_type": "stream",
     "text": [
      "(10000, 10000) (10000,)\n",
      "(15000, 10000) (15000,)\n"
     ]
    }
   ],
   "source": [
    "# validation dataset 10000개 만들기\n",
    "\n",
    "x_val = x_train[:10000]\n",
    "partial_x_train = x_train[10000:]\n",
    "y_val = y_train[:10000]\n",
    "partial_y_train = y_train[10000:]\n",
    "\n",
    "print(x_val.shape, y_val.shape)\n",
    "print(partial_x_train.shape, partial_y_train.shape)"
   ]
  },
  {
   "cell_type": "code",
   "execution_count": 8,
   "metadata": {
    "scrolled": true
   },
   "outputs": [
    {
     "name": "stdout",
     "output_type": "stream",
     "text": [
      "Train on 15000 samples, validate on 10000 samples\n",
      "Epoch 1/20\n",
      "15000/15000 [==============================] - 1s 61us/step - loss: 0.5064 - accuracy: 0.7875 - val_loss: 0.3776 - val_accuracy: 0.8740\n",
      "Epoch 2/20\n",
      "15000/15000 [==============================] - 1s 46us/step - loss: 0.3026 - accuracy: 0.9041 - val_loss: 0.3054 - val_accuracy: 0.8880\n",
      "Epoch 3/20\n",
      "15000/15000 [==============================] - 1s 46us/step - loss: 0.2264 - accuracy: 0.9265 - val_loss: 0.2855 - val_accuracy: 0.8870\n",
      "Epoch 4/20\n",
      "15000/15000 [==============================] - 1s 46us/step - loss: 0.1810 - accuracy: 0.9391 - val_loss: 0.2900 - val_accuracy: 0.8837\n",
      "Epoch 5/20\n",
      "15000/15000 [==============================] - 1s 47us/step - loss: 0.1444 - accuracy: 0.9543 - val_loss: 0.3012 - val_accuracy: 0.8809\n",
      "Epoch 6/20\n",
      "15000/15000 [==============================] - 1s 48us/step - loss: 0.1235 - accuracy: 0.9611 - val_loss: 0.2937 - val_accuracy: 0.8852\n",
      "Epoch 7/20\n",
      "15000/15000 [==============================] - 1s 46us/step - loss: 0.1018 - accuracy: 0.9689 - val_loss: 0.3077 - val_accuracy: 0.8831\n",
      "Epoch 8/20\n",
      "15000/15000 [==============================] - 1s 46us/step - loss: 0.0864 - accuracy: 0.9742 - val_loss: 0.3235 - val_accuracy: 0.8822\n",
      "Epoch 9/20\n",
      "15000/15000 [==============================] - 1s 46us/step - loss: 0.0709 - accuracy: 0.9811 - val_loss: 0.3936 - val_accuracy: 0.8676\n",
      "Epoch 10/20\n",
      "15000/15000 [==============================] - 1s 46us/step - loss: 0.0597 - accuracy: 0.9843 - val_loss: 0.3714 - val_accuracy: 0.8793\n",
      "Epoch 11/20\n",
      "15000/15000 [==============================] - 1s 46us/step - loss: 0.0511 - accuracy: 0.9867 - val_loss: 0.3908 - val_accuracy: 0.8768\n",
      "Epoch 12/20\n",
      "15000/15000 [==============================] - 1s 46us/step - loss: 0.0424 - accuracy: 0.9897 - val_loss: 0.4148 - val_accuracy: 0.8769\n",
      "Epoch 13/20\n",
      "15000/15000 [==============================] - 1s 46us/step - loss: 0.0347 - accuracy: 0.9926 - val_loss: 0.4415 - val_accuracy: 0.8737\n",
      "Epoch 14/20\n",
      "15000/15000 [==============================] - 1s 46us/step - loss: 0.0279 - accuracy: 0.9946 - val_loss: 0.4721 - val_accuracy: 0.8737\n",
      "Epoch 15/20\n",
      "15000/15000 [==============================] - 1s 46us/step - loss: 0.0223 - accuracy: 0.9962 - val_loss: 0.5054 - val_accuracy: 0.8697\n",
      "Epoch 16/20\n",
      "15000/15000 [==============================] - 1s 46us/step - loss: 0.0184 - accuracy: 0.9971 - val_loss: 0.5425 - val_accuracy: 0.8690\n",
      "Epoch 17/20\n",
      "15000/15000 [==============================] - 1s 46us/step - loss: 0.0143 - accuracy: 0.9982 - val_loss: 0.5712 - val_accuracy: 0.8699\n",
      "Epoch 18/20\n",
      "15000/15000 [==============================] - 1s 47us/step - loss: 0.0143 - accuracy: 0.9972 - val_loss: 0.6073 - val_accuracy: 0.8694\n",
      "Epoch 19/20\n",
      "15000/15000 [==============================] - 1s 46us/step - loss: 0.0067 - accuracy: 0.9998 - val_loss: 0.6320 - val_accuracy: 0.8692\n",
      "Epoch 20/20\n",
      "15000/15000 [==============================] - 1s 46us/step - loss: 0.0075 - accuracy: 0.9990 - val_loss: 0.6742 - val_accuracy: 0.8666\n"
     ]
    }
   ],
   "source": [
    "# loss, optimizer 설정 및 학습\n",
    "\n",
    "# 이진 분류 문제, 출력이 확률이므로 loss function은 binary cross entropy가 적절 (mean_squared_error도 사용 가능)\n",
    "# regression 문제의 경우, 주로 mean_squared_error, mean_absolute_error을 사용\n",
    "\n",
    "model.compile(optimizer='rmsprop',\n",
    "              loss='binary_crossentropy',\n",
    "              metrics=['accuracy'])\n",
    "\n",
    "\n",
    "# 모델에 512개의 샘플씩 mini batch를 만들어 20번의 epoch동안 training\n",
    "# 1만개의 sample에서 loss, accuracy를 측정(validation)\n",
    "\n",
    "epochs=20\n",
    "hist = model.fit(partial_x_train,\n",
    "                    partial_y_train,\n",
    "                    epochs=epochs,\n",
    "                    batch_size=512,\n",
    "                    validation_data=(x_val, y_val))\n",
    "\n"
   ]
  },
  {
   "cell_type": "code",
   "execution_count": 9,
   "metadata": {},
   "outputs": [
    {
     "name": "stdout",
     "output_type": "stream",
     "text": [
      "25000/25000 [==============================] - 1s 39us/step\n",
      "test_loss, test_accuracy : [0.7496773677825928, 0.8511599898338318]\n"
     ]
    }
   ],
   "source": [
    "# test dataset에 평가\n",
    "\n",
    "results = model.evaluate(x_test, y_test)\n",
    "print(\"test_loss, test_accuracy :\", results)"
   ]
  },
  {
   "cell_type": "code",
   "execution_count": 10,
   "metadata": {},
   "outputs": [
    {
     "name": "stdout",
     "output_type": "stream",
     "text": [
      "{'val_loss': [0.37763022170066834, 0.3054156312465668, 0.28553435368537905, 0.2900482333660126, 0.30119333086013794, 0.29369052996635436, 0.3077430497646332, 0.3235211085796356, 0.39356490559577945, 0.37138938164711, 0.39077305936813356, 0.4148318662166596, 0.44151446995735166, 0.4720915498256683, 0.5054261426925659, 0.5424735576629639, 0.5712065920352936, 0.6072804851531982, 0.6320064614295959, 0.6741863530158997], 'val_accuracy': [0.8740000128746033, 0.8880000114440918, 0.8870000243186951, 0.8837000131607056, 0.8809000253677368, 0.885200023651123, 0.8830999732017517, 0.8822000026702881, 0.8676000237464905, 0.8792999982833862, 0.876800000667572, 0.8769000172615051, 0.8737000226974487, 0.8737000226974487, 0.869700014591217, 0.8690000176429749, 0.8698999881744385, 0.8694000244140625, 0.8691999912261963, 0.866599977016449], 'loss': [0.5063853381792704, 0.30260997769037884, 0.22644727772871653, 0.1809977050701777, 0.14444655220508576, 0.12350635603268942, 0.10182957057952881, 0.08635381980339686, 0.07090051674048106, 0.05970893976291021, 0.05112674896717072, 0.04240488166113694, 0.034686082211136816, 0.02794438927570979, 0.02226573064972957, 0.01840560823827982, 0.014309200631578763, 0.014267371343572935, 0.00672980652526021, 0.007489880115787188], 'accuracy': [0.78753334, 0.9040667, 0.92646664, 0.93906665, 0.95426667, 0.96113336, 0.96893334, 0.9742, 0.98106664, 0.98426664, 0.9866667, 0.98966664, 0.9926, 0.9946, 0.9962, 0.9971333, 0.9982, 0.9972, 0.9998, 0.999]}\n",
      "dict_keys(['val_loss', 'val_accuracy', 'loss', 'accuracy'])\n"
     ]
    }
   ],
   "source": [
    "# model.fit() method는 History 객체를 반환함\n",
    "# History 객체는 훈련 중 발생한 모든 정보를 담고 있는 dictionary 속성을 가지고 있음\n",
    "\n",
    "history_dict = hist.history\n",
    "print(history_dict)\n",
    "print(history_dict.keys())"
   ]
  },
  {
   "cell_type": "code",
   "execution_count": 11,
   "metadata": {},
   "outputs": [
    {
     "data": {
      "image/png": "[encoded data removed]",
      "text/plain": [
       "<Figure size 432x288 with 1 Axes>"
      ]
     },
     "metadata": {
      "needs_background": "light"
     },
     "output_type": "display_data"
    }
   ],
   "source": [
    "# matplotlib을 이용한 결과 그래프 출력 - Loss\n",
    "\n",
    "import matplotlib.pyplot as plt\n",
    "\n",
    "loss = history_dict['loss']\n",
    "val_loss = history_dict['val_loss']\n",
    "\n",
    "plt.plot(loss, 'b', label='Training loss') # 'b' = blue\n",
    "plt.plot(val_loss, 'r', label='Validation loss') # 'r' = red\n",
    "plt.title(\"Training and Validation loss\")\n",
    "plt.xlabel(\"epochs\")\n",
    "plt.ylabel(\"Loss\")\n",
    "plt.legend(loc='best')\n",
    "\n",
    "plt.show()"
   ]
  },
  {
   "cell_type": "code",
   "execution_count": 12,
   "metadata": {},
   "outputs": [
    {
     "data": {
      "image/png": "[encoded data removed]",
      "text/plain": [
       "<Figure size 432x288 with 1 Axes>"
      ]
     },
     "metadata": {
      "needs_background": "light"
     },
     "output_type": "display_data"
    }
   ],
   "source": [
    "# matplotlib을 이용한 결과 그래프 출력 - Accuracy\n",
    "\n",
    "acc = history_dict['accuracy']\n",
    "val_acc = history_dict['val_accuracy']\n",
    "\n",
    "plt.plot(acc, 'b', label='Training accuracy') # 'b' = blue\n",
    "plt.plot(val_acc, 'r', label='Validation accuracy') # 'r' = red\n",
    "plt.title(\"Training and Validation accuracy\")\n",
    "plt.xlabel(\"epochs\")\n",
    "plt.ylabel(\"Accuracy\")\n",
    "plt.legend(loc='best')\n",
    "\n",
    "plt.show()"
   ]
  },
  {
   "cell_type": "markdown",
   "metadata": {},
   "source": [
    "결과\n",
    "- training loss가 epoch마다 잘 감소함\n",
    "- training accuracy가 epoch마다 잘 증가함\n",
    "- validation loss가 감소하다가 약 5번째 epoch부터 증가함\n",
    "- validation accuracy가 약 5번째 epoch부터 증가하다가 약간 감소함\n",
    "\n",
    "***위와 같은 결과를 훈련 데이터에 overfitting(과대적합)되었다고 함***"
   ]
  },
  {
   "cell_type": "code",
   "execution_count": 13,
   "metadata": {},
   "outputs": [
    {
     "name": "stdout",
     "output_type": "stream",
     "text": [
      "Train on 15000 samples, validate on 10000 samples\n",
      "Epoch 1/5\n",
      "15000/15000 [==============================] - 1s 51us/step - loss: 0.4897 - accuracy: 0.7801 - val_loss: 0.3713 - val_accuracy: 0.8583\n",
      "Epoch 2/5\n",
      "15000/15000 [==============================] - 1s 46us/step - loss: 0.2801 - accuracy: 0.9072 - val_loss: 0.2945 - val_accuracy: 0.8892\n",
      "Epoch 3/5\n",
      "15000/15000 [==============================] - 1s 46us/step - loss: 0.2101 - accuracy: 0.9317 - val_loss: 0.2845 - val_accuracy: 0.8856\n",
      "Epoch 4/5\n",
      "15000/15000 [==============================] - 1s 46us/step - loss: 0.1653 - accuracy: 0.9437 - val_loss: 0.2781 - val_accuracy: 0.8886\n",
      "Epoch 5/5\n",
      "15000/15000 [==============================] - 1s 47us/step - loss: 0.1333 - accuracy: 0.9579 - val_loss: 0.2854 - val_accuracy: 0.8868\n",
      "25000/25000 [==============================] - 1s 33us/step\n",
      "test_loss, test_accuracy : [0.3071655643367767, 0.8776000142097473]\n"
     ]
    }
   ],
   "source": [
    "# overfitting 방지 기법은 4장에서 다룸\n",
    "# 여기서는 다시 5epoch까지만 학습시켜서 결과를 출력해봄\n",
    "\n",
    "model = models.Sequential()\n",
    "model.add(layers.Dense(16, activation='relu', input_shape=(10000,)))\n",
    "model.add(layers.Dense(16, activation='relu'))\n",
    "model.add(layers.Dense(1, activation='sigmoid'))\n",
    "\n",
    "model.compile(loss='binary_crossentropy',\n",
    "              optimizer='RMSprop',\n",
    "              metrics=['accuracy'])\n",
    "\n",
    "model.fit(partial_x_train,\n",
    "          partial_y_train,\n",
    "          epochs=5,\n",
    "          batch_size=512,\n",
    "          validation_data=(x_val, y_val))\n",
    "\n",
    "# test dataset에 평가\n",
    "\n",
    "results = model.evaluate(x_test, y_test)\n",
    "print(\"test_loss, test_accuracy :\", results)"
   ]
  },
  {
   "cell_type": "markdown",
   "metadata": {},
   "source": [
    "## 3.4.5 훈련된 모델로 새로운 데이터에 대해 예측하기\n",
    "\n",
    "predict()를 통해 실제 데이터에 대한 확률을 예측할 수 있음"
   ]
  },
  {
   "cell_type": "code",
   "execution_count": 14,
   "metadata": {},
   "outputs": [
    {
     "name": "stdout",
     "output_type": "stream",
     "text": [
      "[[0.14562833]\n",
      " [0.9996629 ]\n",
      " [0.91559756]\n",
      " ...\n",
      " [0.09386003]\n",
      " [0.09343845]\n",
      " [0.45604497]]\n"
     ]
    }
   ],
   "source": [
    "print(model.predict(x_test))"
   ]
  },
  {
   "cell_type": "markdown",
   "metadata": {},
   "source": [
    "### 3.4.6 정리\n",
    "\n",
    "- 원본 데이터를 신경망에 주입하기 위해서는 꽤 많은 전처리가 필요하다. (단어 시퀀스는 이진 벡터로 인코딩 될 수 있으며 다른 방식도 있음)\n",
    "- 이진 분류 문제의 네트워크에서는 마지막 층이 하나의 유닛과 sigmoid 활성화 함수를 가진 Dense층\n",
    "- 이진 분류 문제의 손실함수는 binary_crossentropy\n",
    "- rmsprop 옵티마이저는 문제에 상관없이 일반적으로 잘 동작함"
   ]
  }
 ],
 "metadata": {
  "kernelspec": {
   "display_name": "Python 3",
   "language": "python",
   "name": "python3"
  },
  "language_info": {
   "codemirror_mode": {
    "name": "ipython",
    "version": 3
   },
   "file_extension": ".py",
   "mimetype": "text/x-python",
   "name": "python",
   "nbconvert_exporter": "python",
   "pygments_lexer": "ipython3",
   "version": "3.7.5"
  }
 },
 "nbformat": 4,
 "nbformat_minor": 2
}
