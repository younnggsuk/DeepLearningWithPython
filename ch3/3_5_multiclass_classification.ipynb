{
 "cells": [
  {
   "cell_type": "markdown",
   "metadata": {},
   "source": [
    "# 3.5 뉴스 기사 분류 : 다중 분류 문제"
   ]
  },
  {
   "cell_type": "markdown",
   "metadata": {},
   "source": [
    "### 3.5.1 로이터 데이터셋\n",
    "\n",
    "- 1986년에 로이터에서 공개한 데이터셋이며 텍스트 분류에 널리 사용됨\n",
    "- 짧은 뉴스 기사와 46개의 서로다른 topic의 집합"
   ]
  },
  {
   "cell_type": "code",
   "execution_count": 1,
   "metadata": {
    "scrolled": true
   },
   "outputs": [
    {
     "name": "stderr",
     "output_type": "stream",
     "text": [
      "Using TensorFlow backend.\n"
     ]
    },
    {
     "name": "stdout",
     "output_type": "stream",
     "text": [
      "(8982,) (8982,)\n",
      "(2246,) (2246,)\n"
     ]
    }
   ],
   "source": [
    "# 케라스에 내장된 로이터 데이터셋 로드하기\n",
    "from keras.datasets import reuters\n",
    "\n",
    "# 3.4절과 마찬가지로 num_words=10000은 자주 사용되는 단어 10000개로 제한한다는 의미\n",
    "(train_data, train_labels), (test_data, test_labels) = reuters.load_data(num_words=10000)\n",
    "\n",
    "print(train_data.shape, train_labels.shape)\n",
    "print(test_data.shape, test_labels.shape)"
   ]
  },
  {
   "cell_type": "code",
   "execution_count": 2,
   "metadata": {},
   "outputs": [
    {
     "name": "stdout",
     "output_type": "stream",
     "text": [
      "? ? ? said as a result of its december acquisition of space co it expects earnings per share in 1987 of 1 15 to 1 30 dlrs per share up from 70 cts in 1986 the company said pretax net should rise to nine to 10 mln dlrs from six mln dlrs in 1986 and rental operation revenues to 19 to 22 mln dlrs from 12 5 mln dlrs it said cash flow per share this year should be 2 50 to three dlrs reuter 3\n"
     ]
    }
   ],
   "source": [
    "# 로이터 데이터셋 내용 확인\n",
    "word_index = reuters.get_word_index()\n",
    "index_word = dict([(index, word) for (word, index) in word_index.items()])\n",
    "\n",
    "decoded = ' '.join(index_word.get(i-3, '?') for i in train_data[0])\n",
    "print(decoded)"
   ]
  },
  {
   "cell_type": "markdown",
   "metadata": {},
   "source": [
    "### 3.5.2 데이터 준비\n",
    "\n",
    "- 데이터를 벡터로 변환\n",
    "- 레이블을 one-hot encoding"
   ]
  },
  {
   "cell_type": "code",
   "execution_count": 3,
   "metadata": {},
   "outputs": [
    {
     "name": "stdout",
     "output_type": "stream",
     "text": [
      "(8982, 10000) (8982, 46)\n",
      "(2246, 10000) (2246, 46)\n"
     ]
    }
   ],
   "source": [
    "import numpy as np\n",
    "\n",
    "# data -> vector\n",
    "def vectorize_sequences(sequences, dimension=10000):\n",
    "    result = np.zeros((len(sequences), dimension))\n",
    "    for i, seq in enumerate(sequences):\n",
    "        result[i, seq] = 1.\n",
    "    \n",
    "    return result\n",
    "\n",
    "\n",
    "# one-hot encoding\n",
    "# from keras.utils.np_utils import to_categorical()을 이용할수도 잇음\n",
    "def one_hot_encoding(labels, num_classes=46):\n",
    "    result = np.zeros((len(labels), num_classes))\n",
    "    for i, label in enumerate(labels):\n",
    "        result[i, label] = 1\n",
    "    \n",
    "    return result\n",
    "                      \n",
    "            \n",
    "train_data = vectorize_sequences(train_data)\n",
    "train_labels = one_hot_encoding(train_labels)\n",
    "test_data = vectorize_sequences(test_data)\n",
    "test_labels = one_hot_encoding(test_labels)\n",
    "\n",
    "print(train_data.shape, train_labels.shape)\n",
    "print(test_data.shape, test_labels.shape)"
   ]
  },
  {
   "cell_type": "markdown",
   "metadata": {},
   "source": [
    "### 3.5.3 모델 구성\n",
    "\n",
    "- Dense(64)\n",
    "    - 출력 클래스의 개수가 2개에서 46개로 늘어났는데 3.4절의 이진 분류처럼(Dense(16), 16차원의 공간) Dense layer를 쌓게되면 충분한 정보가 저장되지 않음\n",
    "    - **64개의 유닛(64차원의 공간)을 사용**\n",
    "\n",
    "- 마지막 layer\n",
    "    - 총 46개의 class에 대한 확률을 알아내야 하므로 Dense(46)을 사용\n",
    "    - 각 class별 확률이 나오는 softmax 활성화 함수를 사용\n",
    "    - softmax로 나온 output의 46개 값을 모두 더하면 1\n",
    "\n",
    "- loss function\n",
    "    - multiclass classification과 같은 문제에서는 주로 categorical_crossentropy를 사용함"
   ]
  },
  {
   "cell_type": "code",
   "execution_count": 4,
   "metadata": {},
   "outputs": [
    {
     "name": "stdout",
     "output_type": "stream",
     "text": [
      "Model: \"sequential_1\"\n",
      "_________________________________________________________________\n",
      "Layer (type)                 Output Shape              Param #   \n",
      "=================================================================\n",
      "dense_1 (Dense)              (None, 64)                640064    \n",
      "_________________________________________________________________\n",
      "dense_2 (Dense)              (None, 64)                4160      \n",
      "_________________________________________________________________\n",
      "dense_3 (Dense)              (None, 46)                2990      \n",
      "=================================================================\n",
      "Total params: 647,214\n",
      "Trainable params: 647,214\n",
      "Non-trainable params: 0\n",
      "_________________________________________________________________\n"
     ]
    }
   ],
   "source": [
    "from keras import models\n",
    "from keras import layers\n",
    "\n",
    "# 출력 : 46(class의 수)\n",
    "# 활성화 함수 : softmax\n",
    "# 손실 함수 : categorical_crossentropy\n",
    "\n",
    "model = models.Sequential()\n",
    "model.add(layers.Dense(64, activation='relu', input_shape=(10000,)))\n",
    "model.add(layers.Dense(64, activation='relu'))\n",
    "model.add(layers.Dense(46, activation='softmax'))\n",
    "\n",
    "model.summary()\n",
    "\n",
    "model.compile(loss='categorical_crossentropy',\n",
    "              optimizer='rmsprop',\n",
    "              metrics=['accuracy'])"
   ]
  },
  {
   "cell_type": "markdown",
   "metadata": {},
   "source": [
    "### 3.5.4 훈련 검증\n",
    "\n",
    "train data에서 1000개의 sample을 validation data로 사용"
   ]
  },
  {
   "cell_type": "code",
   "execution_count": 5,
   "metadata": {},
   "outputs": [
    {
     "name": "stdout",
     "output_type": "stream",
     "text": [
      "(7982, 10000) (7982, 46)\n",
      "(1000, 10000) (1000, 46)\n"
     ]
    }
   ],
   "source": [
    "val_data = train_data[:1000]\n",
    "train_data = train_data[1000:]\n",
    "\n",
    "val_labels = train_labels[:1000]\n",
    "train_labels = train_labels[1000:]\n",
    "\n",
    "print(train_data.shape, train_labels.shape)\n",
    "print(val_data.shape, val_labels.shape)"
   ]
  },
  {
   "cell_type": "code",
   "execution_count": 6,
   "metadata": {
    "scrolled": true
   },
   "outputs": [
    {
     "name": "stdout",
     "output_type": "stream",
     "text": [
      "Train on 7982 samples, validate on 2246 samples\n",
      "Epoch 1/20\n",
      "7982/7982 [==============================] - 0s 61us/step - loss: 2.4546 - accuracy: 0.5639 - val_loss: 1.6884 - val_accuracy: 0.6638\n",
      "Epoch 2/20\n",
      "7982/7982 [==============================] - 0s 46us/step - loss: 1.3657 - accuracy: 0.7147 - val_loss: 1.3536 - val_accuracy: 0.7004\n",
      "Epoch 3/20\n",
      "7982/7982 [==============================] - 0s 44us/step - loss: 1.0365 - accuracy: 0.7800 - val_loss: 1.2296 - val_accuracy: 0.7418\n",
      "Epoch 4/20\n",
      "7982/7982 [==============================] - 0s 43us/step - loss: 0.8174 - accuracy: 0.8292 - val_loss: 1.1014 - val_accuracy: 0.7565\n",
      "Epoch 5/20\n",
      "7982/7982 [==============================] - 0s 42us/step - loss: 0.6494 - accuracy: 0.8647 - val_loss: 1.0397 - val_accuracy: 0.7680\n",
      "Epoch 6/20\n",
      "7982/7982 [==============================] - 0s 42us/step - loss: 0.5153 - accuracy: 0.8931 - val_loss: 1.0252 - val_accuracy: 0.7711\n",
      "Epoch 7/20\n",
      "7982/7982 [==============================] - 0s 43us/step - loss: 0.4151 - accuracy: 0.9103 - val_loss: 1.0003 - val_accuracy: 0.7827\n",
      "Epoch 8/20\n",
      "7982/7982 [==============================] - 0s 41us/step - loss: 0.3398 - accuracy: 0.9295 - val_loss: 1.0195 - val_accuracy: 0.7801\n",
      "Epoch 9/20\n",
      "7982/7982 [==============================] - 0s 43us/step - loss: 0.2802 - accuracy: 0.9397 - val_loss: 1.0332 - val_accuracy: 0.7743\n",
      "Epoch 10/20\n",
      "7982/7982 [==============================] - 0s 42us/step - loss: 0.2391 - accuracy: 0.9444 - val_loss: 1.0301 - val_accuracy: 0.7841\n",
      "Epoch 11/20\n",
      "7982/7982 [==============================] - 0s 42us/step - loss: 0.2064 - accuracy: 0.9490 - val_loss: 1.0380 - val_accuracy: 0.7863\n",
      "Epoch 12/20\n",
      "7982/7982 [==============================] - 0s 42us/step - loss: 0.1851 - accuracy: 0.9524 - val_loss: 1.0633 - val_accuracy: 0.7858\n",
      "Epoch 13/20\n",
      "7982/7982 [==============================] - 0s 42us/step - loss: 0.1635 - accuracy: 0.9526 - val_loss: 1.0655 - val_accuracy: 0.7903\n",
      "Epoch 14/20\n",
      "7982/7982 [==============================] - 0s 42us/step - loss: 0.1501 - accuracy: 0.9538 - val_loss: 1.0924 - val_accuracy: 0.7836\n",
      "Epoch 15/20\n",
      "7982/7982 [==============================] - 0s 42us/step - loss: 0.1409 - accuracy: 0.9550 - val_loss: 1.1038 - val_accuracy: 0.7898\n",
      "Epoch 16/20\n",
      "7982/7982 [==============================] - 0s 43us/step - loss: 0.1300 - accuracy: 0.9569 - val_loss: 1.1260 - val_accuracy: 0.7863\n",
      "Epoch 17/20\n",
      "7982/7982 [==============================] - 0s 46us/step - loss: 0.1243 - accuracy: 0.9572 - val_loss: 1.1447 - val_accuracy: 0.7890\n",
      "Epoch 18/20\n",
      "7982/7982 [==============================] - 0s 46us/step - loss: 0.1160 - accuracy: 0.9589 - val_loss: 1.2240 - val_accuracy: 0.7801\n",
      "Epoch 19/20\n",
      "7982/7982 [==============================] - ETA: 0s - loss: 0.1133 - accuracy: 0.95 - 0s 42us/step - loss: 0.1180 - accuracy: 0.9554 - val_loss: 1.2172 - val_accuracy: 0.7881\n",
      "Epoch 20/20\n",
      "7982/7982 [==============================] - 0s 42us/step - loss: 0.1071 - accuracy: 0.9569 - val_loss: 1.2996 - val_accuracy: 0.7711\n"
     ]
    }
   ],
   "source": [
    "# 20번의 epoch로 training\n",
    "\n",
    "hist = model.fit(train_data, train_labels,\n",
    "                 epochs=20,\n",
    "                 batch_size=512,\n",
    "                 validation_data=(test_data, test_labels))"
   ]
  },
  {
   "cell_type": "code",
   "execution_count": 7,
   "metadata": {},
   "outputs": [
    {
     "data": {
      "image/png": "[encoded data removed]",
      "text/plain": [
       "<Figure size 432x288 with 1 Axes>"
      ]
     },
     "metadata": {
      "needs_background": "light"
     },
     "output_type": "display_data"
    }
   ],
   "source": [
    "import matplotlib.pyplot as plt\n",
    "\n",
    "loss = hist.history['loss']\n",
    "val_loss = hist.history['val_loss']\n",
    "\n",
    "epochs = range(1, len(loss)+1)\n",
    "\n",
    "plt.plot(epochs, loss, 'b', label=\"Training loss\")\n",
    "plt.plot(epochs, val_loss, 'r', label=\"Validation loss\")\n",
    "plt.title(\"Training and Validation loss\")\n",
    "plt.xlabel(\"Epochs\")\n",
    "plt.ylabel(\"Loss\")\n",
    "plt.legend()\n",
    "\n",
    "plt.show()"
   ]
  },
  {
   "cell_type": "code",
   "execution_count": 8,
   "metadata": {},
   "outputs": [
    {
     "data": {
      "image/png": "[encoded data removed]",
      "text/plain": [
       "<Figure size 432x288 with 1 Axes>"
      ]
     },
     "metadata": {
      "needs_background": "light"
     },
     "output_type": "display_data"
    }
   ],
   "source": [
    "acc = hist.history['accuracy']\n",
    "val_acc = hist.history['val_accuracy']\n",
    "\n",
    "epochs = range(1, len(acc)+1)\n",
    "\n",
    "plt.plot(epochs, acc, 'b', label=\"Training accuracy\")\n",
    "plt.plot(epochs, val_acc, 'r', label=\"Validation accuracy\")\n",
    "plt.title(\"Training and Validation accuracy\")\n",
    "plt.xlabel(\"Epochs\")\n",
    "plt.ylabel(\"Loss\")\n",
    "plt.legend()\n",
    "\n",
    "plt.show()"
   ]
  },
  {
   "cell_type": "code",
   "execution_count": 9,
   "metadata": {},
   "outputs": [
    {
     "name": "stdout",
     "output_type": "stream",
     "text": [
      "1000/1000 [==============================] - 0s 55us/step\n",
      "loss :  1.1568426761627197 , accuracy :  0.7860000133514404\n"
     ]
    }
   ],
   "source": [
    "result = model.evaluate(val_data, val_labels)\n",
    "print(\"loss : \", result[0], \", accuracy : \", result[1])"
   ]
  },
  {
   "cell_type": "markdown",
   "metadata": {},
   "source": [
    "- 약 9번째 epoch 이후부터 overfitting이 일어남\n",
    "- epoch을 9로 놓고 다시 테스트"
   ]
  },
  {
   "cell_type": "code",
   "execution_count": 10,
   "metadata": {},
   "outputs": [
    {
     "name": "stdout",
     "output_type": "stream",
     "text": [
      "Model: \"sequential_2\"\n",
      "_________________________________________________________________\n",
      "Layer (type)                 Output Shape              Param #   \n",
      "=================================================================\n",
      "dense_4 (Dense)              (None, 64)                640064    \n",
      "_________________________________________________________________\n",
      "dense_5 (Dense)              (None, 64)                4160      \n",
      "_________________________________________________________________\n",
      "dense_6 (Dense)              (None, 46)                2990      \n",
      "=================================================================\n",
      "Total params: 647,214\n",
      "Trainable params: 647,214\n",
      "Non-trainable params: 0\n",
      "_________________________________________________________________\n"
     ]
    }
   ],
   "source": [
    "model = models.Sequential()\n",
    "model.add(layers.Dense(64, activation='relu', input_shape=(10000,)))\n",
    "model.add(layers.Dense(64, activation='relu'))\n",
    "model.add(layers.Dense(46, activation='softmax'))\n",
    "\n",
    "model.summary()"
   ]
  },
  {
   "cell_type": "code",
   "execution_count": 11,
   "metadata": {},
   "outputs": [
    {
     "name": "stdout",
     "output_type": "stream",
     "text": [
      "Train on 7982 samples, validate on 2246 samples\n",
      "Epoch 1/9\n",
      "7982/7982 [==============================] - 0s 50us/step - loss: 2.6673 - accuracy: 0.5208 - val_loss: 1.8073 - val_accuracy: 0.6376\n",
      "Epoch 2/9\n",
      "7982/7982 [==============================] - 0s 46us/step - loss: 1.4529 - accuracy: 0.6984 - val_loss: 1.3997 - val_accuracy: 0.6834\n",
      "Epoch 3/9\n",
      "7982/7982 [==============================] - 0s 48us/step - loss: 1.0769 - accuracy: 0.7720 - val_loss: 1.2282 - val_accuracy: 0.7266\n",
      "Epoch 4/9\n",
      "7982/7982 [==============================] - 0s 48us/step - loss: 0.8431 - accuracy: 0.8269 - val_loss: 1.1042 - val_accuracy: 0.7551\n",
      "Epoch 5/9\n",
      "7982/7982 [==============================] - 0s 50us/step - loss: 0.6724 - accuracy: 0.8598 - val_loss: 1.0351 - val_accuracy: 0.7738\n",
      "Epoch 6/9\n",
      "7982/7982 [==============================] - 0s 48us/step - loss: 0.5383 - accuracy: 0.8899 - val_loss: 0.9922 - val_accuracy: 0.7787\n",
      "Epoch 7/9\n",
      "7982/7982 [==============================] - 0s 44us/step - loss: 0.4300 - accuracy: 0.9129 - val_loss: 0.9770 - val_accuracy: 0.7836\n",
      "Epoch 8/9\n",
      "7982/7982 [==============================] - 0s 44us/step - loss: 0.3472 - accuracy: 0.9302 - val_loss: 0.9812 - val_accuracy: 0.7885\n",
      "Epoch 9/9\n",
      "7982/7982 [==============================] - 0s 46us/step - loss: 0.2937 - accuracy: 0.9389 - val_loss: 0.9863 - val_accuracy: 0.7850\n"
     ]
    }
   ],
   "source": [
    "model.compile(loss='categorical_crossentropy',\n",
    "              optimizer='RMSprop',\n",
    "              metrics=['accuracy'])\n",
    "\n",
    "hist = model.fit(train_data, train_labels,\n",
    "                 epochs=9, batch_size=512,\n",
    "                 validation_data=(test_data, test_labels))"
   ]
  },
  {
   "cell_type": "code",
   "execution_count": 12,
   "metadata": {},
   "outputs": [
    {
     "data": {
      "image/png": "[encoded data removed]",
      "text/plain": [
       "<Figure size 432x288 with 1 Axes>"
      ]
     },
     "metadata": {
      "needs_background": "light"
     },
     "output_type": "display_data"
    }
   ],
   "source": [
    "loss = hist.history['loss']\n",
    "val_loss = hist.history['val_loss']\n",
    "\n",
    "epochs = range(1, len(loss)+1)\n",
    "\n",
    "plt.plot(epochs, loss, 'b', label=\"Training loss\")\n",
    "plt.plot(epochs, val_loss, 'r', label=\"Validation loss\")\n",
    "plt.title(\"Training and Validation loss\")\n",
    "plt.xlabel(\"Epochs\")\n",
    "plt.ylabel(\"Loss\")\n",
    "plt.legend()\n",
    "\n",
    "plt.show()"
   ]
  },
  {
   "cell_type": "code",
   "execution_count": 13,
   "metadata": {},
   "outputs": [
    {
     "data": {
      "image/png": "[encoded data removed]",
      "text/plain": [
       "<Figure size 432x288 with 1 Axes>"
      ]
     },
     "metadata": {
      "needs_background": "light"
     },
     "output_type": "display_data"
    }
   ],
   "source": [
    "acc = hist.history['accuracy']\n",
    "val_acc = hist.history['val_accuracy']\n",
    "\n",
    "epochs = range(1, len(acc)+1)\n",
    "\n",
    "plt.plot(epochs, acc, 'b', label=\"Training accuracy\")\n",
    "plt.plot(epochs, val_acc, 'r', label=\"Validation accuracy\")\n",
    "plt.title(\"Training and Validation accuracy\")\n",
    "plt.xlabel(\"Epochs\")\n",
    "plt.ylabel(\"Loss\")\n",
    "plt.legend()\n",
    "\n",
    "plt.show()"
   ]
  },
  {
   "cell_type": "code",
   "execution_count": 14,
   "metadata": {},
   "outputs": [
    {
     "name": "stdout",
     "output_type": "stream",
     "text": [
      "1000/1000 [==============================] - 0s 41us/step\n",
      "loss :  0.8930388917922973 , accuracy :  0.8190000057220459\n"
     ]
    }
   ],
   "source": [
    "result = model.evaluate(val_data, val_labels)\n",
    "print(\"loss : \", result[0], \", accuracy : \", result[1])"
   ]
  },
  {
   "cell_type": "markdown",
   "metadata": {},
   "source": [
    "### 3.5.5 새로운 데이터에 대해 예측하기\n",
    "\n",
    "predict()를 통해 46개의 class에 대한 확률 분포를 출력"
   ]
  },
  {
   "cell_type": "code",
   "execution_count": 15,
   "metadata": {},
   "outputs": [
    {
     "name": "stdout",
     "output_type": "stream",
     "text": [
      "(46,)\n",
      "1.0\n",
      "19\n"
     ]
    }
   ],
   "source": [
    "prediction = model.predict(train_data)\n",
    "\n",
    "# prediction의 각 항목은 길이가 46인 벡터\n",
    "print(prediction[0].shape)\n",
    "\n",
    "# 모든 원소의 합은 1\n",
    "print(np.sum(prediction[0]))\n",
    "\n",
    "# 가장 큰 값이 예측값이됨\n",
    "print(np.argmax(prediction[0]))"
   ]
  },
  {
   "cell_type": "markdown",
   "metadata": {},
   "source": [
    "### 3.5.6 레이블과 손실을 다루는 다른 방법\n",
    "\n",
    "- 레이블 인코딩 방법\n",
    "    1. one-hot encoding (범주형, loss=categorical_crossentropy)\n",
    "    2. 정수 텐서를 이용하는방법 (정수형, loss=sparse_categorical_crossentropy)\n",
    "    \n",
    "    \n",
    "categorical_crossentropy와 sparse_categorical_crossentropy는 인터페이스만 다를 뿐 수학적으로 동일함"
   ]
  },
  {
   "cell_type": "code",
   "execution_count": 16,
   "metadata": {},
   "outputs": [],
   "source": [
    "# 2. 정수 텐서 이용방법 예\n",
    "(train_data, train_labels), (test_data, test_labels) = reuters.load_data(num_words=10000)\n",
    "\n",
    "# 아래처럼 label을 numpy array로 바꾸고 loss='sparse_categorical_crossentropy'를 사용하면 됨\n",
    "# 여기서는 이미 numpy array이지만 numpy array여야 한다는 것을 나타내기 위함\n",
    "train_labels = np.array(train_labels)\n",
    "test_labels = np.array(test_labels)"
   ]
  },
  {
   "cell_type": "markdown",
   "metadata": {},
   "source": [
    "### 3.5.7 충분히 큰 중간층(hidden layer)을 두어야 하는 이유\n",
    "\n",
    "- 마지막 출력이 46차원이기 때문에 hidden layer는 46차원보다 많이 적어서는 안됨\n",
    "- 46차원보다 훨씬 적은 hidden layer를 두면 정보의 병목(information bottleneck)이 일어남\n",
    "- information bottleneck\n",
    "    - 각 층은 이전 층의 output으로부터 정보를 받음\n",
    "    - 한 층이 일부 정보를 누락하면 그 다음 층에서 복원할 방법이 없음\n",
    "    - 각 층은 잠재적으로 information bottleneck이 될 수 있음\n",
    "    - 따라서, **출력의 차원보다 많이 적지 않도록 layer를 구성해 information bottleneck을 방지해야함**"
   ]
  },
  {
   "cell_type": "code",
   "execution_count": 17,
   "metadata": {},
   "outputs": [
    {
     "name": "stdout",
     "output_type": "stream",
     "text": [
      "(7982, 10000) (7982,)\n",
      "(2246, 10000) (2246,)\n",
      "(1000, 10000) (1000,)\n",
      "Model: \"sequential_3\"\n",
      "_________________________________________________________________\n",
      "Layer (type)                 Output Shape              Param #   \n",
      "=================================================================\n",
      "dense_7 (Dense)              (None, 64)                640064    \n",
      "_________________________________________________________________\n",
      "dense_8 (Dense)              (None, 16)                1040      \n",
      "_________________________________________________________________\n",
      "dense_9 (Dense)              (None, 46)                782       \n",
      "=================================================================\n",
      "Total params: 641,886\n",
      "Trainable params: 641,886\n",
      "Non-trainable params: 0\n",
      "_________________________________________________________________\n"
     ]
    }
   ],
   "source": [
    "(train_data, train_labels), (test_data, test_labels) = reuters.load_data(num_words=10000)\n",
    "\n",
    "train_data = vectorize_sequences(train_data)\n",
    "test_data = vectorize_sequences(test_data)\n",
    "\n",
    "# 정수 텐서 방법 사용해봄\n",
    "train_labels = np.array(train_labels)\n",
    "test_labels = np.array(test_labels)\n",
    "\n",
    "val_data = train_data[:1000]\n",
    "train_data = train_data[1000:]\n",
    "val_labels = train_labels[:1000]\n",
    "train_labels = train_labels[1000:]\n",
    "\n",
    "print(train_data.shape, train_labels.shape)\n",
    "print(test_data.shape, test_labels.shape)\n",
    "print(val_data.shape, val_labels.shape)\n",
    "\n",
    "# information bottleneck이 있는 model\n",
    "model = models.Sequential()\n",
    "model.add(layers.Dense(64, activation='relu', input_shape=(10000,)))\n",
    "model.add(layers.Dense(16, activation='relu'))\n",
    "model.add(layers.Dense(46, activation='softmax'))\n",
    "\n",
    "model.summary()"
   ]
  },
  {
   "cell_type": "code",
   "execution_count": 18,
   "metadata": {},
   "outputs": [
    {
     "name": "stdout",
     "output_type": "stream",
     "text": [
      "Train on 7982 samples, validate on 2246 samples\n",
      "Epoch 1/9\n",
      "7982/7982 [==============================] - 1s 63us/step - loss: 3.1064 - accuracy: 0.4063 - val_loss: 2.3937 - val_accuracy: 0.5895\n",
      "Epoch 2/9\n",
      "7982/7982 [==============================] - 0s 43us/step - loss: 1.9304 - accuracy: 0.6468 - val_loss: 1.6997 - val_accuracy: 0.6674\n",
      "Epoch 3/9\n",
      "7982/7982 [==============================] - 0s 42us/step - loss: 1.3679 - accuracy: 0.7471 - val_loss: 1.4056 - val_accuracy: 0.7102\n",
      "Epoch 4/9\n",
      "7982/7982 [==============================] - 0s 42us/step - loss: 1.0762 - accuracy: 0.7884 - val_loss: 1.2642 - val_accuracy: 0.7297\n",
      "Epoch 5/9\n",
      "7982/7982 [==============================] - 0s 42us/step - loss: 0.8940 - accuracy: 0.8181 - val_loss: 1.1873 - val_accuracy: 0.7493\n",
      "Epoch 6/9\n",
      "7982/7982 [==============================] - 0s 42us/step - loss: 0.7599 - accuracy: 0.8413 - val_loss: 1.1321 - val_accuracy: 0.7578\n",
      "Epoch 7/9\n",
      "7982/7982 [==============================] - 0s 42us/step - loss: 0.6531 - accuracy: 0.8632 - val_loss: 1.0968 - val_accuracy: 0.7609\n",
      "Epoch 8/9\n",
      "7982/7982 [==============================] - 0s 42us/step - loss: 0.5640 - accuracy: 0.8832 - val_loss: 1.0884 - val_accuracy: 0.7614\n",
      "Epoch 9/9\n",
      "7982/7982 [==============================] - 0s 42us/step - loss: 0.4891 - accuracy: 0.8973 - val_loss: 1.0733 - val_accuracy: 0.7689\n"
     ]
    }
   ],
   "source": [
    "model.compile(loss='sparse_categorical_crossentropy',\n",
    "              optimizer='RMSprop',\n",
    "              metrics=['accuracy'])\n",
    "\n",
    "hist = model.fit(train_data, train_labels,\n",
    "                 epochs=9, batch_size=512,\n",
    "                 validation_data=(test_data, test_labels))"
   ]
  },
  {
   "cell_type": "code",
   "execution_count": 19,
   "metadata": {},
   "outputs": [
    {
     "data": {
      "image/png": "[encoded data removed]",
      "text/plain": [
       "<Figure size 432x288 with 1 Axes>"
      ]
     },
     "metadata": {
      "needs_background": "light"
     },
     "output_type": "display_data"
    }
   ],
   "source": [
    "loss = hist.history['loss']\n",
    "val_loss = hist.history['val_loss']\n",
    "\n",
    "epochs = range(1, len(loss)+1)\n",
    "\n",
    "plt.plot(epochs, loss, 'b', label=\"Training loss\")\n",
    "plt.plot(epochs, val_loss, 'r', label=\"Validation loss\")\n",
    "plt.title(\"Training and Validation loss\")\n",
    "plt.xlabel(\"Epochs\")\n",
    "plt.ylabel(\"Loss\")\n",
    "plt.legend()\n",
    "\n",
    "plt.show()"
   ]
  },
  {
   "cell_type": "code",
   "execution_count": 20,
   "metadata": {},
   "outputs": [
    {
     "data": {
      "image/png": "[encoded data removed]",
      "text/plain": [
       "<Figure size 432x288 with 1 Axes>"
      ]
     },
     "metadata": {
      "needs_background": "light"
     },
     "output_type": "display_data"
    }
   ],
   "source": [
    "acc = hist.history['accuracy']\n",
    "val_acc = hist.history['val_accuracy']\n",
    "\n",
    "epochs = range(1, len(acc)+1)\n",
    "\n",
    "plt.plot(epochs, acc, 'b', label=\"Training accuracy\")\n",
    "plt.plot(epochs, val_acc, 'r', label=\"Validation accuracy\")\n",
    "plt.title(\"Training and Validation accuracy\")\n",
    "plt.xlabel(\"Epochs\")\n",
    "plt.ylabel(\"Loss\")\n",
    "plt.legend()\n",
    "\n",
    "plt.show()"
   ]
  },
  {
   "cell_type": "code",
   "execution_count": 21,
   "metadata": {
    "scrolled": true
   },
   "outputs": [
    {
     "name": "stdout",
     "output_type": "stream",
     "text": [
      "1000/1000 [==============================] - 0s 53us/step\n",
      "loss :  0.9723118534088134 , accuracy :  0.7990000247955322\n"
     ]
    }
   ],
   "source": [
    "result = model.evaluate(val_data, val_labels)\n",
    "print(\"loss : \", result[0], \", accuracy : \", result[1])"
   ]
  },
  {
   "cell_type": "markdown",
   "metadata": {},
   "source": [
    "- accuracy가 약간 감소함\n",
    "- 이는 많은 정보(클래스 46개의 분할 초평면을 복원하기에 충분한 정보)를 중간층의 저차원 표현 공간으로 압축했기 때문\n",
    "- **정보의 병목을 생각하면서 layer를 구성하자!**"
   ]
  },
  {
   "cell_type": "markdown",
   "metadata": {},
   "source": [
    "### 3.5.8 정리\n",
    "\n",
    "- N개의 클래스의 분류 문제에서는 마지막 층이 N개의 Dense layer\n",
    "- 단일 레이블, 다중 분류 문제에서는 N개의 클래스에 대한 확률 분포를 위한 softmax 활성화 함수를 사용\n",
    "- 이러한 문제에서는 범주형 크로스엔트로피(categorical_crossentropy)를 사용\n",
    "- 다중 분류 문제에서의 레이블을 다루는 두가지 방법\n",
    "    1. 레이블을 one-hot encoding 후 categorical_crossentropy 손실 함수 사용\n",
    "    2. 레이블을 정수로 인코딩 후 sparse_categorical_crossentropy 손실 함수 사용\n",
    "- 많은 수의 범주를 분류할 때, hidden layer(중간층)의 크기가 작으면 정보의 병목이 발생하므로 작지 않도록 해야 함"
   ]
  }
 ],
 "metadata": {
  "kernelspec": {
   "display_name": "Python 3",
   "language": "python",
   "name": "python3"
  },
  "language_info": {
   "codemirror_mode": {
    "name": "ipython",
    "version": 3
   },
   "file_extension": ".py",
   "mimetype": "text/x-python",
   "name": "python",
   "nbconvert_exporter": "python",
   "pygments_lexer": "ipython3",
   "version": "3.7.5"
  }
 },
 "nbformat": 4,
 "nbformat_minor": 2
}
