{
 "cells": [
  {
   "cell_type": "markdown",
   "metadata": {},
   "source": [
    "# 3.1 신경망의 구조\n",
    "\n",
    "- 신경망의 요소\n",
    "    - 네트워크를 구성하는 층(Layer)\n",
    "    - 입력(Input) 데이터 x, 타깃(target) y\n",
    "    - 손실함수(loss function)\n",
    "    - 옵티마이저(optimizer)"
   ]
  },
  {
   "cell_type": "markdown",
   "metadata": {},
   "source": [
    "## 3.1.1 층(Layer) : 딥러닝의 구성단위\n",
    "\n",
    "- 층(Layer)\n",
    "    - 하나 이상의 텐서를 입력으로 받아 하나 이상의 텐서를 출력하는 데이터 처리 모듈\n",
    "    - 층은 일반적으로 가중치(weight)라는 상태를 가짐\n",
    "    - 가중치는 확률적 경사 하강법(stochastic gradient descent)에 의해 학습되는 하나 이상의 텐서를 말하며, 여기에 네트워크가 학습한 지식이 담겨있음\n",
    "    \n",
    "\n",
    "- tensor format에 따른 적절한 층\n",
    "    - (samples, features)\n",
    "        - 2D 텐서(vector)\n",
    "        - 완전 연결 층(fully connected layer)에 의해 주로 처리됨\n",
    "    - (samples, timesteps, features)\n",
    "        - 3D 텐서\n",
    "        - LSTM과 같은 순환 층(recurrent layer)에 의해 주로 처리됨\n",
    "    - (samples, height, width, channels)\n",
    "        - 4D 텐서\n",
    "        - 합성곱 층(Convolution layer)에 의해 주로 처리됨\n",
    "\n",
    "\n",
    "- 층 호환성(layer compatibility)\n",
    "    - 각 층이 특정 크기의 입력 텐서만 받고 특정 크기의 출력 텐서를 반환하는 것"
   ]
  },
  {
   "cell_type": "code",
   "execution_count": 1,
   "metadata": {},
   "outputs": [
    {
     "name": "stderr",
     "output_type": "stream",
     "text": [
      "Using TensorFlow backend.\n"
     ]
    }
   ],
   "source": [
    "# 층 호환성 예제\n",
    "\n",
    "import numpy as np\n",
    "from keras import models\n",
    "from keras import layers\n",
    "\n",
    "network = models.Sequential()\n",
    "# first layer\n",
    "# 입력 : 첫번째 차원 크기가 784인 2D 텐서(first layer에서는 input_shape를 알려주어야 함)\n",
    "# 출력 : 첫번째 차원 크기가 32인 2D 텐서\n",
    "network.add(layers.Dense(32, input_shape=(784,)))\n",
    "\n",
    "# second layer\n",
    "# 입력 : 첫번째 차원 크기가 32인 2D 텐서(케라스에서는 자동으로 상위 층에 맞게 변환해주므로 input_shape를 따로 알려주지 않음)\n",
    "# 출력 : 첫번째 차원 크기가 10인 2D 텐서\n",
    "network.add(layers.Dense(10))"
   ]
  },
  {
   "cell_type": "markdown",
   "metadata": {},
   "source": [
    "## 3.1.2 모델(model) : 층의 네트워크\n",
    "\n",
    "- 딥러닝 모델(network)은 층으로 만든 비순환 유향 그래프(Directed Acyclic Graph, DAG)\n",
    "\n",
    "\n",
    "- 자주 사용되는 network 구조\n",
    "    - 하나의 입력을 하나의 출력으로 매핑하는 층을 순서대로 쌓은 network(가장 일반적)\n",
    "    - 가지(branch)가 2개인 network\n",
    "    - 출력이 여러 개인 network\n",
    "    - 인셉션(inception) block\n",
    "\n",
    "\n",
    "- 가설 공간(hypothesis space)\n",
    "    - 네트워크 구조는 가설 공간(hypothesis space)을 정의\n",
    "    - 네트워크 구조를 선택함으로써 가능성 있는 공간(가설 공간)을 입력 데이터에서 출력 데이터로 매핑하는 일련의 특정 텐서 연산으로 제한함\n",
    "    - 우리가 찾는 것은 이런 텐서 연산에 포함된 가중치 텐서의 좋은 값\n",
    "    - 1장에서 머신러닝을 '가능성 있는 공간을 사전에 정의하고 피드백 신호의 도움을 받아 입력 데이터에 대한 유용한 변환을 찾는 것'으로 정의한 것을 참고\n",
    "    \n",
    "    \n",
    "- 딱 맞는 네트워크 구조를 찾아내는 것은 어려움\n",
    "- 따라서 신뢰할만한 여러 모범적인 사례 및 원칙을 연습하고 적절한 신경망을 설계할 수 있는 능력을 갖추어야 함"
   ]
  },
  {
   "cell_type": "markdown",
   "metadata": {},
   "source": [
    "## 3.1.3 손실 함수(loss function)와 옵티마이저(optimizer) : 학습 과정을 조절하는 열쇠\n",
    "\n",
    "- 손실 함수(loss function) : 주어진 문제에 대한 성공 지표, 훈련 중 최소화 되어야 하는 값\n",
    "- 옵티마이저(optimizer) : loss function을 기반으로 weight가 어떻게 업데이트 될 지 결정, 특정 종류의 SGD를 구현\n",
    "\n",
    "\n",
    "- 신경망에서 각 출력당 한개의 손실함수를 가질 수 있음\n",
    "- 그러나 SGD는 하나의 스칼라 손실 값을 기준으로 하므로, 손실이 여러개인 네트워크라도 모든 손실이 하나의 스칼라 값으로 합쳐져야 함\n",
    "\n",
    "\n",
    "- 손실 함수(loss function)의 선택\n",
    "    - 신경망은 단지 손실함수를 최소화하기만 하므로 문제에 맞는 올바른 loss function을 선택하는 것은 매우 중요\n",
    "    - 일반적인 문제에서의 손실함수\n",
    "        - 2개의 class 분류 문제 : binary cross entropy\n",
    "        - 2개이상의 class 분류 문제 : categorical cross entropy\n",
    "        - 회귀(regression) 문제 : 평균제곱오차(mean square error, mse)\n",
    "        - sequence 문제 : CTC(connection temporal classification)"
   ]
  },
  {
   "cell_type": "code",
   "execution_count": null,
   "metadata": {},
   "outputs": [],
   "source": []
  }
 ],
 "metadata": {
  "kernelspec": {
   "display_name": "Python 3",
   "language": "python",
   "name": "python3"
  },
  "language_info": {
   "codemirror_mode": {
    "name": "ipython",
    "version": 3
   },
   "file_extension": ".py",
   "mimetype": "text/x-python",
   "name": "python",
   "nbconvert_exporter": "python",
   "pygments_lexer": "ipython3",
   "version": "3.7.5"
  }
 },
 "nbformat": 4,
 "nbformat_minor": 2
}
