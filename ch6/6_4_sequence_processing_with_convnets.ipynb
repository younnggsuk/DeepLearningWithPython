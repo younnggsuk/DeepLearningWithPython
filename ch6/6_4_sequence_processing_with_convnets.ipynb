{
 "cells": [
  {
   "cell_type": "markdown",
   "metadata": {},
   "source": [
    "# 6.4 컨브넷을 사용한 시퀀스 처리\n",
    "\n",
    "### 1D Convnet\n",
    "\n",
    "- **1D Convnet은 2D Convnet에서의 이미지의 높이, 너비(2차원)를 시간(1차원)으로 바꾼 것**\n",
    "\n",
    "- Convnet이 입력의 부분 패치에서 특성을 뽑아내 구조적인 표현을 만들 수 있다는 특징을 이용\n",
    "    - 1D Convnet의 부분 패치 크기 : (time)\n",
    "    - 2D Convnet의 부분 패치 크기 : (height, width)\n",
    "    \n",
    "    \n",
    "- 1D Convnet은 최근 오디오 생성과 기계 번역 분야에서 큰 성공을 거두었음\n",
    "    \n",
    "    \n",
    "### 1D Convnet의 특징\n",
    "\n",
    "- 1D Convnet은 시퀀스 처리에서 **RNN에 비해 계산비용이 적음**\n",
    "- 1D Convnet은 전형적으로 dilated kernel과 함께 사용됨\n",
    "\n",
    "\n",
    "#### 참고) Dilated convolution\n",
    "\n",
    "- Dilated convolution(팽창 합성곱)은 커널에 구멍을 추가하여 큰 범위로 receptive field를 늘리는 방법\n",
    "    - receptive field는 필터가 보는 영역을 뜻함\n",
    "    \n",
    "\n",
    "- 진한 파랑 아래 그림의 진한 파랑부분만 weight가 있고 나머지 부분(구멍 부분)은 0으로 채워짐\n",
    "\n",
    "\n",
    "<img src=\"./images/dilated_conv.gif\" alt=\"dilated\" align=\"left\"/>"
   ]
  },
  {
   "cell_type": "markdown",
   "metadata": {},
   "source": [
    "## 6.4.1 시퀀스 데이터를 위한 1D 합성곱 이해하기\n",
    "\n",
    "### 1D Convolution의 동작 방식\n",
    "\n",
    "1. 입력 시퀀스에서 시간 축으로 1D 패치(부분 시퀀스)를 추출\n",
    "\n",
    "\n",
    "\n",
    "2. 추출된 패치에 대해 1D 합성곱을 적용\n",
    "    - 합성곱을 통해 나온 출력이 타임스텝이 됨\n",
    "\n",
    "<img src=\"./images/1d_conv.png\" alt=\"1d_conv\" align=\"left\"/>"
   ]
  },
  {
   "cell_type": "markdown",
   "metadata": {},
   "source": [
    "### 시퀀스 지역 패턴 인식\n",
    "\n",
    "- **1D 합성곱 층은 시퀀스의 지역 패턴을 인식할 수 있음**\n",
    "    - 특정 위치에서 학습한 패턴을 나중에 다른 위치에서 인식할 수 있음\n",
    "    - 시퀀스의 시간의 이동에 대한 불변성을 제공\n",
    "    \n",
    "예) 크기가 5인 윈도우를 사용해 문자 시퀀스를 처리하는 경우, 1D Convnet은 5개 이하의 단어나 단어의 부분을 학습하며 이 Convnet은 단어가 입력 시퀀스의 어느 문장에 있더라도 인식할 수 있음\n",
    "        "
   ]
  },
  {
   "cell_type": "markdown",
   "metadata": {},
   "source": [
    "## 6.4.2 시퀀스 데이터를 위한 1D 풀링\n",
    "\n",
    "### 1D Pooling\n",
    "\n",
    "- 1D Pooling은 2D Pooling연산과 마찬가지로 **1D 입력의 길이를 줄이기 위해 사용(subsampling)**\n",
    "- 입력에서 1D 패치(부분 시퀀스)를 추출하고, 최댓값이나 평균값을 출력"
   ]
  },
  {
   "cell_type": "markdown",
   "metadata": {},
   "source": [
    "## 6.4.3 1D 컨브넷 구현\n",
    "\n",
    "### 1D 컨브넷 구현\n",
    "\n",
    "- keras에서는 `Conv1D`를 사용해 구현\n",
    "\n",
    "\n",
    "- 입력 텐서의 크기 : `(samples, time, features)`\n",
    "    - 2D Convnet의 이미지 입력 텐서의 크기`(samples, height, width, features)`에서 height, width가 time이 됨\n",
    "    - 합성곱 윈도우는 시간 축의 1D 윈도우(입력 텐서의 2번째 축)\n",
    "    \n",
    "\n",
    "- 큰 합성곱 윈도우 크기 사용\n",
    "    - 2D 컨브넷에서 크기가 3인 합성곱 윈도우는 3x3=9개의 특성을 고려\n",
    "    - 1D 컨브넷에서 크기가 3인 합성곱 윈도우는 3개의 특성을 고려\n",
    "    - 따라서, 1D 컨브넷에서는 큰 윈도우 크기인 7이나 9를 적용할 수 있음\n",
    "    \n",
    "    \n",
    "### 네트워크 구성 (2D Convnet과 비슷함)\n",
    "\n",
    "1. Conv1D, MaxPooling1D를 쌓음\n",
    "2. 전역 풀링 층이나 Flatten층을 쌓음\n",
    "3. 분류나 회귀를 위한 Dense층을 추가\n",
    "\n",
    "\n",
    "#### 전역 풀링 층\n",
    "\n",
    "- `GlobalAveragePooling1D`, `GlobalMaxPooling1D` : 시간 축 전체에 풀링\n",
    "    - 입력 : `(samples, timesteps, features)`\n",
    "    - 출력 : `(samples, features)`\n",
    "    \n",
    "\n",
    "- `GlobalAveragePooling2D`, `GlobalMaxPooling2D` : 특성 맵의 공간 차원 전체에 대한 풀링\n",
    "    - 입력 : `(samples, height, width, channels)`\n",
    "    - 출력 : `(samples, channels)`"
   ]
  },
  {
   "cell_type": "markdown",
   "metadata": {},
   "source": [
    "### IMDB 감성 분류 예제"
   ]
  },
  {
   "cell_type": "code",
   "execution_count": 1,
   "metadata": {},
   "outputs": [
    {
     "name": "stdout",
     "output_type": "stream",
     "text": [
      "(25000, 500) (25000,)\n",
      "(25000, 500) (25000,)\n"
     ]
    }
   ],
   "source": [
    "from tensorflow.keras.datasets import imdb\n",
    "from tensorflow.keras.preprocessing import sequence\n",
    "\n",
    "max_features = 10000\n",
    "max_len = 500\n",
    "\n",
    "(x_train, y_train), (x_test, y_test) = imdb.load_data(num_words=max_features)\n",
    "\n",
    "x_train = sequence.pad_sequences(x_train, maxlen=max_len)\n",
    "x_test = sequence.pad_sequences(x_test, maxlen=max_len)\n",
    "\n",
    "print(x_train.shape, y_train.shape)\n",
    "print(x_test.shape, y_test.shape)"
   ]
  },
  {
   "cell_type": "code",
   "execution_count": 2,
   "metadata": {
    "scrolled": true
   },
   "outputs": [
    {
     "name": "stdout",
     "output_type": "stream",
     "text": [
      "Model: \"sequential\"\n",
      "_________________________________________________________________\n",
      "Layer (type)                 Output Shape              Param #   \n",
      "=================================================================\n",
      "embedding (Embedding)        (None, 500, 32)           320000    \n",
      "_________________________________________________________________\n",
      "conv1d (Conv1D)              (None, 494, 32)           7200      \n",
      "_________________________________________________________________\n",
      "max_pooling1d (MaxPooling1D) (None, 98, 32)            0         \n",
      "_________________________________________________________________\n",
      "conv1d_1 (Conv1D)            (None, 92, 32)            7200      \n",
      "_________________________________________________________________\n",
      "global_max_pooling1d (Global (None, 32)                0         \n",
      "_________________________________________________________________\n",
      "dense (Dense)                (None, 1)                 33        \n",
      "=================================================================\n",
      "Total params: 334,433\n",
      "Trainable params: 334,433\n",
      "Non-trainable params: 0\n",
      "_________________________________________________________________\n"
     ]
    }
   ],
   "source": [
    "import tensorflow.keras.models as models\n",
    "import tensorflow.keras.layers as layers\n",
    "import tensorflow.keras.optimizers as optimizers\n",
    "\n",
    "model = models.Sequential()\n",
    "\n",
    "model.add(layers.Embedding(max_features, 32, input_length=max_len))\n",
    "\n",
    "model.add(layers.Conv1D(32, 7, activation='relu'))\n",
    "model.add(layers.MaxPooling1D(5))\n",
    "model.add(layers.Conv1D(32, 7, activation='relu'))\n",
    "model.add(layers.GlobalMaxPooling1D())\n",
    "\n",
    "model.add(layers.Dense(1))\n",
    "\n",
    "model.summary()"
   ]
  },
  {
   "cell_type": "code",
   "execution_count": 3,
   "metadata": {},
   "outputs": [
    {
     "name": "stdout",
     "output_type": "stream",
     "text": [
      "Train on 20000 samples, validate on 5000 samples\n",
      "Epoch 1/10\n",
      "20000/20000 [==============================] - 4s 192us/sample - loss: 1.0700 - acc: 0.5008 - val_loss: 0.6934 - val_acc: 0.5234\n",
      "Epoch 2/10\n",
      "20000/20000 [==============================] - 2s 101us/sample - loss: 0.6858 - acc: 0.5706 - val_loss: 0.6833 - val_acc: 0.5926\n",
      "Epoch 3/10\n",
      "20000/20000 [==============================] - 2s 113us/sample - loss: 0.6699 - acc: 0.6543 - val_loss: 0.6700 - val_acc: 0.6442\n",
      "Epoch 4/10\n",
      "20000/20000 [==============================] - 2s 109us/sample - loss: 0.6468 - acc: 0.7224 - val_loss: 0.6429 - val_acc: 0.7058\n",
      "Epoch 5/10\n",
      "20000/20000 [==============================] - 2s 102us/sample - loss: 0.6023 - acc: 0.7664 - val_loss: 0.5821 - val_acc: 0.7578\n",
      "Epoch 6/10\n",
      "20000/20000 [==============================] - 2s 95us/sample - loss: 0.5172 - acc: 0.8069 - val_loss: 0.4944 - val_acc: 0.7920\n",
      "Epoch 7/10\n",
      "20000/20000 [==============================] - 2s 99us/sample - loss: 0.4242 - acc: 0.8365 - val_loss: 0.4287 - val_acc: 0.8244\n",
      "Epoch 8/10\n",
      "20000/20000 [==============================] - 2s 114us/sample - loss: 0.3699 - acc: 0.8592 - val_loss: 0.4062 - val_acc: 0.8386\n",
      "Epoch 9/10\n",
      "20000/20000 [==============================] - 2s 107us/sample - loss: 0.3377 - acc: 0.8730 - val_loss: 0.3895 - val_acc: 0.8478\n",
      "Epoch 10/10\n",
      "20000/20000 [==============================] - 2s 107us/sample - loss: 0.3170 - acc: 0.8852 - val_loss: 0.3778 - val_acc: 0.8556\n"
     ]
    }
   ],
   "source": [
    "model.compile(loss='binary_crossentropy',\n",
    "              optimizer=optimizers.RMSprop(lr=0.0001),\n",
    "              metrics=['acc'])\n",
    "\n",
    "history = model.fit(x_train, y_train,\n",
    "                    epochs=10,\n",
    "                    batch_size=128,\n",
    "                    validation_split=0.2)"
   ]
  },
  {
   "cell_type": "code",
   "execution_count": 4,
   "metadata": {},
   "outputs": [
    {
     "data": {
      "image/png": "[encoded data removed]",
      "text/plain": [
       "<Figure size 432x288 with 1 Axes>"
      ]
     },
     "metadata": {
      "needs_background": "light"
     },
     "output_type": "display_data"
    },
    {
     "data": {
      "image/png": "[encoded data removed]",
      "text/plain": [
       "<Figure size 432x288 with 1 Axes>"
      ]
     },
     "metadata": {
      "needs_background": "light"
     },
     "output_type": "display_data"
    }
   ],
   "source": [
    "import matplotlib.pyplot as plt\n",
    "\n",
    "acc = history.history['acc']\n",
    "val_acc = history.history['val_acc']\n",
    "loss = history.history['loss']\n",
    "val_loss = history.history['val_loss']\n",
    "\n",
    "epochs = range(1, len(acc)+1)\n",
    "\n",
    "plt.plot(epochs, acc, 'b', label='train')\n",
    "plt.plot(epochs, val_acc, 'r', label='validation')\n",
    "plt.title(\"Accuracy\")\n",
    "plt.legend()\n",
    "\n",
    "plt.figure()\n",
    "\n",
    "plt.plot(epochs, loss, 'b', label='train')\n",
    "plt.plot(epochs, val_loss, 'r', label='validation')\n",
    "plt.title(\"Loss\")\n",
    "plt.legend()\n",
    "\n",
    "plt.show()"
   ]
  },
  {
   "cell_type": "markdown",
   "metadata": {},
   "source": [
    "#### 결과 분석\n",
    "\n",
    "- 6.2절의 LSTM을 사용한 모델보다 성능은 조금 떨어지만 학습 속도가 매우 빨라짐\n",
    "\n",
    "- 매우 복잡한 문제가 아닌 경우, 순환 네트워크를 대신해 경제적인 1D 컨브넷을 사용할 수 있다는 것을 보여줌"
   ]
  },
  {
   "cell_type": "markdown",
   "metadata": {},
   "source": [
    "## 6.4.4 CNN과 RNN을 연결하여 긴 시퀀스를 처리하기\n",
    "\n",
    "### CNN을 이용한 시퀀스 처리의 한계\n",
    "\n",
    "- 입력 패치를 독립적으로 처리하므로 타임스텝의 순서에 민감하지 않음\n",
    "    - 합성곱 윈도우 크기의 범위를 넘어서는 타임스텝의 순서에 민감하지 않다는 의미\n",
    "    \n",
    "- 장기간의 패턴을 인식하기 위해서는 많은 합성곱 층과 풀링 층을 쌓아야 함\n",
    "    - 하지만 데이터가 점차 고수준화 되므로 순서를 감지하기에 부족함"
   ]
  },
  {
   "cell_type": "markdown",
   "metadata": {},
   "source": [
    "### 온도 예측 문제에 CNN을 적용"
   ]
  },
  {
   "cell_type": "code",
   "execution_count": 5,
   "metadata": {},
   "outputs": [],
   "source": [
    "# 데이터셋 불러오기\n",
    "\n",
    "import os\n",
    "import numpy as np\n",
    "\n",
    "data_dir = './datasets/climate'\n",
    "fname = os.path.join(data_dir, 'jena_climate_2009_2016.csv')\n",
    "\n",
    "with open(fname) as f:\n",
    "    data = f.read()\n",
    "    \n",
    "lines = data.split('\\n')\n",
    "headers = lines[0].split(',')\n",
    "lines = lines[1:]\n",
    "\n",
    "float_data = np.zeros((len(lines), len(headers)-1))\n",
    "\n",
    "for i, line in enumerate(lines):\n",
    "    float_data[i, :] = [float(x) for x in line.split(',')[1:]]\n",
    "\n",
    "mean = float_data[:200000].mean(axis=0)\n",
    "float_data -= mean\n",
    "std = float_data[:200000].std(axis=0)\n",
    "float_data /= std"
   ]
  },
  {
   "cell_type": "code",
   "execution_count": 6,
   "metadata": {},
   "outputs": [],
   "source": [
    "# 2. 파이썬 제너레이터\n",
    "\n",
    "def generator(data, lookback, delay, step=6, \n",
    "              shuffle=False, batch_size=128):\n",
    "    min_idx = 0\n",
    "    max_idx = len(data)-delay-1\n",
    "    \n",
    "    i = min_idx + lookback\n",
    "    \n",
    "    while True:\n",
    "        if shuffle:\n",
    "            rows = np.random.randint(i, max_idx, batch_size)\n",
    "        else:\n",
    "            if (i+batch_size) >= max_idx:\n",
    "                rows = np.arange(i, max_idx)\n",
    "                i = min_idx + lookback\n",
    "                \n",
    "            else:\n",
    "                rows = np.arange(i, i+batch_size)\n",
    "                i += batch_size\n",
    "                \n",
    "        samples = np.zeros((len(rows), lookback//step, data.shape[-1]))\n",
    "        targets = np.zeros((len(rows),))\n",
    "        \n",
    "        for j, row in enumerate(rows):\n",
    "            samples[j] = data[range(rows[j]-lookback, rows[j], step)]\n",
    "            targets[j] = data[rows[j]+delay][1]\n",
    "            \n",
    "        yield samples, targets"
   ]
  },
  {
   "cell_type": "code",
   "execution_count": 7,
   "metadata": {},
   "outputs": [
    {
     "name": "stdout",
     "output_type": "stream",
     "text": [
      "769 930\n"
     ]
    }
   ],
   "source": [
    "lookback = 1440 \n",
    "delay = 144\n",
    "step = 6\n",
    "batch_size = 128\n",
    "\n",
    "train_gen = generator(float_data[:200000],\n",
    "                      lookback=lookback,\n",
    "                      delay=delay,\n",
    "                      step=step,\n",
    "                      shuffle=True,\n",
    "                      batch_size=batch_size)\n",
    "\n",
    "val_gen = generator(float_data[200000:300000],\n",
    "                    lookback=lookback,\n",
    "                    delay=delay,\n",
    "                    step=step,\n",
    "                    batch_size=batch_size)\n",
    "\n",
    "test_gen = generator(float_data[300000:],\n",
    "                     lookback=lookback,\n",
    "                     delay=delay,\n",
    "                     step=step,\n",
    "                     batch_size=batch_size)\n",
    "\n",
    "val_steps = int(np.ceil((300000-200000-lookback-delay-1)/batch_size))\n",
    "test_steps = int(np.ceil((len(float_data)-300000-lookback-delay-1)/batch_size))\n",
    "\n",
    "print(val_steps, test_steps)"
   ]
  },
  {
   "cell_type": "code",
   "execution_count": 8,
   "metadata": {},
   "outputs": [
    {
     "name": "stdout",
     "output_type": "stream",
     "text": [
      "Model: \"sequential_1\"\n",
      "_________________________________________________________________\n",
      "Layer (type)                 Output Shape              Param #   \n",
      "=================================================================\n",
      "conv1d_2 (Conv1D)            (None, None, 32)          2272      \n",
      "_________________________________________________________________\n",
      "max_pooling1d_1 (MaxPooling1 (None, None, 32)          0         \n",
      "_________________________________________________________________\n",
      "conv1d_3 (Conv1D)            (None, None, 32)          5152      \n",
      "_________________________________________________________________\n",
      "max_pooling1d_2 (MaxPooling1 (None, None, 32)          0         \n",
      "_________________________________________________________________\n",
      "conv1d_4 (Conv1D)            (None, None, 32)          5152      \n",
      "_________________________________________________________________\n",
      "global_max_pooling1d_1 (Glob (None, 32)                0         \n",
      "_________________________________________________________________\n",
      "dense_1 (Dense)              (None, 1)                 33        \n",
      "=================================================================\n",
      "Total params: 12,609\n",
      "Trainable params: 12,609\n",
      "Non-trainable params: 0\n",
      "_________________________________________________________________\n"
     ]
    }
   ],
   "source": [
    "from tensorflow.keras.models import Sequential\n",
    "from tensorflow.keras.layers import Conv1D, MaxPooling1D, GlobalMaxPooling1D, Dense\n",
    "from tensorflow.keras.optimizers import RMSprop\n",
    "\n",
    "model = Sequential()\n",
    "\n",
    "model.add(Conv1D(32, 5, activation='relu',\n",
    "                 input_shape=(None, float_data.shape[-1])))\n",
    "model.add(MaxPooling1D(3))\n",
    "model.add(Conv1D(32, 5, activation='relu'))\n",
    "model.add(MaxPooling1D(3))\n",
    "model.add(Conv1D(32, 5, activation='relu'))\n",
    "model.add(GlobalMaxPooling1D())\n",
    "model.add(Dense(1))\n",
    "\n",
    "model.summary()"
   ]
  },
  {
   "cell_type": "code",
   "execution_count": 9,
   "metadata": {},
   "outputs": [
    {
     "name": "stdout",
     "output_type": "stream",
     "text": [
      "Train for 500 steps, validate for 769 steps\n",
      "Epoch 1/20\n",
      "500/500 [==============================] - 14s 28ms/step - loss: 0.4189 - val_loss: 0.4320\n",
      "Epoch 2/20\n",
      "500/500 [==============================] - 12s 24ms/step - loss: 0.3634 - val_loss: 0.4405\n",
      "Epoch 3/20\n",
      "500/500 [==============================] - 13s 25ms/step - loss: 0.3365 - val_loss: 0.4413\n",
      "Epoch 4/20\n",
      "500/500 [==============================] - 13s 25ms/step - loss: 0.3183 - val_loss: 0.4711\n",
      "Epoch 5/20\n",
      "500/500 [==============================] - 13s 26ms/step - loss: 0.3076 - val_loss: 0.4635\n",
      "Epoch 6/20\n",
      "500/500 [==============================] - 14s 29ms/step - loss: 0.2994 - val_loss: 0.4485\n",
      "Epoch 7/20\n",
      "500/500 [==============================] - 14s 28ms/step - loss: 0.2917 - val_loss: 0.4536\n",
      "Epoch 8/20\n",
      "500/500 [==============================] - 14s 27ms/step - loss: 0.2844 - val_loss: 0.4708\n",
      "Epoch 9/20\n",
      "500/500 [==============================] - 14s 27ms/step - loss: 0.2790 - val_loss: 0.4639\n",
      "Epoch 10/20\n",
      "500/500 [==============================] - 14s 28ms/step - loss: 0.2739 - val_loss: 0.4816\n",
      "Epoch 11/20\n",
      "500/500 [==============================] - 13s 27ms/step - loss: 0.2692 - val_loss: 0.4626\n",
      "Epoch 12/20\n",
      "500/500 [==============================] - 14s 28ms/step - loss: 0.2649 - val_loss: 0.4673\n",
      "Epoch 13/20\n",
      "500/500 [==============================] - 14s 28ms/step - loss: 0.2607 - val_loss: 0.4662\n",
      "Epoch 14/20\n",
      "500/500 [==============================] - 14s 28ms/step - loss: 0.2589 - val_loss: 0.4649\n",
      "Epoch 15/20\n",
      "500/500 [==============================] - 13s 27ms/step - loss: 0.2567 - val_loss: 0.4620\n",
      "Epoch 16/20\n",
      "500/500 [==============================] - 14s 29ms/step - loss: 0.2532 - val_loss: 0.4595\n",
      "Epoch 17/20\n",
      "500/500 [==============================] - 14s 28ms/step - loss: 0.2491 - val_loss: 0.4742\n",
      "Epoch 18/20\n",
      "500/500 [==============================] - 13s 26ms/step - loss: 0.2493 - val_loss: 0.4871\n",
      "Epoch 19/20\n",
      "500/500 [==============================] - 13s 27ms/step - loss: 0.2459 - val_loss: 0.4684\n",
      "Epoch 20/20\n",
      "500/500 [==============================] - 13s 25ms/step - loss: 0.2424 - val_loss: 0.4678\n"
     ]
    }
   ],
   "source": [
    "model.compile(loss='mae',\n",
    "              optimizer=RMSprop())\n",
    "\n",
    "history = model.fit(train_gen, \n",
    "                    steps_per_epoch=500,\n",
    "                    epochs=20,\n",
    "                    validation_data=val_gen,\n",
    "                    validation_steps=val_steps)"
   ]
  },
  {
   "cell_type": "code",
   "execution_count": 10,
   "metadata": {},
   "outputs": [
    {
     "data": {
      "image/png": "[encoded data removed]",
      "text/plain": [
       "<Figure size 432x288 with 1 Axes>"
      ]
     },
     "metadata": {
      "needs_background": "light"
     },
     "output_type": "display_data"
    }
   ],
   "source": [
    "import matplotlib.pyplot as plt\n",
    "\n",
    "loss = history.history['loss']\n",
    "val_loss = history.history['val_loss']\n",
    "\n",
    "epochs = range(1, len(loss) + 1)\n",
    "\n",
    "plt.plot(epochs, loss, 'b', label=\"Training Loss\")\n",
    "plt.plot(epochs, val_loss, 'r', label=\"Validation Loss\")\n",
    "plt.title(\"Loss\")\n",
    "plt.legend()\n",
    "\n",
    "plt.show()"
   ]
  },
  {
   "cell_type": "markdown",
   "metadata": {},
   "source": [
    "#### 결과 분석\n",
    "\n",
    "- validation loss(mae)가 6.3절의 상식수준의 기준점을 넘지 못함"
   ]
  },
  {
   "cell_type": "markdown",
   "metadata": {},
   "source": [
    "### CNN을 사용한 모델이 상식수준의 기준점을 넘지 못한 이유\n",
    "\n",
    "- **CNN 모델은 시간 축의 위치를 고려하지 않기 때문**\n",
    "    - CNN 모델의 경우, 최근 데이터 포인트와 오래된 데이터 포인트를 다르게 해석하지 않음\n",
    "    - 온도 예측 문제의 경우, 최근 데이터 포인트가 더 중요함(RNN 모델의 성능이 좋았던 이유)\n",
    "    \n",
    "    \n",
    "### 1D CNN모델을 어떻게 활용해야할까? : 1D CNN + RNN 모델\n",
    "- **1D CNN 모델을 RNN 이전에 전처리 단계로 사용**\n",
    "    - 수천개의 스텝을 가진 시퀀스를 더 짧고 고수준의 특성으로 변환(downsampling)\n",
    "    \n",
    "- CNN 모델을 통해 전처리되어 나온 짧고 고수준인 특성을 RNN으로 학습\n",
    "\n",
    "\n",
    "- **긴 시퀀스를 다룰 수 있음** (매우 효과적)\n",
    "    1. 더 오래전 데이터를 바라볼 수 있음\n",
    "        - 제너레이터의 `lookback` 매개변수를 증가시킬 수 있음\n",
    "        \n",
    "    2. 시게열 데이터를 더 촘촘히 바라볼 수 있음\n",
    "        - 제너레이터의 `step` 매개변수를 감소시킬 수 있음"
   ]
  },
  {
   "cell_type": "markdown",
   "metadata": {},
   "source": [
    "### 1D CNN + RNN 모델 예제 : 데이터 더 촘촘히 바라보기"
   ]
  },
  {
   "cell_type": "code",
   "execution_count": 22,
   "metadata": {},
   "outputs": [
    {
     "name": "stdout",
     "output_type": "stream",
     "text": [
      "769 930\n"
     ]
    }
   ],
   "source": [
    "lookback = 1440 \n",
    "delay = 144\n",
    "\n",
    "# step=6 -> step=3 : 1시간 간격 데이터 -> 30분 간격 데이터\n",
    "step = 3\n",
    "batch_size = 128\n",
    "\n",
    "train_gen = generator(float_data[:200000],\n",
    "                      lookback=lookback,\n",
    "                      delay=delay,\n",
    "                      step=step,\n",
    "                      shuffle=True,\n",
    "                      batch_size=batch_size)\n",
    "\n",
    "val_gen = generator(float_data[200000:300000],\n",
    "                    lookback=lookback,\n",
    "                    delay=delay,\n",
    "                    step=step,\n",
    "                    batch_size=batch_size)\n",
    "\n",
    "test_gen = generator(float_data[300000:],\n",
    "                     lookback=lookback,\n",
    "                     delay=delay,\n",
    "                     step=step,\n",
    "                     batch_size=batch_size)\n",
    "\n",
    "val_steps = int(np.ceil((300000-200000-lookback-delay-1)/batch_size))\n",
    "test_steps = int(np.ceil((len(float_data)-300000-lookback-delay-1)/batch_size))\n",
    "\n",
    "print(val_steps, test_steps)"
   ]
  },
  {
   "cell_type": "code",
   "execution_count": 23,
   "metadata": {},
   "outputs": [
    {
     "name": "stdout",
     "output_type": "stream",
     "text": [
      "Model: \"sequential_6\"\n",
      "_________________________________________________________________\n",
      "Layer (type)                 Output Shape              Param #   \n",
      "=================================================================\n",
      "conv1d_14 (Conv1D)           (None, None, 32)          2272      \n",
      "_________________________________________________________________\n",
      "max_pooling1d_8 (MaxPooling1 (None, None, 32)          0         \n",
      "_________________________________________________________________\n",
      "conv1d_15 (Conv1D)           (None, None, 32)          5152      \n",
      "_________________________________________________________________\n",
      "lstm_3 (LSTM)                (None, 32)                8320      \n",
      "_________________________________________________________________\n",
      "dense_6 (Dense)              (None, 1)                 33        \n",
      "=================================================================\n",
      "Total params: 15,777\n",
      "Trainable params: 15,777\n",
      "Non-trainable params: 0\n",
      "_________________________________________________________________\n"
     ]
    }
   ],
   "source": [
    "from tensorflow.keras.models import Sequential\n",
    "from tensorflow.keras.layers import Conv1D, MaxPooling1D, GlobalMaxPooling1D, Dense\n",
    "from tensorflow.keras.layers import LSTM\n",
    "from tensorflow.keras.optimizers import RMSprop\n",
    "\n",
    "model = Sequential()\n",
    "\n",
    "model.add(Conv1D(32, 5, activation='relu',\n",
    "                 input_shape=(None, float_data.shape[-1])))\n",
    "model.add(MaxPooling1D(3))\n",
    "model.add(Conv1D(32, 5, activation='relu'))\n",
    "\n",
    "model.add(LSTM(32, dropout=0.2, recurrent_dropout=0.2,\n",
    "                     input_shape=(None, float_data.shape[-1])))\n",
    "\n",
    "model.add(Dense(1))\n",
    "\n",
    "model.summary()"
   ]
  },
  {
   "cell_type": "code",
   "execution_count": 24,
   "metadata": {
    "scrolled": true
   },
   "outputs": [
    {
     "name": "stdout",
     "output_type": "stream",
     "text": [
      "Train for 500 steps, validate for 769 steps\n",
      "Epoch 1/20\n",
      "500/500 [==============================] - 61s 122ms/step - loss: 0.3439 - val_loss: 0.2985\n",
      "Epoch 2/20\n",
      "500/500 [==============================] - 59s 118ms/step - loss: 0.3031 - val_loss: 0.2848\n",
      "Epoch 3/20\n",
      "500/500 [==============================] - 59s 118ms/step - loss: 0.2936 - val_loss: 0.2832\n",
      "Epoch 4/20\n",
      "500/500 [==============================] - 59s 117ms/step - loss: 0.2846 - val_loss: 0.2774\n",
      "Epoch 5/20\n",
      "500/500 [==============================] - 60s 119ms/step - loss: 0.2777 - val_loss: 0.2729\n",
      "Epoch 6/20\n",
      "500/500 [==============================] - 59s 118ms/step - loss: 0.2726 - val_loss: 0.2802\n",
      "Epoch 7/20\n",
      "500/500 [==============================] - 59s 118ms/step - loss: 0.2699 - val_loss: 0.2722\n",
      "Epoch 8/20\n",
      "500/500 [==============================] - 59s 118ms/step - loss: 0.2640 - val_loss: 0.2772\n",
      "Epoch 9/20\n",
      "500/500 [==============================] - 59s 118ms/step - loss: 0.2597 - val_loss: 0.2819\n",
      "Epoch 10/20\n",
      "500/500 [==============================] - 59s 119ms/step - loss: 0.2552 - val_loss: 0.2755\n",
      "Epoch 11/20\n",
      "500/500 [==============================] - 59s 118ms/step - loss: 0.2540 - val_loss: 0.2787\n",
      "Epoch 12/20\n",
      "500/500 [==============================] - 59s 117ms/step - loss: 0.2497 - val_loss: 0.2779\n",
      "Epoch 13/20\n",
      "500/500 [==============================] - 58s 116ms/step - loss: 0.2454 - val_loss: 0.2833\n",
      "Epoch 14/20\n",
      "500/500 [==============================] - 58s 117ms/step - loss: 0.2438 - val_loss: 0.2912\n",
      "Epoch 15/20\n",
      "500/500 [==============================] - 59s 117ms/step - loss: 0.2401 - val_loss: 0.2830\n",
      "Epoch 16/20\n",
      "500/500 [==============================] - 60s 120ms/step - loss: 0.2377 - val_loss: 0.2861\n",
      "Epoch 17/20\n",
      "500/500 [==============================] - 59s 118ms/step - loss: 0.2355 - val_loss: 0.2876\n",
      "Epoch 18/20\n",
      "500/500 [==============================] - 60s 119ms/step - loss: 0.2334 - val_loss: 0.2879\n",
      "Epoch 19/20\n",
      "500/500 [==============================] - 59s 118ms/step - loss: 0.2305 - val_loss: 0.2884\n",
      "Epoch 20/20\n",
      "500/500 [==============================] - 60s 119ms/step - loss: 0.2288 - val_loss: 0.2942\n"
     ]
    }
   ],
   "source": [
    "model.compile(loss='mae',\n",
    "              optimizer=RMSprop())\n",
    "\n",
    "history = model.fit(train_gen, \n",
    "                    steps_per_epoch=500,\n",
    "                    epochs=20,\n",
    "                    validation_data=val_gen,\n",
    "                    validation_steps=val_steps)"
   ]
  },
  {
   "cell_type": "code",
   "execution_count": 25,
   "metadata": {},
   "outputs": [
    {
     "data": {
      "image/png": "[encoded data removed]",
      "text/plain": [
       "<Figure size 432x288 with 1 Axes>"
      ]
     },
     "metadata": {
      "needs_background": "light"
     },
     "output_type": "display_data"
    }
   ],
   "source": [
    "import matplotlib.pyplot as plt\n",
    "\n",
    "loss = history.history['loss']\n",
    "val_loss = history.history['val_loss']\n",
    "\n",
    "epochs = range(1, len(loss) + 1)\n",
    "\n",
    "plt.plot(epochs, loss, 'b', label=\"Training Loss\")\n",
    "plt.plot(epochs, val_loss, 'r', label=\"Validation Loss\")\n",
    "plt.title(\"Loss\")\n",
    "plt.legend()\n",
    "\n",
    "plt.show()"
   ]
  },
  {
   "cell_type": "markdown",
   "metadata": {},
   "source": [
    "#### 결과 분석\n",
    "\n",
    "- 6.3절에서 regularization(dropout)을 적용한 모델과 큰 차이는 없지만 성능이 조금 떨어짐\n",
    "    - 하지만 데이터를 2배 더 많이 처리할 수 있음\n",
    "    \n",
    "    \n",
    "- 이 예제에서는 성능이 좋지 않았지만 다른 데이터셋에서는 더 좋은 성능을 낼 수도 있으므로 중요한 방법임"
   ]
  },
  {
   "cell_type": "markdown",
   "metadata": {},
   "source": [
    "## 6.4.5 정리\n",
    "\n",
    "### 이 절에서 배운 내용들\n",
    "#### 2D Convnet이 2D 공간(이미지)의 시각적 패턴을 잘 처리하는 것처럼 1D Convnet은 시간에 따른 패턴을 잘 처리함\n",
    "- 특정 문제에 대해서는 RNN을 대체할 수 있음(최근의 정보가 오래된 과거보다 중요한 경우는 RNN을 사용)\n",
    "    \n",
    "    \n",
    "#### 1D Convnet은 2D Convnet과 비슷하게 구성함\n",
    "- Conv쌓고 Pooling쌓고 GlobalPooling이나 Flatten쌓기\n",
    "    \n",
    "    \n",
    "#### 1D Convnet을 RNN이전의 전처리 단계로 사용하는 것은 좋은 방법\n",
    "- 시퀀스 길이를 줄일 수 있고, 유용한 고수준 표현을 추출해 줌"
   ]
  }
 ],
 "metadata": {
  "kernelspec": {
   "display_name": "Python 3",
   "language": "python",
   "name": "python3"
  },
  "language_info": {
   "codemirror_mode": {
    "name": "ipython",
    "version": 3
   },
   "file_extension": ".py",
   "mimetype": "text/x-python",
   "name": "python",
   "nbconvert_exporter": "python",
   "pygments_lexer": "ipython3",
   "version": "3.7.5"
  }
 },
 "nbformat": 4,
 "nbformat_minor": 2
}
