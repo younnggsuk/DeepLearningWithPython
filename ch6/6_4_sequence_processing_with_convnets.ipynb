{
 "cells": [
  {
   "cell_type": "markdown",
   "metadata": {},
   "source": [
    "# 6.4 컨브넷을 사용한 시퀀스 처리\n",
    "\n",
    "### 1D Convnet\n",
    "\n",
    "- **1D Convnet은 2D Convnet에서의 이미지의 높이, 너비(2차원)를 시간(1차원)으로 바꾼 것**\n",
    "\n",
    "- Convnet이 입력의 부분 패치에서 특성을 뽑아내 구조적인 표현을 만들 수 있다는 특징을 이용\n",
    "    - 1D Convnet의 부분 패치 크기 : (time)\n",
    "    - 2D Convnet의 부분 패치 크기 : (height, width)\n",
    "    \n",
    "    \n",
    "- 1D Convnet은 최근 오디오 생성과 기계 번역 분야에서 큰 성공을 거두었음\n",
    "    \n",
    "    \n",
    "### 1D Convnet의 특징\n",
    "\n",
    "- 1D Convnet은 시퀀스 처리에서 **RNN에 비해 계산비용이 적음**\n",
    "- 1D Convnet은 전형적으로 dilated kernel과 함께 사용됨\n",
    "\n",
    "\n",
    "#### 참고) Dilated convolution\n",
    "\n",
    "- Dilated convolution(팽창 합성곱)은 커널에 구멍을 추가하여 큰 범위로 receptive field를 늘리는 방법\n",
    "    - receptive field는 필터가 보는 영역을 뜻함\n",
    "    \n",
    "\n",
    "- 진한 파랑 아래 그림의 진한 파랑부분만 weight가 있고 나머지 부분(구멍 부분)은 0으로 채워짐\n",
    "\n",
    "\n",
    "<img src=\"./images/dilated_conv.gif\" alt=\"dilated\" align=\"left\"/>"
   ]
  },
  {
   "cell_type": "markdown",
   "metadata": {},
   "source": [
    "## 6.4.1 시퀀스 데이터를 위한 1D 합성곱 이해하기\n",
    "\n",
    "### 1D Convolution의 동작 방식\n",
    "\n",
    "1. 입력 시퀀스에서 시간 축으로 1D 패치(부분 시퀀스)를 추출\n",
    "\n",
    "\n",
    "\n",
    "2. 추출된 패치에 대해 1D 합성곱을 적용\n",
    "    - 합성곱을 통해 나온 출력이 타임스텝이 됨\n",
    "\n",
    "<img src=\"./images/1d_conv.png\" alt=\"1d_conv\" align=\"left\"/>"
   ]
  },
  {
   "cell_type": "markdown",
   "metadata": {},
   "source": [
    "### 시퀀스 지역 패턴 인식\n",
    "\n",
    "- **1D 합성곱 층은 시퀀스의 지역 패턴을 인식할 수 있음**\n",
    "    - 특정 위치에서 학습한 패턴을 나중에 다른 위치에서 인식할 수 있음\n",
    "    - 시퀀스의 시간의 이동에 대한 불변성을 제공\n",
    "    \n",
    "예) 크기가 5인 윈도우를 사용해 문자 시퀀스를 처리하는 경우, 1D Convnet은 5개 이하의 단어나 단어의 부분을 학습하며 이 Convnet은 단어가 입력 시퀀스의 어느 문장에 있더라도 인식할 수 있음\n",
    "        "
   ]
  },
  {
   "cell_type": "markdown",
   "metadata": {},
   "source": [
    "## 6.4.2 시퀀스 데이터를 위한 1D 풀링\n",
    "\n",
    "### 1D Pooling\n",
    "\n",
    "- 1D Pooling은 2D Pooling연산과 마찬가지로 **1D 입력의 길이를 줄이기 위해 사용(subsampling)**\n",
    "- 입력에서 1D 패치(부분 시퀀스)를 추출하고, 최댓값이나 평균값을 출력"
   ]
  },
  {
   "cell_type": "markdown",
   "metadata": {},
   "source": [
    "## 6.4.3 1D 컨브넷 구현\n",
    "\n",
    "### 1D 컨브넷 구현\n",
    "\n",
    "- keras에서는 `Conv1D`를 사용해 구현\n",
    "\n",
    "\n",
    "- 입력 텐서의 크기 : `(samples, time, features)`\n",
    "    - 2D Convnet의 이미지 입력 텐서의 크기`(samples, height, width, features)`에서 height, width가 time이 됨\n",
    "    - 합성곱 윈도우는 시간 축의 1D 윈도우(입력 텐서의 2번째 축)\n",
    "    \n",
    "\n",
    "- 큰 합성곱 윈도우 크기 사용\n",
    "    - 2D 컨브넷에서 크기가 3인 합성곱 윈도우는 3x3=9개의 특성을 고려\n",
    "    - 1D 컨브넷에서 크기가 3인 합성곱 윈도우는 3개의 특성을 고려\n",
    "    - 따라서, 1D 컨브넷에서는 큰 윈도우 크기인 7이나 9를 적용할 수 있음\n",
    "    \n",
    "    \n",
    "### 네트워크 구성 (2D Convnet과 비슷함)\n",
    "\n",
    "1. Conv1D, MaxPooling1D를 쌓음\n",
    "2. 전역 풀링 층이나 Flatten층을 쌓음\n",
    "3. 분류나 회귀를 위한 Dense층을 추가\n",
    "\n",
    "\n",
    "#### 전역 풀링 층\n",
    "\n",
    "- `GlobalAveragePooling1D`, `GlobalMaxPooling1D` : 시간 축 전체에 풀링\n",
    "    - 입력 : `(samples, timesteps, features)`\n",
    "    - 출력 : `(samples, features)`\n",
    "    \n",
    "\n",
    "- `GlobalAveragePooling2D`, `GlobalMaxPooling2D` : 특성 맵의 공간 차원 전체에 대한 풀링\n",
    "    - 입력 : `(samples, height, width, channels)`\n",
    "    - 출력 : `(samples, channels)`"
   ]
  },
  {
   "cell_type": "markdown",
   "metadata": {},
   "source": [
    "### IMDB 감성 분류 예제"
   ]
  },
  {
   "cell_type": "code",
   "execution_count": 33,
   "metadata": {},
   "outputs": [
    {
     "name": "stdout",
     "output_type": "stream",
     "text": [
      "(25000, 500) (25000,)\n",
      "(25000, 500) (25000,)\n"
     ]
    }
   ],
   "source": [
    "from tensorflow.keras.datasets import imdb\n",
    "from tensorflow.keras.preprocessing import sequence\n",
    "\n",
    "max_features = 10000\n",
    "max_len = 500\n",
    "\n",
    "(x_train, y_train), (x_test, y_test) = imdb.load_data(num_words=max_features)\n",
    "\n",
    "x_train = sequence.pad_sequences(x_train, maxlen=max_len)\n",
    "x_test = sequence.pad_sequences(x_test, maxlen=max_len)\n",
    "\n",
    "print(x_train.shape, y_train.shape)\n",
    "print(x_test.shape, y_test.shape)"
   ]
  },
  {
   "cell_type": "code",
   "execution_count": 42,
   "metadata": {
    "scrolled": true
   },
   "outputs": [
    {
     "name": "stdout",
     "output_type": "stream",
     "text": [
      "Model: \"sequential_13\"\n",
      "_________________________________________________________________\n",
      "Layer (type)                 Output Shape              Param #   \n",
      "=================================================================\n",
      "embedding_13 (Embedding)     (None, 500, 32)           320000    \n",
      "_________________________________________________________________\n",
      "conv1d_26 (Conv1D)           (None, 494, 32)           7200      \n",
      "_________________________________________________________________\n",
      "max_pooling1d_26 (MaxPooling (None, 98, 32)            0         \n",
      "_________________________________________________________________\n",
      "conv1d_27 (Conv1D)           (None, 92, 32)            7200      \n",
      "_________________________________________________________________\n",
      "max_pooling1d_27 (MaxPooling (None, 18, 32)            0         \n",
      "_________________________________________________________________\n",
      "global_max_pooling1d_13 (Glo (None, 32)                0         \n",
      "_________________________________________________________________\n",
      "dense_13 (Dense)             (None, 1)                 33        \n",
      "=================================================================\n",
      "Total params: 334,433\n",
      "Trainable params: 334,433\n",
      "Non-trainable params: 0\n",
      "_________________________________________________________________\n"
     ]
    }
   ],
   "source": [
    "import tensorflow.keras.models as models\n",
    "import tensorflow.keras.layers as layers\n",
    "import tensorflow.keras.optimizers as optimizers\n",
    "\n",
    "model = models.Sequential()\n",
    "\n",
    "model.add(layers.Embedding(max_features, 32, input_length=max_len))\n",
    "\n",
    "model.add(layers.Conv1D(32, 7, activation='relu'))\n",
    "model.add(layers.MaxPooling1D(5))\n",
    "model.add(layers.Conv1D(32, 7, activation='relu'))\n",
    "model.add(layers.MaxPooling1D(5))\n",
    "model.add(layers.GlobalMaxPooling1D())\n",
    "\n",
    "model.add(layers.Dense(1))\n",
    "\n",
    "model.summary()"
   ]
  },
  {
   "cell_type": "code",
   "execution_count": 43,
   "metadata": {},
   "outputs": [
    {
     "name": "stdout",
     "output_type": "stream",
     "text": [
      "Train on 20000 samples, validate on 5000 samples\n",
      "Epoch 1/10\n",
      "20000/20000 [==============================] - 3s 135us/sample - loss: 0.7717 - acc: 0.5128 - val_loss: 0.6911 - val_acc: 0.5158\n",
      "Epoch 2/10\n",
      "20000/20000 [==============================] - 3s 129us/sample - loss: 0.6803 - acc: 0.6098 - val_loss: 0.6795 - val_acc: 0.5918\n",
      "Epoch 3/10\n",
      "20000/20000 [==============================] - 2s 117us/sample - loss: 0.6623 - acc: 0.6869 - val_loss: 0.6608 - val_acc: 0.6640\n",
      "Epoch 4/10\n",
      "20000/20000 [==============================] - 2s 105us/sample - loss: 0.6331 - acc: 0.7424 - val_loss: 0.6258 - val_acc: 0.7138\n",
      "Epoch 5/10\n",
      "20000/20000 [==============================] - 2s 107us/sample - loss: 0.5794 - acc: 0.7782 - val_loss: 0.5542 - val_acc: 0.7660\n",
      "Epoch 6/10\n",
      "20000/20000 [==============================] - 2s 120us/sample - loss: 0.4904 - acc: 0.8112 - val_loss: 0.4616 - val_acc: 0.8102\n",
      "Epoch 7/10\n",
      "20000/20000 [==============================] - 2s 98us/sample - loss: 0.4143 - acc: 0.8397 - val_loss: 0.4227 - val_acc: 0.8268\n",
      "Epoch 8/10\n",
      "20000/20000 [==============================] - 2s 101us/sample - loss: 0.3732 - acc: 0.8586 - val_loss: 0.4174 - val_acc: 0.8400\n",
      "Epoch 9/10\n",
      "20000/20000 [==============================] - 2s 111us/sample - loss: 0.3430 - acc: 0.8724 - val_loss: 0.4116 - val_acc: 0.8440\n",
      "Epoch 10/10\n",
      "20000/20000 [==============================] - 2s 104us/sample - loss: 0.3219 - acc: 0.8841 - val_loss: 0.4141 - val_acc: 0.8504\n"
     ]
    }
   ],
   "source": [
    "model.compile(loss='binary_crossentropy',\n",
    "              optimizer=optimizers.RMSprop(lr=0.0001),\n",
    "              metrics=['acc'])\n",
    "\n",
    "history = model.fit(x_train, y_train,\n",
    "                    epochs=10,\n",
    "                    batch_size=128,\n",
    "                    validation_split=0.2)"
   ]
  },
  {
   "cell_type": "code",
   "execution_count": 44,
   "metadata": {},
   "outputs": [
    {
     "data": {
      "image/png": "[encoded data removed]",
      "text/plain": [
       "<Figure size 432x288 with 1 Axes>"
      ]
     },
     "metadata": {
      "needs_background": "light"
     },
     "output_type": "display_data"
    },
    {
     "data": {
      "image/png": "[encoded data removed]",
      "text/plain": [
       "<Figure size 432x288 with 1 Axes>"
      ]
     },
     "metadata": {
      "needs_background": "light"
     },
     "output_type": "display_data"
    }
   ],
   "source": [
    "import matplotlib.pyplot as plt\n",
    "\n",
    "acc = history.history['acc']\n",
    "val_acc = history.history['val_acc']\n",
    "loss = history.history['loss']\n",
    "val_loss = history.history['val_loss']\n",
    "\n",
    "epochs = range(1, len(acc)+1)\n",
    "\n",
    "plt.plot(epochs, acc, 'b', label='train')\n",
    "plt.plot(epochs, val_acc, 'r', label='validation')\n",
    "plt.title(\"Accuracy\")\n",
    "plt.legend()\n",
    "\n",
    "plt.figure()\n",
    "\n",
    "plt.plot(epochs, loss, 'b', label='train')\n",
    "plt.plot(epochs, val_loss, 'r', label='validation')\n",
    "plt.title(\"Loss\")\n",
    "plt.legend()\n",
    "\n",
    "plt.show()"
   ]
  },
  {
   "cell_type": "markdown",
   "metadata": {},
   "source": [
    "#### 결과 분석\n",
    "\n",
    "- 6.2절의 LSTM을 사용한 모델보다 성능은 조금 떨어지만 학습 속도가 약 10배나 빨라짐\n",
    "\n",
    "- 매우 복잡한 문제가 아닌 경우, 순환 네트워크를 대신해 경제적인 1D 컨브넷을 사용할 수 있다는 것을 보여줌"
   ]
  },
  {
   "cell_type": "code",
   "execution_count": null,
   "metadata": {},
   "outputs": [],
   "source": []
  }
 ],
 "metadata": {
  "kernelspec": {
   "display_name": "Python 3",
   "language": "python",
   "name": "python3"
  },
  "language_info": {
   "codemirror_mode": {
    "name": "ipython",
    "version": 3
   },
   "file_extension": ".py",
   "mimetype": "text/x-python",
   "name": "python",
   "nbconvert_exporter": "python",
   "pygments_lexer": "ipython3",
   "version": "3.7.5"
  }
 },
 "nbformat": 4,
 "nbformat_minor": 2
}
