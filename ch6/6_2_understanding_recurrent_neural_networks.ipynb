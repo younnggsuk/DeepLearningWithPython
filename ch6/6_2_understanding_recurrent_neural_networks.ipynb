{
 "cells": [
  {
   "cell_type": "markdown",
   "metadata": {},
   "source": [
    "# 6.2 순환 신경망 이해하기\n",
    "\n",
    "### 순환 신경망\n",
    "\n",
    "- **순환 신경망(Recurrent Neural Network, RNN)**은 시퀀스의 원소를 순회하면서 처리한 정보를 **상태(state)**에 저장하는 신경망의 한 종류\n",
    "- 내부에 루프(loop)를 가지고 있어서 시퀀스의 원소를 차례대로 방문\n",
    "- 하나의 시퀀스가 하나의 데이터 포인트로 간주되며 이 데이터 포인트가 한번에 처리되지 않음(loop가 있어서)\n",
    "\n",
    "\n",
    "#### 피드포워드 네트워크(feedforward network)\n",
    "\n",
    "- RNN과 달리 Fully Connected Network나 Convnet은 메모리가 없으며 입력간에 유지되는 상태가 없음(입력은 개별적으로 처리됨)\n",
    "- 이런 네트워크에서 시퀀스나 시계열 데이터 포인트를 처리하려면 전체 시퀀스를 하나의 데이터 포인트로 변환해야 함\n",
    "- 이런 네트워크를 **피드포워드 네트워크(feedforward network)**라고 함\n",
    "\n",
    "\n",
    "### RNN의 동작\n",
    "\n",
    "1. 크기가 `(timesteps, input_features)`인 2D 텐서 형태로 시퀀스를 입력 받음\n",
    "    - 임베딩 층의 출력이 입력으로 들어온다고 생각하면 (단어 길이, 임베딩 벡터 차원)이라고 볼 수 있음 `(maxlen, embedding_dimensionality)`\n",
    "    \n",
    "    \n",
    "2. 시퀀스는 `timesteps`동안 아래의 과정을 반복함\n",
    "    - 현재 상태(`state_t`)와 입력(`input_t`)을 연결하여 출력을 계산\n",
    "    - 이 출력을 다음 `timestep`의 상태(`state_t`)로 설정\n",
    "\n",
    "\n",
    "    위의 2 과정을 pseudo code로 표현하면 다음과 같음\n",
    "\n",
    "~~~\n",
    "state_t = 0\n",
    "for input_t in input_sequence:\n",
    "    output_t = f(input_t, state_t)\n",
    "    state_t = output_t\n",
    "~~~\n",
    "\n",
    "1. 상태와 입력을 받아 출력하는 함수 f는 activation function으로 볼 수 있음\n",
    "\n",
    "\n",
    "2. 입력과 상태를 출력으로 변환하는 연산은 2개의 행렬 W와 U 그리고 bias 벡터를 사용하는 변환으로 바꿀 수 있음(완전 연결 층의 변환과 유사)\n",
    "\n",
    "\n",
    "    위 두 항목을 적용해 다시 pseudo code로 나타내면 다음과 같음\n",
    "\n",
    "~~~\n",
    "state_t = 0\n",
    "for input_t in input_sequence:\n",
    "    output_t = activation(dot(W, input_t), dot(U, state_t) + b)\n",
    "    state_t = output_t\n",
    "~~~"
   ]
  },
  {
   "cell_type": "code",
   "execution_count": 1,
   "metadata": {},
   "outputs": [
    {
     "name": "stdout",
     "output_type": "stream",
     "text": [
      "입력 크기 : (100, 32)\n",
      "출력 크기 : (100, 64)\n"
     ]
    }
   ],
   "source": [
    "# 넘파이로 간단한 RNN 구현\n",
    "\n",
    "# input_sequence = (timesteps, input_features)\n",
    "# output_sequence = (timesteps, input_features)\n",
    "\n",
    "import numpy as np\n",
    "\n",
    "timesteps = 100\n",
    "input_features = 32\n",
    "output_features = 64\n",
    "\n",
    "input_sequence = np.random.random((timesteps, input_features))\n",
    "\n",
    "W = np.random.random((output_features, input_features))\n",
    "U = np.random.random((output_features, output_features))\n",
    "b = np.random.random((output_features))\n",
    "\n",
    "output_sequence = []\n",
    "\n",
    "state_t = np.random.random((output_features))\n",
    "\n",
    "for input_t in input_sequence:\n",
    "    # activation function을 여기선 tanh를 사용(케라스 SimpleRNN의 기본값은 tanh)\n",
    "    output_t = np.tanh(np.dot(W, input_t)+np.dot(U, state_t)+b)\n",
    "    output_sequence.append(output_t)\n",
    "    \n",
    "    state_t = output_t\n",
    "    \n",
    "# 아래 3개 결과 다 똑같음\n",
    "# output_sequence = np.array(output_sequence)\n",
    "# output_sequence = np.vstack(output_sequence)\n",
    "output_sequence = np.stack(output_sequence, axis=0)\n",
    "\n",
    "\n",
    "print(\"입력 크기 :\", input_sequence.shape)\n",
    "print(\"출력 크기 :\", output_sequence.shape)"
   ]
  },
  {
   "cell_type": "markdown",
   "metadata": {},
   "source": [
    "## 6.2.1 케라스의 순환 층\n",
    "\n",
    "### 케라스의 SimpleRNN\n",
    "\n",
    "- 앞서 간단히 구현한 넘파이 예제가 실제 케라스의 SimpleRNN층의 동작 방식\n",
    "- 케라스의 SimpleRNN은 batch 단위로 시퀀스를 처리한다는 점만 다름\n",
    "    - 앞의 예제에서의 `input = (timesteps, input_features)`\n",
    "    - 케라스 SimpleRNN의 `input = (batch_size, timesteps, input_features)`\n",
    "    \n",
    "    \n",
    "- `SimpleRNN`의 첫번째 매개변수인 `units`는 출력의 차원(넘파이 예제의 `output_features`)을 나타냄\n",
    "- 입력 차원은 이전 층의 출력에 맞춰짐\n",
    "    \n",
    "#### 케라스의 순환 층\n",
    "- 케라스의 모든 순환 층은 2가지 모드로 실행할 수 있음(`return_sequences`매개변수로 설정 가능)\n",
    "    1. 각 타임스텝의 출력을 모은 전체 시퀀스를 반환\n",
    "        - 앞의 넘파이 예제의 output_sequence\n",
    "        - `output = (batch_size, timesteps, output_features)`\n",
    "    2. 마지막 출력만 반환\n",
    "        - 앞의 넘파이 예제의 output_t\n",
    "        - `output = (batch_size, output_features)`\n",
    "   \n",
    "   \n",
    "네트워크의 표현력을 증가시키기 위해 여러 개의 순환 층을 쌓아야 할 경우에는 중간 층들이 전체 시퀀스를 반환하도록 해야함"
   ]
  },
  {
   "cell_type": "code",
   "execution_count": 2,
   "metadata": {},
   "outputs": [
    {
     "name": "stderr",
     "output_type": "stream",
     "text": [
      "Using TensorFlow backend.\n"
     ]
    },
    {
     "name": "stdout",
     "output_type": "stream",
     "text": [
      "Model: \"sequential_1\"\n",
      "_________________________________________________________________\n",
      "Layer (type)                 Output Shape              Param #   \n",
      "=================================================================\n",
      "embedding_1 (Embedding)      (None, 20, 32)            320000    \n",
      "_________________________________________________________________\n",
      "simple_rnn_1 (SimpleRNN)     (None, 20, 64)            6208      \n",
      "=================================================================\n",
      "Total params: 326,208\n",
      "Trainable params: 326,208\n",
      "Non-trainable params: 0\n",
      "_________________________________________________________________\n"
     ]
    }
   ],
   "source": [
    "# 1. 전체 시퀀스 반환 예\n",
    "\n",
    "from keras import models\n",
    "from keras import layers\n",
    "\n",
    "model = models.Sequential()\n",
    "\n",
    "model.add(layers.Embedding(10000, 32, input_length=20))\n",
    "model.add(layers.SimpleRNN(64, return_sequences=True))\n",
    "model.summary()"
   ]
  },
  {
   "cell_type": "code",
   "execution_count": 3,
   "metadata": {},
   "outputs": [
    {
     "name": "stdout",
     "output_type": "stream",
     "text": [
      "Model: \"sequential_2\"\n",
      "_________________________________________________________________\n",
      "Layer (type)                 Output Shape              Param #   \n",
      "=================================================================\n",
      "embedding_2 (Embedding)      (None, 20, 32)            320000    \n",
      "_________________________________________________________________\n",
      "simple_rnn_2 (SimpleRNN)     (None, 64)                6208      \n",
      "=================================================================\n",
      "Total params: 326,208\n",
      "Trainable params: 326,208\n",
      "Non-trainable params: 0\n",
      "_________________________________________________________________\n"
     ]
    }
   ],
   "source": [
    "# 2. 마지막 출력 벡터 반환 예\n",
    "\n",
    "from keras import models\n",
    "from keras import layers\n",
    "\n",
    "model = models.Sequential()\n",
    "\n",
    "model.add(layers.Embedding(10000, 32, input_length=20))\n",
    "model.add(layers.SimpleRNN(64, return_sequences=False))\n",
    "model.summary()"
   ]
  },
  {
   "cell_type": "code",
   "execution_count": 4,
   "metadata": {},
   "outputs": [
    {
     "name": "stdout",
     "output_type": "stream",
     "text": [
      "Model: \"sequential_3\"\n",
      "_________________________________________________________________\n",
      "Layer (type)                 Output Shape              Param #   \n",
      "=================================================================\n",
      "embedding_3 (Embedding)      (None, 20, 32)            320000    \n",
      "_________________________________________________________________\n",
      "simple_rnn_3 (SimpleRNN)     (None, 20, 64)            6208      \n",
      "_________________________________________________________________\n",
      "simple_rnn_4 (SimpleRNN)     (None, 20, 64)            8256      \n",
      "_________________________________________________________________\n",
      "simple_rnn_5 (SimpleRNN)     (None, 20, 64)            8256      \n",
      "_________________________________________________________________\n",
      "simple_rnn_6 (SimpleRNN)     (None, 64)                8256      \n",
      "=================================================================\n",
      "Total params: 350,976\n",
      "Trainable params: 350,976\n",
      "Non-trainable params: 0\n",
      "_________________________________________________________________\n"
     ]
    }
   ],
   "source": [
    "# 3. 여러개의 순환 층을 쌓을 경우\n",
    "\n",
    "from keras import models\n",
    "from keras import layers\n",
    "\n",
    "model = models.Sequential()\n",
    "\n",
    "model.add(layers.Embedding(10000, 32, input_length=20))\n",
    "\n",
    "# 중간 층들은 전체 출력 시퀀스를 반환해야 함\n",
    "model.add(layers.SimpleRNN(64, return_sequences=True))\n",
    "model.add(layers.SimpleRNN(64, return_sequences=True))\n",
    "model.add(layers.SimpleRNN(64, return_sequences=True))\n",
    "\n",
    "# 마지막 층만 출력을 반환할 수 있음\n",
    "model.add(layers.SimpleRNN(64)) \n",
    "\n",
    "model.summary()"
   ]
  },
  {
   "cell_type": "markdown",
   "metadata": {},
   "source": [
    "### IMDB 영화 리뷰 분류 문제에 적용"
   ]
  },
  {
   "cell_type": "code",
   "execution_count": 5,
   "metadata": {},
   "outputs": [
    {
     "name": "stdout",
     "output_type": "stream",
     "text": [
      "(25000, 500) (25000,)\n",
      "(25000, 500) (25000,)\n"
     ]
    }
   ],
   "source": [
    "from keras.datasets import imdb\n",
    "from keras.preprocessing import sequence\n",
    "\n",
    "# 특성으로 사용할 단어 수\n",
    "max_features = 10000\n",
    "\n",
    "# 문자 길이 (500개의 단어)\n",
    "maxlen = 500\n",
    "\n",
    "(x_train, y_train), (x_test, y_test) = imdb.load_data(num_words=max_features)\n",
    "\n",
    "# 500의 문자 길이(timesteps=500)를 가진 시퀀스로 변환\n",
    "x_train = sequence.pad_sequences(x_train, maxlen=maxlen)\n",
    "x_test = sequence.pad_sequences(x_test, maxlen=maxlen)\n",
    "\n",
    "print(x_train.shape, y_train.shape)\n",
    "print(x_test.shape, y_test.shape)"
   ]
  },
  {
   "cell_type": "code",
   "execution_count": 6,
   "metadata": {},
   "outputs": [
    {
     "name": "stdout",
     "output_type": "stream",
     "text": [
      "Model: \"sequential_4\"\n",
      "_________________________________________________________________\n",
      "Layer (type)                 Output Shape              Param #   \n",
      "=================================================================\n",
      "embedding_4 (Embedding)      (None, None, 32)          320000    \n",
      "_________________________________________________________________\n",
      "simple_rnn_7 (SimpleRNN)     (None, 32)                2080      \n",
      "_________________________________________________________________\n",
      "dense_1 (Dense)              (None, 1)                 33        \n",
      "=================================================================\n",
      "Total params: 322,113\n",
      "Trainable params: 322,113\n",
      "Non-trainable params: 0\n",
      "_________________________________________________________________\n"
     ]
    }
   ],
   "source": [
    "from keras import layers\n",
    "from keras import models\n",
    "\n",
    "model = models.Sequential()\n",
    "\n",
    "model.add(layers.Embedding(max_features, 32))\n",
    "model.add(layers.SimpleRNN(32))\n",
    "model.add(layers.Dense(1, activation='sigmoid'))\n",
    "\n",
    "model.summary()"
   ]
  },
  {
   "cell_type": "code",
   "execution_count": 7,
   "metadata": {},
   "outputs": [
    {
     "name": "stderr",
     "output_type": "stream",
     "text": [
      "/home/young/anaconda3/envs/tf_2.0/lib/python3.7/site-packages/tensorflow_core/python/framework/indexed_slices.py:424: UserWarning: Converting sparse IndexedSlices to a dense Tensor of unknown shape. This may consume a large amount of memory.\n",
      "  \"Converting sparse IndexedSlices to a dense Tensor of unknown shape. \"\n"
     ]
    },
    {
     "name": "stdout",
     "output_type": "stream",
     "text": [
      "Train on 20000 samples, validate on 5000 samples\n",
      "Epoch 1/10\n",
      "20000/20000 [==============================] - 21s 1ms/step - loss: 0.6529 - acc: 0.5994 - val_loss: 0.4967 - val_acc: 0.7824\n",
      "Epoch 2/10\n",
      "20000/20000 [==============================] - 20s 1ms/step - loss: 0.4078 - acc: 0.8255 - val_loss: 0.4276 - val_acc: 0.8076\n",
      "Epoch 3/10\n",
      "20000/20000 [==============================] - 23s 1ms/step - loss: 0.2880 - acc: 0.8841 - val_loss: 0.4505 - val_acc: 0.7822\n",
      "Epoch 4/10\n",
      "20000/20000 [==============================] - 21s 1ms/step - loss: 0.2366 - acc: 0.9081 - val_loss: 0.3810 - val_acc: 0.8424\n",
      "Epoch 5/10\n",
      "20000/20000 [==============================] - 21s 1ms/step - loss: 0.1702 - acc: 0.9386 - val_loss: 0.4971 - val_acc: 0.7984\n",
      "Epoch 6/10\n",
      "20000/20000 [==============================] - 21s 1ms/step - loss: 0.1119 - acc: 0.9610 - val_loss: 0.5792 - val_acc: 0.7564\n",
      "Epoch 7/10\n",
      "20000/20000 [==============================] - 21s 1ms/step - loss: 0.0682 - acc: 0.9789 - val_loss: 0.4897 - val_acc: 0.8262\n",
      "Epoch 8/10\n",
      "20000/20000 [==============================] - 21s 1ms/step - loss: 0.0587 - acc: 0.9796 - val_loss: 0.5772 - val_acc: 0.8152\n",
      "Epoch 9/10\n",
      "20000/20000 [==============================] - 21s 1ms/step - loss: 0.1398 - acc: 0.9463 - val_loss: 0.6631 - val_acc: 0.7898\n",
      "Epoch 10/10\n",
      "20000/20000 [==============================] - 21s 1ms/step - loss: 0.0257 - acc: 0.9926 - val_loss: 0.5927 - val_acc: 0.8316\n"
     ]
    }
   ],
   "source": [
    "model.compile(loss='binary_crossentropy',\n",
    "              optimizer='rmsprop',\n",
    "              metrics=['acc'])\n",
    "\n",
    "\n",
    "history = model.fit(x_train, y_train,\n",
    "                    epochs=10,\n",
    "                    batch_size=128,\n",
    "                    validation_split=0.2)"
   ]
  },
  {
   "cell_type": "code",
   "execution_count": 8,
   "metadata": {},
   "outputs": [
    {
     "data": {
      "image/png": "[encoded data removed]",
      "text/plain": [
       "<Figure size 432x288 with 1 Axes>"
      ]
     },
     "metadata": {
      "needs_background": "light"
     },
     "output_type": "display_data"
    },
    {
     "data": {
      "image/png": "[encoded data removed]",
      "text/plain": [
       "<Figure size 432x288 with 1 Axes>"
      ]
     },
     "metadata": {
      "needs_background": "light"
     },
     "output_type": "display_data"
    }
   ],
   "source": [
    "import matplotlib.pyplot as plt\n",
    "\n",
    "acc = history.history['acc']\n",
    "val_acc = history.history['val_acc']\n",
    "\n",
    "loss = history.history['loss']\n",
    "val_loss = history.history['val_loss']\n",
    "\n",
    "epochs = range(1, len(acc)+1)\n",
    "\n",
    "plt.plot(epochs, acc, 'b', label='Training')\n",
    "plt.plot(epochs, val_acc, 'r', label='Validation')\n",
    "plt.title(\"Accuracy\")\n",
    "plt.legend()\n",
    "plt.figure()\n",
    "\n",
    "plt.plot(epochs, loss, 'b', label='Training')\n",
    "plt.plot(epochs, val_loss, 'r', label='Validation')\n",
    "plt.title(\"Loss\")\n",
    "plt.legend()\n",
    "\n",
    "plt.show()"
   ]
  },
  {
   "cell_type": "code",
   "execution_count": 9,
   "metadata": {},
   "outputs": [
    {
     "name": "stdout",
     "output_type": "stream",
     "text": [
      "25000/25000 [==============================] - 17s 696us/step\n",
      "[0.6321302935361862, 0.8226400017738342]\n"
     ]
    }
   ],
   "source": [
    "print(model.evaluate(x_test, y_test))"
   ]
  },
  {
   "cell_type": "markdown",
   "metadata": {},
   "source": [
    "#### 결과 분석\n",
    "- 약 82% 정도의 정확도\n",
    "\n",
    "#### 3장의 FCN(85%)보다 성능이 좋지 않은 이유\n",
    "- 전체 시퀀스가 아닌 500개의 단어만 입력에 사용했기 때문(정보가 적음)\n",
    "- SimpleRNN 모델은 텍스트처럼 긴 시퀀스를 처리하는데 적합하지 않기 때문(더 잘 동작하는 순환 층이 있음)"
   ]
  },
  {
   "cell_type": "markdown",
   "metadata": {},
   "source": [
    "## 6.2.2 LSTM과 GRU 층 이해하기\n",
    "\n",
    "### SimpleRNN의 문제\n",
    "\n",
    "- SimpleRNN은 이론적으로 모든 t에서 이전의 모든 타임스텝의 정보를 유지할 수 있지만 **실제로는 모든 정보를 유지할 수 없는 것이 문제임**\n",
    "- 층이 많은 네트워크에서 나타나는 것과 비슷한 현상인 **그래디언트 소실 문제(vanishing gradient problem)** 때문에 이와 같은 현상이 일어남\n",
    "\n",
    "- **이러한 SimpleRNN의 문제를 해결하기 위해 고안된 모델이 LSTM과 GRU이며 실전에서 더 자주 쓰이는 순환 층 모델임**\n",
    "\n",
    "### LSTM\n",
    "\n",
    "- LSTM(Long Short-Term Memory)은 SimpleRNN에서 정보를 여러 타임 스텝에 걸쳐 나르는 방법이 추가된 모델\n",
    "- **이전의 정보를 전달해주는 데이터 흐름이 하나 더 추가되어 층이 깊어지더라도 그래디언트가 소실되는 것을 막아줌**\n",
    "\n",
    "### LSTM의 동작\n",
    "\n",
    "1. 타임스텝 t에서 추가된 데이터 흐름(`c_t`)이 출력(`output_t`)에 영향을 미침\n",
    "    \n",
    "    \n",
    "    위 과정을 pseudo code로 표현하면 다음과 같음    \n",
    "\n",
    "~~~\n",
    "output_t = activation(c_t) * activation(dot(input_t, Wo) + dot(state_t, Uo) + bo)\n",
    "~~~\n",
    "\n",
    "2. 다음 타임스텝 t에 영향을 미칠 데이터 흐름(`c_t+1`)의 계산은 총 3개의 변환을 가지며 자신만의 가중치 행렬을 가짐(각각 i, f, k로 표시)\n",
    "\n",
    "\n",
    "    위 과정을 pseudo code로 표현하면 다음과 같음\n",
    "    \n",
    "~~~\n",
    "i_t = activation(dot(input_t, Wi) + dot(state_t, Ui) + bi)\n",
    "f_t = activation(dot(input_t, Wf) + dot(state_t, Uf) + bf)\n",
    "k_t = activation(dot(input_t, Wk) + dot(state_t, Uk) + bk)\n",
    "\n",
    "c_t+1 = (i_t*k_t) + (c_t*f_t)\n",
    "~~~\n",
    "\n",
    "\n",
    "### LSTM의 이해\n",
    "\n",
    "앞서 살펴본 동작들을 해석하면 다음과 같음\n",
    "\n",
    "- `i_t와 k_t`는 현재에 대한 정보를 제공하고 이동 트랙을 새로운 정보로 업데이트\n",
    "- `c_t`와 `f_t`의 곱셈은 관련이 적은 정보를 의도적으로 삭제\n",
    "- 위와 같은 해석 때문에 `f_t`는 삭제 게이트(forget gate), `i_t`는 입력 게이트(input gate)라고도 부름\n",
    "\n",
    "하지만 **이러한 해석들은 큰 의미가 없으며** 이유는 다음과 같음\n",
    "\n",
    "1. 이러한 연산들은 가중치 행렬에 따라 결정되며 가중치는 end-to-end방식으로 학습됨\n",
    "2. 이는 매 훈련 반복마다 새로 시작되며 하나하나에 특정 목적을 부여하기 어려움\n",
    "\n",
    "RNN 셀의 사양은 가설 공간을 결정하지만 같은 셀이라도 다른 가중치를 가지는 경우 매우 다른 작업을 수행함\n",
    "\n",
    "따라서 **RNN셀을 구성하는 연산 조합은 엔지니어링적인 설계가 아니라 가설공간의 제약 조건으로 해석하는 것이 더 좋음**\n",
    "\n",
    "연구자에게는 RNN셀의 구현 방법 같은 제약 조건의 선택을 엔지니어보다 최적화 알고리즘에 맡기는 것이 더 나아보일 것이고 미래에는 이렇게 네트워크를 만들게 될 것임\n",
    "\n",
    "요약하면,\n",
    "\n",
    "1. **LSTM의 구체적인 구조에 대해 이해할 필요가 전혀 없음**\n",
    "2. **과거 정보를 다시 주입해서 vanishing gradient problem을 해결하는 LSTM의 역할만 기억하면 됨**"
   ]
  }
 ],
 "metadata": {
  "kernelspec": {
   "display_name": "Python 3",
   "language": "python",
   "name": "python3"
  },
  "language_info": {
   "codemirror_mode": {
    "name": "ipython",
    "version": 3
   },
   "file_extension": ".py",
   "mimetype": "text/x-python",
   "name": "python",
   "nbconvert_exporter": "python",
   "pygments_lexer": "ipython3",
   "version": "3.7.5"
  }
 },
 "nbformat": 4,
 "nbformat_minor": 2
}
